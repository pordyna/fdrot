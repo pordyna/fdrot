{
 "cells": [
  {
   "cell_type": "code",
   "execution_count": 2,
   "metadata": {
    "ExecuteTime": {
     "end_time": "2018-11-13T10:05:50.828304Z",
     "start_time": "2018-11-13T10:05:50.806258Z"
    }
   },
   "outputs": [
    {
     "ename": "ImportError",
     "evalue": "libhdf5.so.10: cannot open shared object file: No such file or directory",
     "output_type": "error",
     "traceback": [
      "\u001b[0;31m---------------------------------------------------------------------------\u001b[0m",
      "\u001b[0;31mImportError\u001b[0m                               Traceback (most recent call last)",
      "\u001b[0;32m<ipython-input-2-129ddf26a4fb>\u001b[0m in \u001b[0;36m<module>\u001b[0;34m()\u001b[0m\n\u001b[0;32m----> 1\u001b[0;31m \u001b[0;32mimport\u001b[0m \u001b[0mopenPMD\u001b[0m\u001b[0;34m\u001b[0m\u001b[0m\n\u001b[0m",
      "\u001b[0;31mImportError\u001b[0m: libhdf5.so.10: cannot open shared object file: No such file or directory"
     ]
    }
   ],
   "source": [
    "import openPMD"
   ]
  },
  {
   "cell_type": "code",
   "execution_count": 2,
   "metadata": {
    "ExecuteTime": {
     "end_time": "2018-11-12T17:16:33.896697Z",
     "start_time": "2018-11-12T17:16:33.879598Z"
    }
   },
   "outputs": [
    {
     "data": {
      "text/plain": [
       "'3.6.6'"
      ]
     },
     "execution_count": 2,
     "metadata": {},
     "output_type": "execute_result"
    }
   ],
   "source": [
    "import platform\n",
    "platform.python_version()"
   ]
  },
  {
   "cell_type": "code",
   "execution_count": 27,
   "metadata": {
    "ExecuteTime": {
     "end_time": "2018-11-12T17:18:54.477176Z",
     "start_time": "2018-11-12T17:18:54.464734Z"
    }
   },
   "outputs": [
    {
     "data": {
      "text/plain": [
       "'0.6.2-alpha'"
      ]
     },
     "execution_count": 27,
     "metadata": {},
     "output_type": "execute_result"
    }
   ],
   "source": [
    "openPMD.__version__"
   ]
  },
  {
   "cell_type": "code",
   "execution_count": 28,
   "metadata": {
    "ExecuteTime": {
     "end_time": "2018-11-12T17:19:14.928683Z",
     "start_time": "2018-11-12T17:19:14.924739Z"
    }
   },
   "outputs": [],
   "source": [
    "path = '/home/pawel/Work/PIConGPU/159_FixPhaseSpaceMomentumMetaData/simOutput/h5/'"
   ]
  },
  {
   "cell_type": "code",
   "execution_count": 29,
   "metadata": {
    "ExecuteTime": {
     "end_time": "2018-11-12T17:19:15.088877Z",
     "start_time": "2018-11-12T17:19:15.084909Z"
    }
   },
   "outputs": [],
   "source": [
    "path1 = '/home/pawel/Work/HOME/Faraday_Rotation/data/example_openPMD_2D/hdf5/'"
   ]
  },
  {
   "cell_type": "code",
   "execution_count": 33,
   "metadata": {
    "ExecuteTime": {
     "end_time": "2018-11-12T17:19:25.069282Z",
     "start_time": "2018-11-12T17:19:25.057248Z"
    }
   },
   "outputs": [
    {
     "data": {
      "text/plain": [
       "'/home/pawel/Work/PIConGPU/159_FixPhaseSpaceMomentumMetaData/simOutput/h5/simData_0T.h5'"
      ]
     },
     "execution_count": 33,
     "metadata": {},
     "output_type": "execute_result"
    }
   ],
   "source": [
    "name = 'simData_0T.h5'\n",
    "full_path = join(path,name)\n",
    "full_path"
   ]
  },
  {
   "cell_type": "code",
   "execution_count": 34,
   "metadata": {
    "ExecuteTime": {
     "end_time": "2018-11-12T17:19:25.736277Z",
     "start_time": "2018-11-12T17:19:25.613669Z"
    }
   },
   "outputs": [
    {
     "name": "stdout",
     "output_type": "stream",
     "text": [
      "simData_0.h5\t simData_2250.h5  simData_3500.h5  simData_5000.h5\r\n",
      "simData_1000.h5  simData_2500.h5  simData_3750.h5  simData_500.h5\r\n",
      "simData_1250.h5  simData_250.h5   simData_4000.h5  simData_750.h5\r\n",
      "simData_1500.h5  simData_2750.h5  simData_4250.h5\r\n",
      "simData_1750.h5  simData_3000.h5  simData_4500.h5\r\n",
      "simData_2000.h5  simData_3250.h5  simData_4750.h5\r\n"
     ]
    }
   ],
   "source": [
    "! ls $path"
   ]
  },
  {
   "cell_type": "code",
   "execution_count": 35,
   "metadata": {
    "ExecuteTime": {
     "end_time": "2018-11-12T17:19:26.165202Z",
     "start_time": "2018-11-12T17:19:26.140827Z"
    }
   },
   "outputs": [
    {
     "ename": "RuntimeError",
     "evalue": "Failed to open HDF5 file /home/pawel/Work/PIConGPU/159_FixPhaseSpaceMomentumMetaData/simOutput/h5/simData_0T.h5",
     "output_type": "error",
     "traceback": [
      "\u001b[0;31m---------------------------------------------------------------------------\u001b[0m",
      "\u001b[0;31mRuntimeError\u001b[0m                              Traceback (most recent call last)",
      "\u001b[0;32m<ipython-input-35-735f44b92d96>\u001b[0m in \u001b[0;36m<module>\u001b[0;34m\u001b[0m\n\u001b[1;32m      1\u001b[0m \u001b[0;34m\u001b[0m\u001b[0m\n\u001b[0;32m----> 2\u001b[0;31m \u001b[0mseries\u001b[0m \u001b[0;34m=\u001b[0m \u001b[0mopenPMD\u001b[0m\u001b[0;34m.\u001b[0m\u001b[0mSeries\u001b[0m\u001b[0;34m(\u001b[0m\u001b[0mfull_path\u001b[0m\u001b[0;34m,\u001b[0m \u001b[0mopenPMD\u001b[0m\u001b[0;34m.\u001b[0m\u001b[0mAccess_Type\u001b[0m\u001b[0;34m.\u001b[0m\u001b[0mread_only\u001b[0m\u001b[0;34m)\u001b[0m\u001b[0;34m\u001b[0m\u001b[0m\n\u001b[0m",
      "\u001b[0;31mRuntimeError\u001b[0m: Failed to open HDF5 file /home/pawel/Work/PIConGPU/159_FixPhaseSpaceMomentumMetaData/simOutput/h5/simData_0T.h5"
     ]
    }
   ],
   "source": [
    "\n",
    "series = openPMD.Series(full_path, openPMD.Access_Type.read_only)"
   ]
  },
  {
   "cell_type": "code",
   "execution_count": 16,
   "metadata": {
    "ExecuteTime": {
     "end_time": "2018-11-12T17:17:33.348779Z",
     "start_time": "2018-11-12T17:17:33.342273Z"
    }
   },
   "outputs": [
    {
     "data": {
      "text/plain": [
       "'2.8.0'"
      ]
     },
     "execution_count": 16,
     "metadata": {},
     "output_type": "execute_result"
    }
   ],
   "source": [
    "h5py.__version__"
   ]
  },
  {
   "cell_type": "code",
   "execution_count": 17,
   "metadata": {
    "ExecuteTime": {
     "end_time": "2018-11-12T17:17:33.807484Z",
     "start_time": "2018-11-12T17:17:33.785721Z"
    }
   },
   "outputs": [
    {
     "ename": "AttributeError",
     "evalue": "'openPMD.Series' object has no attribute 'i'",
     "output_type": "error",
     "traceback": [
      "\u001b[0;31m---------------------------------------------------------------------------\u001b[0m",
      "\u001b[0;31mAttributeError\u001b[0m                            Traceback (most recent call last)",
      "\u001b[0;32m<ipython-input-17-fbdccdc5a1cf>\u001b[0m in \u001b[0;36m<module>\u001b[0;34m\u001b[0m\n\u001b[0;32m----> 1\u001b[0;31m \u001b[0ma\u001b[0m \u001b[0;34m=\u001b[0m \u001b[0mseries\u001b[0m\u001b[0;34m.\u001b[0m\u001b[0mi\u001b[0m\u001b[0;34m\u001b[0m\u001b[0m\n\u001b[0m",
      "\u001b[0;31mAttributeError\u001b[0m: 'openPMD.Series' object has no attribute 'i'"
     ]
    }
   ],
   "source": [
    "a = series.i"
   ]
  },
  {
   "cell_type": "code",
   "execution_count": 122,
   "metadata": {
    "ExecuteTime": {
     "end_time": "2018-11-12T13:20:05.659627Z",
     "start_time": "2018-11-12T13:20:05.646673Z"
    }
   },
   "outputs": [
    {
     "data": {
      "text/plain": [
       "['basePath',\n",
       " 'date',\n",
       " 'iterationEncoding',\n",
       " 'iterationFormat',\n",
       " 'meshesPath',\n",
       " 'openPMD',\n",
       " 'openPMDextension',\n",
       " 'particlesPath',\n",
       " 'software',\n",
       " 'softwareVersion']"
      ]
     },
     "execution_count": 122,
     "metadata": {},
     "output_type": "execute_result"
    }
   ],
   "source": []
  },
  {
   "cell_type": "markdown",
   "metadata": {
    "ExecuteTime": {
     "end_time": "2018-11-09T11:47:21.255985Z",
     "start_time": "2018-11-09T11:47:21.247849Z"
    }
   },
   "source": []
  },
  {
   "cell_type": "code",
   "execution_count": 176,
   "metadata": {
    "ExecuteTime": {
     "end_time": "2018-11-12T14:16:13.024511Z",
     "start_time": "2018-11-12T14:16:13.016037Z"
    }
   },
   "outputs": [],
   "source": [
    "Ex=series.iterations[360].meshes['E']['x']"
   ]
  },
  {
   "cell_type": "code",
   "execution_count": 183,
   "metadata": {
    "ExecuteTime": {
     "end_time": "2018-11-12T14:18:01.596250Z",
     "start_time": "2018-11-12T14:18:01.581928Z"
    }
   },
   "outputs": [
    {
     "data": {
      "text/plain": [
       "numpy.ndarray"
      ]
     },
     "execution_count": 183,
     "metadata": {},
     "output_type": "execute_result"
    }
   ],
   "source": [
    "type(Ex.load_chunk([0,0], Ex.shape))"
   ]
  },
  {
   "cell_type": "code",
   "execution_count": 155,
   "metadata": {
    "ExecuteTime": {
     "end_time": "2018-11-12T13:32:01.677991Z",
     "start_time": "2018-11-12T13:32:01.668884Z"
    }
   },
   "outputs": [
    {
     "data": {
      "text/plain": [
       "'E'"
      ]
     },
     "execution_count": 155,
     "metadata": {},
     "output_type": "execute_result"
    }
   ],
   "source": []
  },
  {
   "cell_type": "code",
   "execution_count": 118,
   "metadata": {
    "ExecuteTime": {
     "end_time": "2018-11-12T13:18:55.878199Z",
     "start_time": "2018-11-12T13:18:55.870688Z"
    }
   },
   "outputs": [],
   "source": [
    "Ex2=series.iterations[365]"
   ]
  },
  {
   "cell_type": "code",
   "execution_count": 121,
   "metadata": {
    "ExecuteTime": {
     "end_time": "2018-11-12T13:19:37.023362Z",
     "start_time": "2018-11-12T13:19:37.008805Z"
    }
   },
   "outputs": [
    {
     "data": {
      "text/plain": [
       "3.2902554378960723e-16"
      ]
     },
     "execution_count": 121,
     "metadata": {},
     "output_type": "execute_result"
    }
   ],
   "source": [
    "(Ex2.time() - Ex.time())/5"
   ]
  },
  {
   "cell_type": "code",
   "execution_count": 21,
   "metadata": {
    "ExecuteTime": {
     "end_time": "2018-11-12T09:47:49.491595Z",
     "start_time": "2018-11-12T09:47:49.472319Z"
    }
   },
   "outputs": [],
   "source": [
    "%qtconsole"
   ]
  },
  {
   "cell_type": "code",
   "execution_count": null,
   "metadata": {},
   "outputs": [],
   "source": []
  }
 ],
 "metadata": {
  "kernelspec": {
   "display_name": "Python 3",
   "language": "python",
   "name": "python3"
  },
  "language_info": {
   "codemirror_mode": {
    "name": "ipython",
    "version": 3
   },
   "file_extension": ".py",
   "mimetype": "text/x-python",
   "name": "python",
   "nbconvert_exporter": "python",
   "pygments_lexer": "ipython3",
   "version": "3.6.2"
  }
 },
 "nbformat": 4,
 "nbformat_minor": 2
}
