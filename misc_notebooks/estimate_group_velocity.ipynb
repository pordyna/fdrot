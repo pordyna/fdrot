{
 "cells": [
  {
   "cell_type": "code",
   "execution_count": 1,
   "metadata": {
    "ExecuteTime": {
     "end_time": "2018-10-19T13:46:49.749226Z",
     "start_time": "2018-10-19T13:46:49.656061Z"
    }
   },
   "outputs": [],
   "source": [
    "import numpy as np"
   ]
  },
  {
   "cell_type": "code",
   "execution_count": 12,
   "metadata": {
    "ExecuteTime": {
     "end_time": "2018-10-19T14:10:05.489711Z",
     "start_time": "2018-10-19T14:10:05.484961Z"
    }
   },
   "outputs": [],
   "source": [
    "from scipy import constants\n",
    "from scipy.constants import physical_constants"
   ]
  },
  {
   "cell_type": "code",
   "execution_count": 10,
   "metadata": {
    "ExecuteTime": {
     "end_time": "2018-10-19T14:02:04.407367Z",
     "start_time": "2018-10-19T14:02:04.396065Z"
    }
   },
   "outputs": [],
   "source": [
    "def plasma_frequency(n_e):\n",
    "    return np.sqrt((n_e * constants.elementary_charge**2) /\n",
    "                   (constants.epsilon_0 * constants.electron_mass))"
   ]
  },
  {
   "cell_type": "code",
   "execution_count": 11,
   "metadata": {
    "ExecuteTime": {
     "end_time": "2018-10-19T14:04:18.876626Z",
     "start_time": "2018-10-19T14:04:18.870827Z"
    }
   },
   "outputs": [],
   "source": [
    "def group_velocity(omega, omega_p):\n",
    "    return constants.speed_of_light * np.sqrt(1 - omega_p/omega)"
   ]
  },
  {
   "cell_type": "code",
   "execution_count": 20,
   "metadata": {
    "ExecuteTime": {
     "end_time": "2018-10-19T14:12:33.994195Z",
     "start_time": "2018-10-19T14:12:33.985056Z"
    }
   },
   "outputs": [],
   "source": [
    "def kev_to_herz(energy):\n",
    "    omega = energy/ physical_constants['Planck constant in eV s'][0]\n",
    "    return omega"
   ]
  },
  {
   "cell_type": "code",
   "execution_count": 38,
   "metadata": {
    "ExecuteTime": {
     "end_time": "2018-10-19T14:18:10.887816Z",
     "start_time": "2018-10-19T14:18:10.876425Z"
    }
   },
   "outputs": [
    {
     "data": {
      "text/plain": [
       "5.6414602269817736e+16"
      ]
     },
     "execution_count": 38,
     "metadata": {},
     "output_type": "execute_result"
    }
   ],
   "source": [
    "plasma_frequency(1e30)"
   ]
  },
  {
   "cell_type": "code",
   "execution_count": 22,
   "metadata": {
    "ExecuteTime": {
     "end_time": "2018-10-19T14:12:34.818676Z",
     "start_time": "2018-10-19T14:12:34.811988Z"
    }
   },
   "outputs": [
    {
     "data": {
      "text/plain": [
       "1.4507935575022518e+18"
      ]
     },
     "execution_count": 22,
     "metadata": {},
     "output_type": "execute_result"
    }
   ],
   "source": [
    "kev_to_herz(6e3)"
   ]
  },
  {
   "cell_type": "code",
   "execution_count": 40,
   "metadata": {
    "ExecuteTime": {
     "end_time": "2018-10-19T14:18:23.857681Z",
     "start_time": "2018-10-19T14:18:23.849327Z"
    }
   },
   "outputs": [
    {
     "data": {
      "text/plain": [
       "0.9365008033655811"
      ]
     },
     "execution_count": 40,
     "metadata": {},
     "output_type": "execute_result"
    }
   ],
   "source": [
    "(group_velocity(kev_to_herz(6e3),plasma_frequency(1e3))) / constants.speed_of_light"
   ]
  },
  {
   "cell_type": "code",
   "execution_count": 57,
   "metadata": {
    "ExecuteTime": {
     "end_time": "2018-10-19T14:23:57.649899Z",
     "start_time": "2018-10-19T14:23:57.633472Z"
    }
   },
   "outputs": [
    {
     "data": {
      "text/plain": [
       "6.712681225919157"
      ]
     },
     "execution_count": 57,
     "metadata": {},
     "output_type": "execute_result"
    }
   ],
   "source": [
    "2e-6/(group_velocity(kev_to_herz(6e3),plasma_frequency(1e29)) ) *1e15"
   ]
  },
  {
   "cell_type": "code",
   "execution_count": 68,
   "metadata": {
    "ExecuteTime": {
     "end_time": "2018-10-19T14:28:39.179649Z",
     "start_time": "2018-10-19T14:28:39.161625Z"
    }
   },
   "outputs": [
    {
     "name": "stdout",
     "output_type": "stream",
     "text": [
      "20: 6.671283849576933\n",
      "21: 6.671288056540204\n",
      "22: 6.671301360178557\n",
      "23: 6.671343430500709\n",
      "24: 6.67147647377877\n",
      "25: 6.67189724595421\n",
      "26: 6.673228368545344\n",
      "27: 6.677442996999979\n",
      "28: 6.690823562998987\n",
      "29: 6.733672015751003\n",
      "30: 6.874790478872795\n",
      "31: 7.387267549224312\n",
      "32: 10.334445535901672\n",
      "33: nan\n",
      "34: nan\n",
      "35: nan\n",
      "36: nan\n",
      "37: nan\n",
      "38: nan\n",
      "39: nan\n"
     ]
    },
    {
     "name": "stderr",
     "output_type": "stream",
     "text": [
      "/home/pawel/anaconda3/lib/python3.6/site-packages/ipykernel_launcher.py:2: RuntimeWarning: invalid value encountered in sqrt\n",
      "  \n"
     ]
    }
   ],
   "source": [
    "for ii in range(20, 40):\n",
    "    value = 2e-6/(group_velocity(kev_to_herz(6e3),plasma_frequency(10**ii))) *1e15\n",
    "    print(\"{}: {}\".format(ii, value))"
   ]
  },
  {
   "cell_type": "code",
   "execution_count": null,
   "metadata": {},
   "outputs": [],
   "source": []
  }
 ],
 "metadata": {
  "kernelspec": {
   "display_name": "Python 3",
   "language": "python",
   "name": "python3"
  },
  "language_info": {
   "codemirror_mode": {
    "name": "ipython",
    "version": 3
   },
   "file_extension": ".py",
   "mimetype": "text/x-python",
   "name": "python",
   "nbconvert_exporter": "python",
   "pygments_lexer": "ipython3",
   "version": "3.6.6"
  }
 },
 "nbformat": 4,
 "nbformat_minor": 2
}
