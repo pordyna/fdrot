{
 "cells": [
  {
   "cell_type": "code",
   "execution_count": 230,
   "metadata": {},
   "outputs": [],
   "source": [
    "import faraday_rotation as fr\n",
    "import matplotlib.pyplot as plt\n",
    "import numpy as np"
   ]
  },
  {
   "cell_type": "code",
   "execution_count": 231,
   "metadata": {},
   "outputs": [],
   "source": [
    "#%qtconsole"
   ]
  },
  {
   "cell_type": "code",
   "execution_count": 232,
   "metadata": {},
   "outputs": [],
   "source": [
    "# target settings:\n",
    "x_s = 0 # start position in x direction, in micron\n",
    "x_e = 7.2 # end position in x direction, in micron\n",
    "y_s = -13.5 # start in y direction, in micron\n",
    "y_e = 13.5 # end in y direction, in micron\n",
    "target_transmission = 0.72"
   ]
  },
  {
   "cell_type": "code",
   "execution_count": 233,
   "metadata": {},
   "outputs": [],
   "source": [
    "target = fr.Target(x_s, x_e, y_s, y_e, target_transmission)"
   ]
  },
  {
   "cell_type": "code",
   "execution_count": 234,
   "metadata": {},
   "outputs": [],
   "source": [
    "# simulation settings:\n",
    "m = 1801 # Nx:grid number in x direction\n",
    "n = 6040 # Ny:grid number if y direction, MUST be an even number\n",
    "timestep = 16 # Number of timesteps in the simulation.\n",
    "energy = 6.457 # Photon energy in keV of processed simulation file.\n",
    "\n",
    "simulation = fr.Simulation(m, n, target, timestep, energy)"
   ]
  },
  {
   "cell_type": "code",
   "execution_count": 235,
   "metadata": {},
   "outputs": [],
   "source": [
    "# optical setup:\n",
    "\n",
    "#Transmission of all channelcuts including spectral bandwidth.\n",
    "trans_channel = 0.43*0.6/0.8 \n",
    "\n",
    "args = (10, # analyser position (mrad)\n",
    "        1e-5, # polarisation impurity\n",
    "        2e-7, # analyse exctinction\n",
    "        6.457, # observation energy\n",
    "        trans_channel, # as above\n",
    "        13, # pixel size\n",
    "        320, # beam width\n",
    "        1e12, # initial number of photons\n",
    "        30, # magnification\n",
    "        1 # Transmission of CRLs due to beam size\n",
    "          # mismatch (asymmetry).\n",
    "       )\n",
    "#analyser_position = 0.75\n",
    "#polarisation_impurity = 1e-7\n",
    "#analyser_exctinction = 2e-7\n",
    "#observation_energy = 6.457\n",
    "#trans_channel = 0.43*0.6/0.8\n",
    "#pixel_size = 13\n",
    "#beam_width = 320\n",
    "#n_0 = 1e12\n",
    "#magnification = 30\n",
    "#trans_telescope = 1\n",
    "\n",
    "config = fr.Configuration(*args)"
   ]
  },
  {
   "cell_type": "code",
   "execution_count": 236,
   "metadata": {},
   "outputs": [],
   "source": [
    "# load simulation data:\n",
    "path_to_file = \"rotation_data/Rotation_16.dat\"\n",
    "#simulation.load_data(path=path_to_file)"
   ]
  },
  {
   "cell_type": "code",
   "execution_count": 237,
   "metadata": {},
   "outputs": [],
   "source": [
    "#np.save('sim', simulation.data)"
   ]
  },
  {
   "cell_type": "code",
   "execution_count": 238,
   "metadata": {},
   "outputs": [],
   "source": [
    "\n",
    "simulation.data = np.load('sim.npy')"
   ]
  },
  {
   "cell_type": "code",
   "execution_count": 239,
   "metadata": {
    "scrolled": true
   },
   "outputs": [],
   "source": [
    "experiment = fr.Detection(config, simulation)"
   ]
  },
  {
   "cell_type": "code",
   "execution_count": 240,
   "metadata": {},
   "outputs": [],
   "source": [
    "experiment.calc_rotation()"
   ]
  },
  {
   "cell_type": "code",
   "execution_count": 241,
   "metadata": {},
   "outputs": [],
   "source": [
    "experiment.calc_det_shape()"
   ]
  },
  {
   "cell_type": "code",
   "execution_count": 242,
   "metadata": {},
   "outputs": [
    {
     "name": "stderr",
     "output_type": "stream",
     "text": [
      "/home/ordyna35/anaconda3/lib/python3.6/site-packages/skimage/transform/_warps.py:105: UserWarning: The default mode, 'constant', will be changed to 'reflect' in skimage 0.15.\n",
      "  warn(\"The default mode, 'constant', will be changed to 'reflect' in \"\n"
     ]
    }
   ],
   "source": [
    "experiment.emulate_intensity()"
   ]
  },
  {
   "cell_type": "code",
   "execution_count": 243,
   "metadata": {},
   "outputs": [
    {
     "data": {
      "text/plain": [
       "160000000.0"
      ]
     },
     "execution_count": 243,
     "metadata": {},
     "output_type": "execute_result"
    }
   ],
   "source": [
    "experiment.cfg.calc_ph_per_px_on_axis()"
   ]
  },
  {
   "cell_type": "code",
   "execution_count": 244,
   "metadata": {},
   "outputs": [],
   "source": [
    "experiment.calc_beam_profile()"
   ]
  },
  {
   "cell_type": "markdown",
   "metadata": {},
   "source": [
    "Displaying meany images with a common norm. (One colorbar, comparable; multiply some if the range is to wide)\n",
    "Look here: https://matplotlib.org/gallery/images_contours_and_fields/multi_image.html "
   ]
  },
  {
   "cell_type": "code",
   "execution_count": 245,
   "metadata": {},
   "outputs": [
    {
     "data": {
      "text/plain": [
       "<matplotlib.image.AxesImage at 0x7fc8cd123550>"
      ]
     },
     "execution_count": 245,
     "metadata": {},
     "output_type": "execute_result"
    },
    {
     "data": {
      "image/png": "[encoded data removed]",
      "text/plain": [
       "<Figure size 432x288 with 1 Axes>"
      ]
     },
     "metadata": {},
     "output_type": "display_data"
    }
   ],
   "source": [
    "plt.imshow(experiment.beam_profile)"
   ]
  },
  {
   "cell_type": "code",
   "execution_count": 246,
   "metadata": {},
   "outputs": [
    {
     "data": {
      "text/plain": [
       "<matplotlib.image.AxesImage at 0x7fc8cd0ef7f0>"
      ]
     },
     "execution_count": 246,
     "metadata": {},
     "output_type": "execute_result"
    },
    {
     "data": {
      "image/png": "[encoded data removed]",
      "text/plain": [
       "<Figure size 432x288 with 1 Axes>"
      ]
     },
     "metadata": {},
     "output_type": "display_data"
    }
   ],
   "source": [
    "plt.imshow(experiment.intensity_px, cmap = 'PRGn')"
   ]
  },
  {
   "cell_type": "code",
   "execution_count": 247,
   "metadata": {},
   "outputs": [
    {
     "data": {
      "text/plain": [
       "<matplotlib.image.AxesImage at 0x7fc8cd03ca58>"
      ]
     },
     "execution_count": 247,
     "metadata": {},
     "output_type": "execute_result"
    },
    {
     "data": {
      "image/png": "[encoded data removed]",
      "text/plain": [
       "<Figure size 432x288 with 1 Axes>"
      ]
     },
     "metadata": {},
     "output_type": "display_data"
    }
   ],
   "source": [
    "plt.imshow(experiment.rotation, cmap='PRGn')"
   ]
  },
  {
   "cell_type": "code",
   "execution_count": 248,
   "metadata": {},
   "outputs": [
    {
     "data": {
      "text/plain": [
       "<matplotlib.image.AxesImage at 0x7fc8cd00ed30>"
      ]
     },
     "execution_count": 248,
     "metadata": {},
     "output_type": "execute_result"
    },
    {
     "data": {
      "image/png": "[encoded data removed]",
      "text/plain": [
       "<Figure size 432x288 with 1 Axes>"
      ]
     },
     "metadata": {},
     "output_type": "display_data"
    }
   ],
   "source": [
    "plt.imshow(experiment.intensity_px*experiment.beam_profile)"
   ]
  },
  {
   "cell_type": "code",
   "execution_count": 249,
   "metadata": {},
   "outputs": [
    {
     "data": {
      "text/plain": [
       "array([[0.00011019, 0.00011019, 0.00011019, ..., 0.00011019, 0.00011019,\n",
       "        0.00011019],\n",
       "       [0.00011019, 0.00011019, 0.00011019, ..., 0.00011019, 0.00011019,\n",
       "        0.00011019],\n",
       "       [0.00011019, 0.00011019, 0.00011019, ..., 0.00011019, 0.00011019,\n",
       "        0.00011019],\n",
       "       ...,\n",
       "       [0.00011019, 0.00011019, 0.00011019, ..., 0.00011019, 0.00011019,\n",
       "        0.00011019],\n",
       "       [0.00011019, 0.00011019, 0.00011019, ..., 0.00011019, 0.00011019,\n",
       "        0.00011019],\n",
       "       [0.00011019, 0.00011019, 0.00011019, ..., 0.00011019, 0.00011019,\n",
       "        0.00011019]])"
      ]
     },
     "execution_count": 249,
     "metadata": {},
     "output_type": "execute_result"
    }
   ],
   "source": [
    "experiment.intensity_px\n"
   ]
  },
  {
   "cell_type": "code",
   "execution_count": 250,
   "metadata": {},
   "outputs": [],
   "source": [
    "experiment.ideal_detector = experiment.beam_profile*experiment.intensity_px"
   ]
  },
  {
   "cell_type": "code",
   "execution_count": 251,
   "metadata": {},
   "outputs": [
    {
     "name": "stdout",
     "output_type": "stream",
     "text": [
      "A\n"
     ]
    }
   ],
   "source": [
    "exp_with_noise = experiment.add_noise(accumulation=30)"
   ]
  },
  {
   "cell_type": "code",
   "execution_count": 252,
   "metadata": {},
   "outputs": [
    {
     "data": {
      "text/plain": [
       "<matplotlib.image.AxesImage at 0x7fc8ccfe50f0>"
      ]
     },
     "execution_count": 252,
     "metadata": {},
     "output_type": "execute_result"
    },
    {
     "data": {
      "image/png": "[encoded data removed]",
      "text/plain": [
       "<Figure size 1440x1440 with 1 Axes>"
      ]
     },
     "metadata": {},
     "output_type": "display_data"
    }
   ],
   "source": [
    "f, ax = plt.subplots(1,1, figsize =(20,20))\n",
    "plt.imshow(exp_with_noise)"
   ]
  },
  {
   "cell_type": "code",
   "execution_count": 253,
   "metadata": {},
   "outputs": [
    {
     "name": "stdout",
     "output_type": "stream",
     "text": [
      "A\n"
     ]
    }
   ],
   "source": [
    "exp_noise_acc = experiment.add_noise(accumulation = 30)"
   ]
  },
  {
   "cell_type": "code",
   "execution_count": 254,
   "metadata": {},
   "outputs": [
    {
     "data": {
      "text/plain": [
       "<matplotlib.image.AxesImage at 0x7fc8ccf3df98>"
      ]
     },
     "execution_count": 254,
     "metadata": {},
     "output_type": "execute_result"
    },
    {
     "data": {
      "image/png": "[encoded data removed]",
      "text/plain": [
       "<Figure size 432x288 with 1 Axes>"
      ]
     },
     "metadata": {},
     "output_type": "display_data"
    }
   ],
   "source": [
    "plt.imshow(exp_noise_acc)"
   ]
  },
  {
   "cell_type": "markdown",
   "metadata": {},
   "source": [
    "(SOLVED) so photons at axis compansate with the polariser, can it be? Add noise just for the beam (no laser, rotation) and see how it looks.\n"
   ]
  },
  {
   "cell_type": "code",
   "execution_count": 255,
   "metadata": {},
   "outputs": [
    {
     "name": "stdout",
     "output_type": "stream",
     "text": [
      "B\n"
     ]
    }
   ],
   "source": [
    "base_noise_acc = experiment.add_noise(accumulation=30, image=experiment.beam_profile)"
   ]
  },
  {
   "cell_type": "code",
   "execution_count": 256,
   "metadata": {},
   "outputs": [
    {
     "data": {
      "text/plain": [
       "<matplotlib.image.AxesImage at 0x7fc8ccebad68>"
      ]
     },
     "execution_count": 256,
     "metadata": {},
     "output_type": "execute_result"
    },
    {
     "data": {
      "image/png": "[encoded data removed]",
      "text/plain": [
       "<Figure size 1440x1440 with 2 Axes>"
      ]
     },
     "metadata": {},
     "output_type": "display_data"
    }
   ],
   "source": [
    "f, ax = plt.subplots(1,2, figsize =(20,20))\n",
    "ax[0].imshow(base_noise_acc)\n",
    "ax[1].imshow(experiment.beam_profile)"
   ]
  },
  {
   "cell_type": "code",
   "execution_count": 257,
   "metadata": {},
   "outputs": [],
   "source": [
    "rot = experiment.reobtain_rotation(exp_noise_acc, base_noise_acc)"
   ]
  },
  {
   "cell_type": "raw",
   "metadata": {},
   "source": [
    "f, ax = plt.subplots(1,1, figsize =(7,7))\n",
    "plt.imshow(rot)"
   ]
  },
  {
   "cell_type": "code",
   "execution_count": 258,
   "metadata": {},
   "outputs": [
    {
     "data": {
      "text/plain": [
       "<matplotlib.image.AxesImage at 0x7fc8ccdf59e8>"
      ]
     },
     "execution_count": 258,
     "metadata": {},
     "output_type": "execute_result"
    },
    {
     "data": {
      "image/png": "[encoded data removed]",
      "text/plain": [
       "<Figure size 1440x1440 with 2 Axes>"
      ]
     },
     "metadata": {},
     "output_type": "display_data"
    }
   ],
   "source": [
    "f, ax = plt.subplots(1,2, figsize =(20,20))\n",
    "ax[0].imshow(rot)\n",
    "ax[1].imshow(experiment.intensity_px)"
   ]
  },
  {
   "cell_type": "code",
   "execution_count": 30,
   "metadata": {},
   "outputs": [],
   "source": [
    "# TODO somehow I cannot get any noise on beam_profile (try on different generated profiles)"
   ]
  }
 ],
 "metadata": {
  "kernelspec": {
   "display_name": "Python 3",
   "language": "python",
   "name": "python3"
  },
  "language_info": {
   "codemirror_mode": {
    "name": "ipython",
    "version": 3
   },
   "file_extension": ".py",
   "mimetype": "text/x-python",
   "name": "python",
   "nbconvert_exporter": "python",
   "pygments_lexer": "ipython3",
   "version": "3.6.6"
  }
 },
 "nbformat": 4,
 "nbformat_minor": 2
}
