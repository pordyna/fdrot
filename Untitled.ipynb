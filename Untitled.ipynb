{
 "cells": [
  {
   "cell_type": "code",
   "execution_count": 1,
   "metadata": {
    "ExecuteTime": {
     "end_time": "2018-08-02T09:31:52.807189Z",
     "start_time": "2018-08-02T09:31:51.922140Z"
    }
   },
   "outputs": [],
   "source": [
    "import seaborn as sns\n",
    "import pickle"
   ]
  },
  {
   "cell_type": "code",
   "execution_count": 2,
   "metadata": {
    "ExecuteTime": {
     "end_time": "2018-08-02T09:34:00.903969Z",
     "start_time": "2018-08-02T09:34:00.863270Z"
    }
   },
   "outputs": [],
   "source": [
    "cmap_rotation_all = sns.diverging_palette(240, 10, s=85, l=30, n=256 , center = 'light', as_cmap=True)\n",
    "cmap_rotation_extrema = sns.diverging_palette(240, 10, s=85, l=30, n=256 , sep=60, center = 'light', as_cmap=True)\n",
    "cmap_beam_profile = sns.cubehelix_palette(256, start=0.5, rot=-0.6, dark=0.15, light=0.9, reverse=True, as_cmap=True)"
   ]
  },
  {
   "cell_type": "code",
   "execution_count": 10,
   "metadata": {
    "ExecuteTime": {
     "end_time": "2018-08-02T09:38:57.447228Z",
     "start_time": "2018-08-02T09:38:57.441895Z"
    }
   },
   "outputs": [],
   "source": [
    "path = 'mpl_cmaps/'"
   ]
  },
  {
   "cell_type": "code",
   "execution_count": 14,
   "metadata": {
    "ExecuteTime": {
     "end_time": "2018-08-02T09:46:36.927922Z",
     "start_time": "2018-08-02T09:46:36.837050Z"
    }
   },
   "outputs": [],
   "source": [
    "with open(path + 'cmap_rotation_all_mpl.pkl', 'wb') as file:\n",
    "    pickle.dump(cmap_rotation_all, file)"
   ]
  },
  {
   "cell_type": "code",
   "execution_count": 15,
   "metadata": {
    "ExecuteTime": {
     "end_time": "2018-08-02T09:46:37.542527Z",
     "start_time": "2018-08-02T09:46:37.472428Z"
    }
   },
   "outputs": [],
   "source": [
    "with open(path + 'cmap_rotation_extrema_mpl.pkl', 'wb') as file:\n",
    "    pickle.dump(cmap_rotation_all, file)"
   ]
  },
  {
   "cell_type": "code",
   "execution_count": 16,
   "metadata": {
    "ExecuteTime": {
     "end_time": "2018-08-02T09:46:37.904961Z",
     "start_time": "2018-08-02T09:46:37.842514Z"
    }
   },
   "outputs": [],
   "source": [
    "with open(path + 'cmap_beam_profile_mpl.pkl', 'wb') as file:\n",
    "    pickle.dump(cmap_beam_profile, file)"
   ]
  },
  {
   "cell_type": "code",
   "execution_count": null,
   "metadata": {},
   "outputs": [],
   "source": []
  }
 ],
 "metadata": {
  "kernelspec": {
   "display_name": "Python 3",
   "language": "python",
   "name": "python3"
  },
  "language_info": {
   "codemirror_mode": {
    "name": "ipython",
    "version": 3
   },
   "file_extension": ".py",
   "mimetype": "text/x-python",
   "name": "python",
   "nbconvert_exporter": "python",
   "pygments_lexer": "ipython3",
   "version": "3.6.2"
  }
 },
 "nbformat": 4,
 "nbformat_minor": 2
}
