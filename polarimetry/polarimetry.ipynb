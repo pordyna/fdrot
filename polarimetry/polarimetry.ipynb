{
 "cells": [
  {
   "cell_type": "code",
   "execution_count": null,
   "metadata": {
    "ExecuteTime": {
     "end_time": "2018-08-31T14:45:54.686020Z",
     "start_time": "2018-08-31T14:45:54.680910Z"
    }
   },
   "outputs": [],
   "source": [
    "import numpy as np\n",
    "import matplotlib as mpl\n",
    "import matplotlib.pyplot as plt\n",
    "from  matplotlib import ticker\n",
    "import seaborn as sns\n",
    "import pickle"
   ]
  },
  {
   "cell_type": "code",
   "execution_count": null,
   "metadata": {
    "ExecuteTime": {
     "end_time": "2018-08-31T14:45:54.861905Z",
     "start_time": "2018-08-31T14:45:54.857806Z"
    }
   },
   "outputs": [],
   "source": [
    "# ! pip install --user seaborn"
   ]
  },
  {
   "cell_type": "code",
   "execution_count": null,
   "metadata": {
    "ExecuteTime": {
     "end_time": "2018-08-31T14:45:55.077815Z",
     "start_time": "2018-08-31T14:45:55.074124Z"
    }
   },
   "outputs": [],
   "source": [
    "from faraday_rotation import Target\n",
    "from faraday_rotation import Simulation\n",
    "from faraday_rotation import Configuration\n",
    "from faraday_rotation import Detection"
   ]
  },
  {
   "cell_type": "markdown",
   "metadata": {},
   "source": [
    "# Introduction\n",
    "This notebook can be used for testing various experimental setups in an x-ray polarimetry experiment using Faraday rotation.\n",
    "\n",
    "In such an experiment a previously linearly polarized beam travels through an optically active sample.\n",
    "Due to the circular birefringence of the material the original polarization changes after passing through the sample. \n",
    "The change in the polarization direction can than be obtained, by placing an analyzer in front of the detector and comparing with a reference measurement (no analyzer). This can be used to obtain information about the structure of the magnetic fields in a plasma (as soon as the electron density is already known), since the Faraday rotation effect in plasma depends on the magnetic field: \n",
    "\n",
    "$$ \\phi = \\frac{e_o}{2 c m_e}\\int_S  \\frac{n_e}{n_c} \\mathbf{B} \\cdot \\mathbf{\\hat{k}} \\ \\mathrm{d}s % Factor is missing$$ \n",
    "\n",
    "$n_e$ - electron density, $\\mathbf{B}$ - B-field, $S$ - x-ray propagation path , $\\phi$ - rotation angle\n",
    "\n",
    "$n_c(\\lambda) = m_e\\varepsilon_0(\\frac{2\\pi c}{e \\lambda})^2$ -electron critical density"
   ]
  },
  {
   "cell_type": "markdown",
   "metadata": {},
   "source": [
    "The rotation can be calculated, by integrating over the simulation output data, but this script uses an already calculated rotation. It can be provided as a text file or a numpy binary file (*.npy). "
   ]
  },
  {
   "cell_type": "markdown",
   "metadata": {},
   "source": [
    "# Setup.\n",
    "## Target.\n",
    "At first some parameters regarding the simulation and the target (grid size, target position, target transmission) have to be set:"
   ]
  },
  {
   "cell_type": "code",
   "execution_count": null,
   "metadata": {
    "ExecuteTime": {
     "end_time": "2018-08-31T14:45:55.838437Z",
     "start_time": "2018-08-31T14:45:55.834551Z"
    }
   },
   "outputs": [],
   "source": [
    "# target settings:\n",
    "target_settings = {\n",
    "    'trans': 0.72 # target transmission\n",
    "}"
   ]
  },
  {
   "cell_type": "code",
   "execution_count": null,
   "metadata": {
    "ExecuteTime": {
     "end_time": "2018-08-31T14:45:56.024705Z",
     "start_time": "2018-08-31T14:45:56.018698Z"
    }
   },
   "outputs": [],
   "source": [
    "# simulation settings:\n",
    "simulation_settings = {\n",
    "    'ta_x_s': 0,  # start position in x direction, in micron\n",
    "    'ta_x_e': 7.2,  # end position in x direction, in micron\n",
    "    'ta_y_s': -13.5,  # start in y direction, in micron\n",
    "    'ta_y_e': 13.5,  # end in y direction, in micron\n",
    "    'm': 1801,  # Nx: grid number in x direction\n",
    "    'n': 6040,  # Ny: grid number if y direction, MUST be an even number\n",
    "    'energy': 6.457  # Photon energy in keV used while calculating rotation.\n",
    "}\n",
    "\n",
    "simulation = Simulation(Target(**target_settings), **simulation_settings)"
   ]
  },
  {
   "cell_type": "code",
   "execution_count": null,
   "metadata": {
    "ExecuteTime": {
     "end_time": "2018-08-31T14:45:56.728261Z",
     "start_time": "2018-08-31T14:45:56.718471Z"
    }
   },
   "outputs": [],
   "source": [
    "%%HTML\n",
    "<style>\n",
    "    figure {\n",
    "    display: block;\n",
    "    margin-top: 2em;\n",
    "    margin-bottom: 2em;\n",
    "    margin-left: 40px;\n",
    "    margin-right: 40px;\n",
    "}\n",
    "</style>"
   ]
  },
  {
   "cell_type": "markdown",
   "metadata": {},
   "source": [
    "## Experimental setup.\n",
    "Now some parameters for the synthetic experiment have to be chosen.\n",
    "\n",
    "Further explanation for some of the variables:\n",
    "\n",
    "- The analyzer position (`an_position`) is defined as its variation from the position providing the maximal extinction. That means, when `an_position` is set to zero, the transmission axis is at an $\\frac{\\pi}{2}$ angle to the primary beam polarization direction. (See the graphic below.)\n",
    "\n",
    "- Polarization impurity (`an_extinction`) is the percentage of the photons remaining polarized perpendicularly to the main polarization of the incoming beam.  \n",
    "- `det_beam_width` is the beam width at the detector. \n",
    "- Magnification (`m`) is the ratio of the target projection at the detector to the actual target size.\n",
    "\n",
    "<!-- Some exemplary values for different CLRs setups and targets:-->\n",
    "<!--\n",
    "<table>\n",
    "\t<tr>\n",
    "    \t<th>target type</th>\n",
    "        <th>setup</th>\n",
    "        <th>magnification</th>\n",
    "    </tr>\n",
    "</table> \n",
    "-->\n",
    "\n",
    "<center>\n",
    "    <figure>\n",
    "        <img src=\"images/angles.png\" width = \"35%\">\n",
    "        <figcaption><b>Figure 1</b> Definition of the angles.</figcaption>\n",
    "    </figure>\n",
    "</center>"
   ]
  },
  {
   "cell_type": "code",
   "execution_count": null,
   "metadata": {
    "ExecuteTime": {
     "end_time": "2018-08-31T14:45:57.066430Z",
     "start_time": "2018-08-31T14:45:57.057764Z"
    }
   },
   "outputs": [],
   "source": [
    "# optical setup:\n",
    "\n",
    "#Transmission of all channelcuts including spectral bandwidth.\n",
    "trans_channel = 0.43*0.6/0.8 # max trans*BW_cc/BW_lcls\n",
    "\n",
    "config_settings = {\n",
    "    'an_position': -10, # analyzer position (mrad)\n",
    "    'impurity': 1e-5,  # polarization impurity (1 = 100%)\n",
    "    'an_extinction': 2e-7,  # analyzer extinction (1 = 100%)\n",
    "    'det_obs_energy': 6.457, # observation energy in keV\n",
    "    'det_trans_channel': trans_channel, # as above\n",
    "    'det_pixel_size': 13,  # pixel size in micrometer (detector)\n",
    "    'det_beam_width': 320,  # beam_width in micrometer 320\n",
    "    'n_0': 1e12,  # initial number of photons\n",
    "    'm': 30,  # magnification\n",
    "    'trans_telescope': 1  # Transmission of CRLs due to beam size\n",
    "        # mismatch (asymmetry).\n",
    "}\n",
    "\n",
    "config = Configuration(**config_settings)"
   ]
  },
  {
   "cell_type": "markdown",
   "metadata": {},
   "source": [
    "## Loading the rotation data.\n",
    "From a text file (with `genfromtext` from `numpy`):"
   ]
  },
  {
   "cell_type": "code",
   "execution_count": null,
   "metadata": {
    "ExecuteTime": {
     "end_time": "2018-08-31T14:45:57.410284Z",
     "start_time": "2018-08-31T14:45:57.403064Z"
    }
   },
   "outputs": [],
   "source": [
    "#load simulation data:\n",
    "#path_to_file = '/home/pawel/Work/TEAM/fwt/members/hs5955/Faraday Rotation/MEC_Ti/Rotation_16.dat'\n",
    "#simulation.load_data(path=path_to_file)"
   ]
  },
  {
   "cell_type": "markdown",
   "metadata": {},
   "source": [
    "It can be saved as a binary file,"
   ]
  },
  {
   "cell_type": "code",
   "execution_count": null,
   "metadata": {
    "ExecuteTime": {
     "end_time": "2018-08-31T14:45:57.750566Z",
     "start_time": "2018-08-31T14:45:57.744047Z"
    }
   },
   "outputs": [],
   "source": [
    "# uncomment & execute for saving.\n",
    "#np.save('sim', simulation.data)"
   ]
  },
  {
   "cell_type": "code",
   "execution_count": null,
   "metadata": {
    "ExecuteTime": {
     "end_time": "2018-08-31T14:45:57.915740Z",
     "start_time": "2018-08-31T14:45:57.910517Z"
    }
   },
   "outputs": [],
   "source": [
    "# Maybe write as an hpy5 file in the openPMD format.\n",
    "# A way of a nice integration with the notebook for calculating rotation."
   ]
  },
  {
   "cell_type": "markdown",
   "metadata": {
    "ExecuteTime": {
     "end_time": "2018-08-02T11:30:41.900313Z",
     "start_time": "2018-08-02T11:30:41.893278Z"
    }
   },
   "source": [
    "or loaded from it."
   ]
  },
  {
   "cell_type": "code",
   "execution_count": null,
   "metadata": {
    "ExecuteTime": {
     "end_time": "2018-08-31T14:45:58.300117Z",
     "start_time": "2018-08-31T14:45:58.248645Z"
    }
   },
   "outputs": [],
   "source": [
    "simulation.data = np.load('sim.npy')"
   ]
  },
  {
   "cell_type": "markdown",
   "metadata": {},
   "source": [
    "# Experiment.\n",
    "With all the parameters set up, the experiment can now be simulated. "
   ]
  },
  {
   "cell_type": "code",
   "execution_count": null,
   "metadata": {
    "ExecuteTime": {
     "end_time": "2018-08-31T14:45:58.642997Z",
     "start_time": "2018-08-31T14:45:58.632469Z"
    },
    "scrolled": true
   },
   "outputs": [],
   "source": [
    "experiment = Detection(config, simulation)"
   ]
  },
  {
   "cell_type": "markdown",
   "metadata": {},
   "source": [
    "Above, a separate observation energy `det_obs_energy`, could be set. \n",
    "The predicted values of the Faraday rotation where calculated for a given photon-energy of the probing beam.\n",
    "The rotation is proportional to the the wave length squared, so the effect can be easily scaled. In the next line the data is fitted to the new observation energy. "
   ]
  },
  {
   "cell_type": "code",
   "execution_count": null,
   "metadata": {
    "ExecuteTime": {
     "end_time": "2018-08-31T14:45:59.072286Z",
     "start_time": "2018-08-31T14:45:58.973581Z"
    }
   },
   "outputs": [],
   "source": [
    "experiment.calc_rotation()"
   ]
  },
  {
   "cell_type": "markdown",
   "metadata": {
    "ExecuteTime": {
     "end_time": "2018-08-02T11:54:28.398432Z",
     "start_time": "2018-08-02T11:54:28.356831Z"
    }
   },
   "source": [
    "The next line creates a detector of the size of the target projection with a spatial resolution determined by the given magnification and pixel size. "
   ]
  },
  {
   "cell_type": "code",
   "execution_count": null,
   "metadata": {
    "ExecuteTime": {
     "end_time": "2018-08-31T14:45:59.373165Z",
     "start_time": "2018-08-31T14:45:59.366530Z"
    }
   },
   "outputs": [],
   "source": [
    "experiment.calc_det_shape()"
   ]
  },
  {
   "cell_type": "markdown",
   "metadata": {
    "ExecuteTime": {
     "end_time": "2018-08-02T12:37:55.010669Z",
     "start_time": "2018-08-02T12:37:55.005502Z"
    }
   },
   "source": [
    "Calculating the transmission through the analyzer for every cell. The analyzer extinction and the polarization impurity are taken into consideration. The obtained intensity profile is then scaled to the detector size and resolution. "
   ]
  },
  {
   "cell_type": "code",
   "execution_count": null,
   "metadata": {
    "ExecuteTime": {
     "end_time": "2018-08-31T14:46:00.184834Z",
     "start_time": "2018-08-31T14:45:59.699093Z"
    },
    "scrolled": true
   },
   "outputs": [],
   "source": [
    "experiment.emulate_intensity()"
   ]
  },
  {
   "cell_type": "markdown",
   "metadata": {},
   "source": [
    "The amount of photons on the axis hast to be estimated. It has been previously calculated for a specific CRL (which?) configuration. Now it's rescaled for the chosen initial number of photons `n_o` and the pixel size `det_pixel_size`.\n",
    "\n",
    "If desired, a different value, from a new calculation, can be specified here. Use `?` for more details (uncomment & execute the following line of code):"
   ]
  },
  {
   "cell_type": "code",
   "execution_count": null,
   "metadata": {
    "ExecuteTime": {
     "end_time": "2018-08-31T14:46:00.191472Z",
     "start_time": "2018-08-31T14:46:00.187692Z"
    }
   },
   "outputs": [],
   "source": [
    "# Detection.calc_ph_per_px_on_axis?"
   ]
  },
  {
   "cell_type": "code",
   "execution_count": null,
   "metadata": {
    "ExecuteTime": {
     "end_time": "2018-08-31T14:46:00.264045Z",
     "start_time": "2018-08-31T14:46:00.253978Z"
    }
   },
   "outputs": [],
   "source": [
    "experiment.cfg.calc_ph_per_px_on_axis()"
   ]
  },
  {
   "cell_type": "markdown",
   "metadata": {
    "ExecuteTime": {
     "end_time": "2018-08-02T12:51:25.931341Z",
     "start_time": "2018-08-02T12:51:25.902235Z"
    }
   },
   "source": [
    "Generating beam profile. It's Gaussian with the standard deviation squared equal to the beam width over the pixel size. "
   ]
  },
  {
   "cell_type": "code",
   "execution_count": null,
   "metadata": {
    "ExecuteTime": {
     "end_time": "2018-08-31T14:46:00.738167Z",
     "start_time": "2018-08-31T14:46:00.732935Z"
    }
   },
   "outputs": [],
   "source": [
    "experiment.calc_beam_profile(x_y_ratio=1)"
   ]
  },
  {
   "cell_type": "markdown",
   "metadata": {},
   "source": [
    "Finally the intensity changes due to passing through the polarizer are applied to the beam profile."
   ]
  },
  {
   "cell_type": "code",
   "execution_count": null,
   "metadata": {
    "ExecuteTime": {
     "end_time": "2018-08-31T14:46:01.146144Z",
     "start_time": "2018-08-31T14:46:01.141236Z"
    }
   },
   "outputs": [],
   "source": [
    "experiment.ideal_detector = experiment.beam_profile*experiment.intensity_px"
   ]
  },
  {
   "cell_type": "markdown",
   "metadata": {
    "ExecuteTime": {
     "end_time": "2018-08-02T13:00:43.264837Z",
     "start_time": "2018-08-02T13:00:43.260176Z"
    }
   },
   "source": [
    "## Noise and noise accumulation."
   ]
  },
  {
   "cell_type": "markdown",
   "metadata": {},
   "source": [
    "For more realistic output some noise is added. To make the data usable again, it is possible to generate images with a different random noise and accumulate them. This can help with estimating, how many single measurements will be needed. "
   ]
  },
  {
   "cell_type": "code",
   "execution_count": null,
   "metadata": {
    "ExecuteTime": {
     "end_time": "2018-08-31T14:46:01.759472Z",
     "start_time": "2018-08-31T14:46:01.755797Z"
    }
   },
   "outputs": [],
   "source": [
    "# A noisy image without accumulation. For comparison. \n",
    "exp_with_noise = experiment.add_noise(accumulation=1)"
   ]
  },
  {
   "cell_type": "code",
   "execution_count": null,
   "metadata": {
    "ExecuteTime": {
     "end_time": "2018-08-31T14:46:01.970933Z",
     "start_time": "2018-08-31T14:46:01.961201Z"
    }
   },
   "outputs": [],
   "source": [
    "# This generates an image integrated over noisy images.\n",
    "accumulation = 30\n",
    "exp_noise_acc = experiment.add_noise(accumulation=accumulation) "
   ]
  },
  {
   "cell_type": "markdown",
   "metadata": {},
   "source": [
    "The same thing can be done for the reference image. "
   ]
  },
  {
   "cell_type": "code",
   "execution_count": null,
   "metadata": {
    "ExecuteTime": {
     "end_time": "2018-08-31T14:46:02.399930Z",
     "start_time": "2018-08-31T14:46:02.391360Z"
    }
   },
   "outputs": [],
   "source": [
    "base_noise_acc = experiment.add_noise(accumulation=accumulation,\n",
    "                                      image=experiment.beam_profile)\n"
   ]
  },
  {
   "cell_type": "markdown",
   "metadata": {},
   "source": [
    "## Threshold.\n",
    "To avoid artifacts occurring due to the bad statistic on pixels far away from the beam center, it is possible to set a threshold for the number of accumulated photons, from which the data would be used in further calculations. \n",
    "\n",
    "The threshold can be applied either on the output of the reference experiment (default), or the experiment with the polarizer.\n"
   ]
  },
  {
   "cell_type": "code",
   "execution_count": null,
   "metadata": {
    "ExecuteTime": {
     "end_time": "2018-08-31T14:46:02.879041Z",
     "start_time": "2018-08-31T14:46:02.873314Z"
    }
   },
   "outputs": [],
   "source": [
    "# Choose if (and where) the threshold should be applied.\n",
    "threshold_on = True\n",
    "threshold_based_on_reference = True  # otherwise the other output."
   ]
  },
  {
   "cell_type": "code",
   "execution_count": null,
   "metadata": {
    "ExecuteTime": {
     "end_time": "2018-08-31T14:46:03.179625Z",
     "start_time": "2018-08-31T14:46:03.172602Z"
    }
   },
   "outputs": [],
   "source": [
    "if threshold_based_on_reference & threshold_on == True:  \n",
    "    # choose the threshold:\n",
    "        # The maximal difference in order of magnitute, beetwen the overall\n",
    "        # intitall photon number and the accepted value:\n",
    "    diff_in_order = 4 \n",
    "    threshold1 = 10 ** -diff_in_order *experiment.cfg.n_0\n",
    "    \n",
    "    print((\"Threshold is {:.3e} photons and it's applied\"\n",
    "          \"to the base line.\").format(threshold1))\n",
    "    # Feel free to overwrite with  your own threshold value.\n",
    "    # threshold1 = ...\n",
    "    \n",
    "    # mark the invalid data points:\n",
    "    cut_off_base_noise_acc = np.ma.masked_less(base_noise_acc, threshold1)\n",
    "    cut_off_exp_noise_acc = exp_noise_acc  # stays unchanged.\n",
    "    \n",
    "elif threshold_on:\n",
    "    # set the threshold:\n",
    "    threshold2= 30 * 100\n",
    "    print((\"Threshold is {:.3e} photons and it's applied\" \n",
    "          \" to the outcome with the polarizer.\").format(threshold2))\n",
    "\n",
    "    cut_off_exp_noise_acc = np.ma.masked_less(exp_noise_acc, threshold2)\n",
    "    # rule out zeros in the reference output,to avoid division by zero. \n",
    "    cut_off_base_noise_acc = np.ma.masked_equal(base_noise_acc, 0)"
   ]
  },
  {
   "cell_type": "markdown",
   "metadata": {
    "ExecuteTime": {
     "end_time": "2018-08-02T13:13:41.315201Z",
     "start_time": "2018-08-02T13:13:41.312086Z"
    }
   },
   "source": [
    "## Reobtaining the Faraday rotation.\n",
    "\n",
    "A the end, the rotation can be obtained, pixel wise, from the generated image, by reversing the previous calculation. "
   ]
  },
  {
   "cell_type": "code",
   "execution_count": null,
   "metadata": {
    "ExecuteTime": {
     "end_time": "2018-08-31T14:46:03.866168Z",
     "start_time": "2018-08-31T14:46:03.858891Z"
    }
   },
   "outputs": [],
   "source": [
    "if threshold_on == True:\n",
    "    rot = experiment.reobtain_rotation(cut_off_exp_noise_acc,\n",
    "                                       cut_off_base_noise_acc)\n",
    "else:\n",
    "    rot = experiment.reobtain_rotation(exp_noise_acc, base_noise_acc)"
   ]
  },
  {
   "cell_type": "markdown",
   "metadata": {},
   "source": [
    "# Outcome.\n",
    "## Plots.\n",
    "### Setup."
   ]
  },
  {
   "cell_type": "code",
   "execution_count": null,
   "metadata": {
    "ExecuteTime": {
     "end_time": "2018-08-31T14:46:04.604213Z",
     "start_time": "2018-08-31T14:46:04.595973Z"
    }
   },
   "outputs": [],
   "source": [
    "%matplotlib inline"
   ]
  },
  {
   "cell_type": "code",
   "execution_count": null,
   "metadata": {
    "ExecuteTime": {
     "end_time": "2018-08-31T14:46:04.998734Z",
     "start_time": "2018-08-31T14:46:04.969132Z"
    }
   },
   "outputs": [],
   "source": [
    "# generate matplotlib cmaps with seaborn:\n",
    "cmap_rotation_all = sns.diverging_palette(240, 10, s=85, l=30, n=256 ,\n",
    "                                          center = 'light',\n",
    "                                          as_cmap=True)\n",
    "cmap_rotation_extrema = sns.diverging_palette(240, 10, s=85, l=30, n=256 ,\n",
    "                                              sep=60, center = 'light',\n",
    "                                              as_cmap=True)\n",
    "cmap_beam_profile = sns.cubehelix_palette(256, start=0.5, rot=-0.6, dark=0.15,\n",
    "                                          light=0.9, reverse=True,\n",
    "                                          as_cmap=True)\n",
    "\n",
    "# set color of the pixels marked as invalid. \n",
    "# Doesn't affect anything, if the threshold is used. \n",
    "for cmap in [cmap_rotation_all, cmap_rotation_extrema]:\n",
    "    cmap.set_bad('white')"
   ]
  },
  {
   "cell_type": "code",
   "execution_count": null,
   "metadata": {
    "ExecuteTime": {
     "end_time": "2018-08-31T14:46:05.426848Z",
     "start_time": "2018-08-31T14:46:05.420434Z"
    }
   },
   "outputs": [],
   "source": [
    "# Specify tittles for the plotts:\n",
    "rotation_tittle = 'Faraday rotation \\n (Input data).\\n'\n",
    "    \n",
    "intensity_px_tittle = ('Transmission through polarizer \\n' \n",
    "                        'at {} mrad with {:.2e} extinction \\n'\n",
    "                        'and {:.2e} impurity.\\n'\n",
    "                        ).format(experiment.cfg.an_position,\n",
    "                                experiment.cfg.an_extinction,\n",
    "                                experiment.cfg.impurity)\n",
    "                                                \n",
    "re_rot_tittle = ('Reconstructed map of Faraday rotation. \\n'\n",
    "                  'Integration of {} shots.\\n'\n",
    "                  '(White - below threshold.)\\n'\n",
    "                  ).format(accumulation)\n",
    "\n",
    "base_noise_acc_tittle = ('Reference image.\\n'\n",
    "                         'Integration of {} shots \\n').format(accumulation)\n",
    "exp_with_noise_tittle = 'Noisy signal, with polarizer. \\n No accumulation\\n'\n",
    "exp_noise_acc_tittle = ('Main signal (with polarizer)\\n'\n",
    "                       'Integration of {} shots\\n.'\n",
    "                        ).format(accumulation)\n"
   ]
  },
  {
   "cell_type": "code",
   "execution_count": null,
   "metadata": {
    "ExecuteTime": {
     "end_time": "2018-08-31T14:46:05.826532Z",
     "start_time": "2018-08-31T14:46:05.821450Z"
    }
   },
   "outputs": [],
   "source": [
    "exp_noise_acc_tittle"
   ]
  },
  {
   "cell_type": "code",
   "execution_count": null,
   "metadata": {
    "ExecuteTime": {
     "end_time": "2018-08-31T14:46:06.190518Z",
     "start_time": "2018-08-31T14:46:06.186364Z"
    }
   },
   "outputs": [],
   "source": [
    "# Image boundaries, used for correct ticks labeling:\n",
    "edges = (experiment.sim.ta_x_s, experiment.sim.ta_x_e,\n",
    "         experiment.sim.ta_y_s, experiment.sim.ta_y_e)"
   ]
  },
  {
   "cell_type": "code",
   "execution_count": null,
   "metadata": {
    "ExecuteTime": {
     "end_time": "2018-08-31T14:46:06.604632Z",
     "start_time": "2018-08-31T14:46:06.581806Z"
    },
    "code_folding": []
   },
   "outputs": [],
   "source": [
    "def plot_rot(cmap, figsize, edges, rotation=None, rotation_tittle=None,\n",
    "             intensity_px=None, intensity_px_tittle=None,\n",
    "             re_rot=None, re_rot_tittle=None):\n",
    "    \n",
    "    n_plots = 0 \n",
    "    # Check how meany plots are plotted:\n",
    "    if rotation is not None:\n",
    "        n_plots += 1\n",
    "    if intensity_px is not None:\n",
    "        n_plots += 1 \n",
    "    if re_rot is not None:\n",
    "        n_plots += 1\n",
    "    \n",
    "    if n_plots == 0:\n",
    "        return 0\n",
    "\n",
    "    # Generate subplots:\n",
    "    rot_fig, axis = plt.subplots(1, n_plots, figsize=figsize)\n",
    "     \n",
    "    # Symmetric norm, same for input and output data (when both are plotted).\n",
    "    if rotation is not None and re_rot is not None:\n",
    "        v_max = max([abs(np.min(rotation)), abs(np.min(re_rot)),\n",
    "                 abs(np.max(rotation)), abs(np.max(re_rot))])\n",
    "        norm = mpl.colors.Normalize(vmin=-v_max, vmax=v_max)\n",
    "        \n",
    "    elif rotation is not None:\n",
    "        v_max = max([abs(np.min(rotation)), abs(np.max(rotation))])\n",
    "        norm = mpl.colors.Normalize(vmin=-v_max, vmax=v_max)\n",
    "                     \n",
    "    elif re_rot is not None:\n",
    "        v_max = max([abs(np.min(re_rot)), abs(np.max(re_rot))])\n",
    "        norm = mpl.colors.Normalize(vmin=-v_max, vmax=v_max)\n",
    "    \n",
    "    c_bars = [None] * n_plots\n",
    "\n",
    "    # PLoting and setting color bars and descritpions:\n",
    "    if rotation is not None:\n",
    "        axis[0].set_title(rotation_tittle)\n",
    "        axis[0].imshow(rotation, extent=edges, cmap=cmap, norm=norm)\n",
    "        c_bars[0] = rot_fig.colorbar(axis[0].images[0], ax = axis[0])\n",
    "        c_bars[0].ax.set_title('[mrad]')\n",
    "                     \n",
    "        if  intensity_px is not None:\n",
    "            axis[1].set_title(intensity_px_tittle)\n",
    "            axis[1].imshow(intensity_px, extent=edges, cmap=cmap)\n",
    "            c_bars[1] = rot_fig.colorbar(axis[1].images[0], ax = axis[1],\n",
    "                                 format=ticker.StrMethodFormatter('{x:.2e}'))\n",
    "        \n",
    "            if re_rot is not None:\n",
    "                axis[2].set_title(re_rot_tittle)\n",
    "                axis[2].imshow(re_rot, extent=edges, cmap=cmap, norm=norm)\n",
    "                c_bars[2] = rot_fig.colorbar(axis[2].images[0], ax = axis[2])     \n",
    "                c_bars[2].ax.set_title('[mrad]')          \n",
    "                \n",
    "        elif re_rot is not None:\n",
    "            axis[1].set_title(re_rot_tittle)\n",
    "            axis[1].imshow(re_rot, extent=edges, cmap=cmap, norm=norm)\n",
    "            c_bars[1] = rot_fig.colorbar(axis[1].images[0], ax = axis[1])     \n",
    "            c_bars[1].ax.set_title('[mrad]')\n",
    "    elif intensity_px is not None:\n",
    "        axis[1].set_title(intensity_px_tittle)\n",
    "        axis[1].imshow(intensity_px, extent=edges, cmap=cmap)\n",
    "        c_bars[0] = rot_fig.colorbar(axis[0].images[0], ax = axis[0],\n",
    "                                 format=ticker.StrMethodFormatter('{x:.2e}'))            \n",
    "        if re_rot is not None:\n",
    "            axis[1].set_title(re_rot_tittle)\n",
    "            axis[1].imshow(re_rot, extent=edges, cmap=cmap, norm=norm)\n",
    "            c_bars[1] = rot_fig.colorbar(axis[1].images[0], ax = axis[1])     \n",
    "            c_bars[1].ax.set_title('[mrad]')     \n",
    "    else:\n",
    "        axis[0].set_title(re_rot_tittle)\n",
    "        axis[0].imshow(re_rot, extent=edges, cmap=cmap, norm=norm)     \n",
    "        c_bars[0] = rot_fig.colorbar(axis[0].images[0], ax = axis[0])           \n",
    "        c_bars[0].ax.set_title('[mrad]')\n",
    "    \n",
    "    # Some extra settings for the ticks.\n",
    "    for ax in axis:\n",
    "        ax.xaxis.set_major_locator(ticker.MaxNLocator(nbins = 'auto',\n",
    "                                                      prune=None))\n",
    "        ax.yaxis.set_major_locator(ticker.MaxNLocator(nbins = 'auto',\n",
    "                                                      prune=None))\n",
    "\n",
    "    plt.tight_layout()  \n",
    "    \n",
    "    return rot_fig"
   ]
  },
  {
   "cell_type": "code",
   "execution_count": null,
   "metadata": {
    "ExecuteTime": {
     "end_time": "2018-08-31T14:46:06.971448Z",
     "start_time": "2018-08-31T14:46:06.964199Z"
    },
    "code_folding": []
   },
   "outputs": [],
   "source": [
    "def plot_det(cmap, figsize, edges, base_noise_acc, base_noise_acc_tittle,\n",
    "         exp_with_noise, exp_with_noise_tittle, exp_noise_acc, \n",
    "             exp_noise_acc_tittle):\n",
    "    \n",
    "    exp_fig, axis = plt.subplots(1, 3, figsize=figsize)\n",
    "\n",
    "\n",
    "    axis[0].set_title(base_noise_acc_tittle)\n",
    "    axis[1].set_title(exp_with_noise_tittle)\n",
    "    axis[2].set_title(exp_noise_acc_tittle)\n",
    "    # Image boundaries, used for correct ticks labeling:\n",
    "\n",
    "    axis[0].imshow(base_noise_acc, extent=edges, cmap=cmap)\n",
    "    axis[1].imshow(exp_with_noise, extent=edges, cmap=cmap)\n",
    "    axis[2].imshow(exp_noise_acc, extent=edges, cmap=cmap)\n",
    "    \n",
    "    c_bars = [None] * 3\n",
    "    for ax in axis:\n",
    "        # Add colorbars:\n",
    "        exp_fig.colorbar(ax.images[0], ax = ax, format = ticker.StrMethodFormatter('{x:.1e}'))\n",
    "    plt.tight_layout() \n",
    "    \n",
    "    return exp_fig"
   ]
  },
  {
   "cell_type": "markdown",
   "metadata": {},
   "source": [
    "### Plotting.\n",
    "Figures can be plotted with any of the following subplots :\n",
    " - input rotation,\n",
    " - analyzer profile,\n",
    " - reobtained rotation.\n",
    "  \n",
    " Set the corresponding optional arguments(`rotation`,`intensity_px`,`re_rot`), when calling the `plot_rot` function:\n",
    " "
   ]
  },
  {
   "cell_type": "code",
   "execution_count": null,
   "metadata": {
    "ExecuteTime": {
     "end_time": "2018-08-31T14:46:09.092922Z",
     "start_time": "2018-08-31T14:46:07.666356Z"
    },
    "scrolled": false
   },
   "outputs": [],
   "source": [
    "rot_fig = plot_rot(cmap_rotation_all, (15,8), edges,\n",
    "                   rotation=experiment.rotation,\n",
    "                   rotation_tittle = rotation_tittle,\n",
    "                   intensity_px=experiment.intensity_px,\n",
    "                   intensity_px_tittle=intensity_px_tittle,\n",
    "                   re_rot=rot,\n",
    "                   re_rot_tittle=re_rot_tittle)"
   ]
  },
  {
   "cell_type": "markdown",
   "metadata": {},
   "source": [
    "Figures can be saved:"
   ]
  },
  {
   "cell_type": "code",
   "execution_count": null,
   "metadata": {
    "ExecuteTime": {
     "end_time": "2018-08-31T14:46:09.099531Z",
     "start_time": "2018-08-31T14:46:09.096030Z"
    }
   },
   "outputs": [],
   "source": [
    "# rot_fig.savefig('rot.png')"
   ]
  },
  {
   "cell_type": "code",
   "execution_count": null,
   "metadata": {
    "ExecuteTime": {
     "end_time": "2018-08-31T14:46:10.608445Z",
     "start_time": "2018-08-31T14:46:09.102312Z"
    }
   },
   "outputs": [],
   "source": [
    "rot_fig = plot_rot(cmap_rotation_extrema, (15,8), edges,\n",
    "                   rotation=experiment.rotation,\n",
    "                   rotation_tittle = rotation_tittle,\n",
    "                   intensity_px=experiment.intensity_px,\n",
    "                   intensity_px_tittle=intensity_px_tittle,\n",
    "                   re_rot=rot,\n",
    "                   re_rot_tittle=re_rot_tittle)"
   ]
  },
  {
   "cell_type": "markdown",
   "metadata": {
    "ExecuteTime": {
     "end_time": "2018-08-31T14:33:12.056145Z",
     "start_time": "2018-08-31T14:33:12.047487Z"
    }
   },
   "source": [
    "Plotting detected signals:"
   ]
  },
  {
   "cell_type": "code",
   "execution_count": null,
   "metadata": {
    "ExecuteTime": {
     "end_time": "2018-08-31T14:46:11.450726Z",
     "start_time": "2018-08-31T14:46:10.611486Z"
    }
   },
   "outputs": [],
   "source": [
    "det_figure = plot_det(cmap_beam_profile, (15,8), edges, base_noise_acc,\n",
    "                      base_noise_acc_tittle,\n",
    "                      exp_with_noise, exp_with_noise_tittle,\n",
    "                      exp_noise_acc, exp_noise_acc_tittle)"
   ]
  },
  {
   "cell_type": "markdown",
   "metadata": {},
   "source": [
    "## Numerical output."
   ]
  },
  {
   "cell_type": "code",
   "execution_count": null,
   "metadata": {
    "ExecuteTime": {
     "end_time": "2018-08-31T14:40:47.375961Z",
     "start_time": "2018-08-31T14:40:47.363953Z"
    }
   },
   "outputs": [],
   "source": []
  }
 ],
 "metadata": {
  "celltoolbar": "Raw Cell Format",
  "kernelspec": {
   "display_name": "Python 3",
   "language": "python",
   "name": "python3"
  },
  "language_info": {
   "codemirror_mode": {
    "name": "ipython",
    "version": 3
   },
   "file_extension": ".py",
   "mimetype": "text/x-python",
   "name": "python",
   "nbconvert_exporter": "python",
   "pygments_lexer": "ipython3",
   "version": "3.6.6"
  }
 },
 "nbformat": 4,
 "nbformat_minor": 2
}
