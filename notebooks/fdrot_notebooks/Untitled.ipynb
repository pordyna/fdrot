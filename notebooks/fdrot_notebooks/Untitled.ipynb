{
 "cells": [
  {
   "cell_type": "code",
   "execution_count": 6,
   "metadata": {
    "ExecuteTime": {
     "end_time": "2019-01-08T11:53:28.435498Z",
     "start_time": "2019-01-08T11:53:28.429385Z"
    }
   },
   "outputs": [],
   "source": [
    "import fdrot\n",
    "from functools import partial"
   ]
  },
  {
   "cell_type": "code",
   "execution_count": 19,
   "metadata": {
    "ExecuteTime": {
     "end_time": "2019-01-08T11:56:32.137205Z",
     "start_time": "2019-01-08T11:56:32.123745Z"
    }
   },
   "outputs": [],
   "source": [
    "def plus(f, x):\n",
    "    return f(x)\n",
    "class A:\n",
    "    def __init__(self, a):\n",
    "        self.a = a\n",
    "    def abc(self,q,w):\n",
    "        return q * w + self.a\n",
    "    def wrap(self,w):\n",
    "        wraped = partial(self.abc, 4)\n",
    "        return plus(wraped, w)"
   ]
  },
  {
   "cell_type": "code",
   "execution_count": 20,
   "metadata": {
    "ExecuteTime": {
     "end_time": "2019-01-08T11:56:32.562992Z",
     "start_time": "2019-01-08T11:56:32.556820Z"
    }
   },
   "outputs": [],
   "source": [
    "a = A(2)"
   ]
  },
  {
   "cell_type": "code",
   "execution_count": 24,
   "metadata": {
    "ExecuteTime": {
     "end_time": "2019-01-08T11:56:50.475621Z",
     "start_time": "2019-01-08T11:56:50.467303Z"
    }
   },
   "outputs": [
    {
     "data": {
      "text/plain": [
       "6"
      ]
     },
     "execution_count": 24,
     "metadata": {},
     "output_type": "execute_result"
    }
   ],
   "source": [
    "a.wrap(1)"
   ]
  },
  {
   "cell_type": "code",
   "execution_count": 1,
   "metadata": {
    "ExecuteTime": {
     "end_time": "2019-01-08T13:00:51.523868Z",
     "start_time": "2019-01-08T13:00:51.216481Z"
    }
   },
   "outputs": [],
   "source": [
    "import numpy as np\n",
    "import sys\n",
    "import psutil"
   ]
  },
  {
   "cell_type": "code",
   "execution_count": 29,
   "metadata": {
    "ExecuteTime": {
     "end_time": "2019-01-08T12:34:57.521600Z",
     "start_time": "2019-01-08T12:34:57.487424Z"
    }
   },
   "outputs": [],
   "source": [
    "arr = np.random.rand(100,100,100)"
   ]
  },
  {
   "cell_type": "code",
   "execution_count": 31,
   "metadata": {
    "ExecuteTime": {
     "end_time": "2019-01-08T12:36:17.520183Z",
     "start_time": "2019-01-08T12:36:17.511465Z"
    }
   },
   "outputs": [
    {
     "data": {
      "text/plain": [
       "8000128"
      ]
     },
     "execution_count": 31,
     "metadata": {},
     "output_type": "execute_result"
    }
   ],
   "source": [
    "sys.getsizeof(arr)"
   ]
  },
  {
   "cell_type": "code",
   "execution_count": 2,
   "metadata": {
    "ExecuteTime": {
     "end_time": "2019-01-08T13:00:57.684328Z",
     "start_time": "2019-01-08T13:00:57.679393Z"
    }
   },
   "outputs": [],
   "source": [
    "memory_info = psutil.virtual_memory()"
   ]
  },
  {
   "cell_type": "code",
   "execution_count": 6,
   "metadata": {
    "ExecuteTime": {
     "end_time": "2019-01-08T13:01:23.518576Z",
     "start_time": "2019-01-08T13:01:23.504100Z"
    }
   },
   "outputs": [
    {
     "data": {
      "text/plain": [
       "(910, 'MB')"
      ]
     },
     "execution_count": 6,
     "metadata": {},
     "output_type": "execute_result"
    }
   ],
   "source": [
    "memory_info. >> 20, 'MB'"
   ]
  },
  {
   "cell_type": "code",
   "execution_count": 47,
   "metadata": {
    "ExecuteTime": {
     "end_time": "2019-01-08T12:42:50.931731Z",
     "start_time": "2019-01-08T12:42:50.915037Z"
    }
   },
   "outputs": [
    {
     "data": {
      "text/plain": [
       "(3814, 'MB')"
      ]
     },
     "execution_count": 47,
     "metadata": {},
     "output_type": "execute_result"
    }
   ],
   "source": [
    "64 * 1000 *250 * 250  >> 20, 'MB'"
   ]
  },
  {
   "cell_type": "code",
   "execution_count": 9,
   "metadata": {
    "ExecuteTime": {
     "end_time": "2019-01-08T13:02:01.756606Z",
     "start_time": "2019-01-08T13:02:01.747272Z"
    }
   },
   "outputs": [
    {
     "data": {
      "text/plain": [
       "897"
      ]
     },
     "execution_count": 9,
     "metadata": {},
     "output_type": "execute_result"
    }
   ],
   "source": [
    "    "
   ]
  },
  {
   "cell_type": "code",
   "execution_count": null,
   "metadata": {},
   "outputs": [],
   "source": []
  }
 ],
 "metadata": {
  "kernelspec": {
   "display_name": "Python (fdrot_dev)",
   "language": "python",
   "name": "fdrot_dev"
  },
  "language_info": {
   "codemirror_mode": {
    "name": "ipython",
    "version": 3
   },
   "file_extension": ".py",
   "mimetype": "text/x-python",
   "name": "python",
   "nbconvert_exporter": "python",
   "pygments_lexer": "ipython3",
   "version": "3.6.2"
  }
 },
 "nbformat": 4,
 "nbformat_minor": 2
}
