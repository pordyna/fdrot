{
 "cells": [
  {
   "cell_type": "code",
   "execution_count": 1,
   "metadata": {
    "ExecuteTime": {
     "end_time": "2019-01-08T16:02:01.321282Z",
     "start_time": "2019-01-08T16:02:00.122779Z"
    }
   },
   "outputs": [],
   "source": [
    "import fdrot\n",
    "import matplotlib.pyplot as plt\n",
    "import numpy as np\n",
    "from os import path"
   ]
  },
  {
   "cell_type": "code",
   "execution_count": 2,
   "metadata": {
    "ExecuteTime": {
     "end_time": "2019-01-08T14:33:09.591722Z",
     "start_time": "2019-01-08T14:32:22.519058Z"
    }
   },
   "outputs": [
    {
     "name": "stdout",
     "output_type": "stream",
     "text": [
      "Solving environment: done\n",
      "\n",
      "## Package Plan ##\n",
      "\n",
      "  environment location: /home/ordyna35/anaconda3/envs/fdrot_dev\n",
      "\n",
      "  added / updated specs: \n",
      "    - numba\n",
      "\n",
      "\n",
      "The following packages will be downloaded:\n",
      "\n",
      "    package                    |            build\n",
      "    ---------------------------|-----------------\n",
      "    numba-0.42.0               |   py36h962f231_0         2.7 MB\n",
      "    llvmlite-0.27.0            |   py36hd408876_0        16.2 MB\n",
      "    ------------------------------------------------------------\n",
      "                                           Total:        18.9 MB\n",
      "\n",
      "The following NEW packages will be INSTALLED:\n",
      "\n",
      "    llvmlite: 0.27.0-py36hd408876_0\n",
      "    numba:    0.42.0-py36h962f231_0\n",
      "\n",
      "\n",
      "Downloading and Extracting Packages\n",
      "numba-0.42.0         | 2.7 MB    | ##################################### | 100% \n",
      "llvmlite-0.27.0      | 16.2 MB   | ##################################### | 100% \n",
      "Preparing transaction: done\n",
      "Verifying transaction: done\n",
      "Executing transaction: done\n"
     ]
    }
   ],
   "source": [
    "! conda install -n fdrot_dev -y numba"
   ]
  },
  {
   "cell_type": "code",
   "execution_count": 2,
   "metadata": {
    "ExecuteTime": {
     "end_time": "2019-01-08T16:02:03.956005Z",
     "start_time": "2019-01-08T16:02:03.912767Z"
    }
   },
   "outputs": [],
   "source": [
    "shape = (500, 2, 250)\n",
    "input_rand_Bx = np.random.rand(*shape)\n",
    "input_rand_Bz = np.random.rand(*shape)\n",
    "input_rand_By = np.random.rand(*shape)\n",
    "input_rand_n_e = np.random.rand(*shape)"
   ]
  },
  {
   "cell_type": "code",
   "execution_count": 4,
   "metadata": {
    "ExecuteTime": {
     "end_time": "2019-01-08T14:46:25.218631Z",
     "start_time": "2019-01-08T14:46:25.036687Z"
    }
   },
   "outputs": [
    {
     "name": "stdout",
     "output_type": "stream",
     "text": [
      "Bx1.npy  By1.npy  Bz1.npy  n_e1.npy\r\n"
     ]
    }
   ],
   "source": [
    "# ! mkdir data_3d_testing\n",
    "#! rm data_3d_testing/*\n",
    "! ls data_3d_testing/"
   ]
  },
  {
   "cell_type": "code",
   "execution_count": 4,
   "metadata": {
    "ExecuteTime": {
     "end_time": "2019-01-08T10:08:55.272789Z",
     "start_time": "2019-01-08T10:08:55.269045Z"
    }
   },
   "outputs": [],
   "source": [
    "# fdrot.sim_data.__file__"
   ]
  },
  {
   "cell_type": "code",
   "execution_count": 3,
   "metadata": {
    "ExecuteTime": {
     "end_time": "2019-01-08T16:02:05.220670Z",
     "start_time": "2019-01-08T16:02:05.080916Z"
    }
   },
   "outputs": [],
   "source": [
    "for field, arr in [('Bx', input_rand_Bx),\n",
    "             ('Bz', input_rand_Bz),\n",
    "             ('By', input_rand_By),\n",
    "             ('n_e', input_rand_n_e)]:\n",
    "    np.save(path.join('data_3d_testing/', field + '1'), arr)"
   ]
  },
  {
   "cell_type": "code",
   "execution_count": 4,
   "metadata": {
    "ExecuteTime": {
     "end_time": "2019-01-08T16:02:05.589403Z",
     "start_time": "2019-01-08T16:02:05.584327Z"
    }
   },
   "outputs": [],
   "source": [
    "dt = 1\n",
    "grid = (1,1,1)"
   ]
  },
  {
   "cell_type": "code",
   "execution_count": 5,
   "metadata": {
    "ExecuteTime": {
     "end_time": "2019-01-08T16:02:05.831987Z",
     "start_time": "2019-01-08T16:02:05.824965Z"
    }
   },
   "outputs": [],
   "source": [
    "def open_fkt(path:str, *args):\n",
    "    return np.load(path)"
   ]
  },
  {
   "cell_type": "code",
   "execution_count": 6,
   "metadata": {
    "ExecuteTime": {
     "end_time": "2019-01-08T16:02:06.337137Z",
     "start_time": "2019-01-08T16:02:06.322616Z"
    }
   },
   "outputs": [],
   "source": [
    "files = {}\n",
    "for field in ['Bx', 'Bz', 'By', 'n_e']:\n",
    "    files[field] = fdrot.sim_data.UniversalSingle(\n",
    "        path='data_3d_testing/',\n",
    "        data_stored=field,\n",
    "        single_time_step=dt,\n",
    "        grid=grid,\n",
    "        name_front=field,\n",
    "        name_end='.npy',\n",
    "        sim_box_shape=shape,\n",
    "        export_func=open_fkt,\n",
    "        axis_map=('z', 'y', 'x')\n",
    "    )"
   ]
  },
  {
   "cell_type": "code",
   "execution_count": 7,
   "metadata": {
    "ExecuteTime": {
     "end_time": "2019-01-08T16:02:07.234120Z",
     "start_time": "2019-01-08T16:02:07.226073Z"
    }
   },
   "outputs": [],
   "source": [
    "\n",
    "sequence = fdrot.sim_sequence.seq_cells(start=0, end=500,\n",
    "                             inc_time=1,\n",
    "                             iter_step=1,\n",
    "                             pulse_length_cells=1,\n",
    "                             files=files, propagation_axis='z')"
   ]
  },
  {
   "cell_type": "code",
   "execution_count": 8,
   "metadata": {
    "ExecuteTime": {
     "end_time": "2019-01-08T16:02:15.632559Z",
     "start_time": "2019-01-08T16:02:09.077896Z"
    }
   },
   "outputs": [],
   "source": [
    "rotated = sequence.rotation_3d_perp(np.ones(1, dtype=np.float64), wavelength=1, second_axis_output='x')"
   ]
  },
  {
   "cell_type": "code",
   "execution_count": 9,
   "metadata": {
    "ExecuteTime": {
     "end_time": "2019-01-08T16:02:17.603300Z",
     "start_time": "2019-01-08T16:02:17.556608Z"
    },
    "scrolled": false
   },
   "outputs": [
    {
     "name": "stdout",
     "output_type": "stream",
     "text": [
      " \n",
      "================================================================================\n",
      " Parallel Accelerator Optimizing:  Function kernel3d, /net/fileu/user/ordyna35/F\n",
      "araday_Rotation/faraday_rotation/calc_rotation/fdrot/kernel3d.py (5)  \n",
      "================================================================================\n",
      "\n",
      "\n",
      "Parallel loop listing for  Function kernel3d, /net/fileu/user/ordyna35/Faraday_Rotation/faraday_rotation/calc_rotation/fdrot/kernel3d.py (5) \n",
      "-------------------------------------------------------------------------------------------------------------------|loop #ID\n",
      "@njit(parallel=True, cache=False)                                                                                  | \n",
      "def kernel3d(pulse: np.ndarray,                                                                                    | \n",
      "             input_arr: np.ndarray,                                                                                | \n",
      "             output: np.ndarray,                                                                                   | \n",
      "             global_start: int, global_stop: int,                                                                  | \n",
      "             leading_start: int, leading_stop: int) -> None:                                                       | \n",
      "    \"\"\" Integrates the Faraday Rotation over a single time step and a given pulse shape.                           | \n",
      "                                                                                                                   | \n",
      "    :param pulse: Pulse over which it's integrated.                                                                | \n",
      "    :param global_start: global boundary to the left,the cell from which the propagation begins                    | \n",
      "            (This cell is also included).                                                                          | \n",
      "    :param global_stop:  global boundary to the right, the cell at which the propagation stops                     | \n",
      "            (This cell is not included).                                                                           | \n",
      "    :param input_arr: B field in the right direction, already multiplied with the electron density.                | \n",
      "            First dimension is also the first in the output, second dim. is second in the output,                  | \n",
      "            it's integrated over the last one.                                                                     | \n",
      "    :param output: The obtained rotation is added to it.                                                           | \n",
      "    :param leading_start: Interval start for the leading slice of the pulse (in a single time step).               | \n",
      "    :param leading_stop:  Interval stop for the leading slice of the pulse (in a single time step).                | \n",
      "    \"\"\"                                                                                                            | \n",
      "    pulse_len = pulse.shape[0]                                                                                     | \n",
      "    if leading_start < global_start:                                                                               | \n",
      "        leading_start = global_start                                                                               | \n",
      "    if leading_stop > global_stop:                                                                                 | \n",
      "        leading_stop = global_stop                                                                                 | \n",
      "    duration = leading_stop - leading_start + (pulse_len - 1)  # in cells, +/- 1                                   | \n",
      "                                                                                                                   | \n",
      "    pulse_head = leading_start  # cell where the most right slice of the pulse is. +/- 1                           | \n",
      "    pulse_tail = pulse_head - (pulse_len - 1)  # cell where the most left slice of the pulse is. +/- 1             | \n",
      "    for zz in prange(input_arr.shape[0]):--------------------------------------------------------------------------| #4\n",
      "        summed = np.zeros(input_arr.shape[1])  # y-----------------------------------------------------------------| #1\n",
      "        # summed[:] = 0                                                                                            | \n",
      "        input_slice = input_arr[zz, :, :]  # 2D (y,x)                                                              | \n",
      "        for tt in prange(duration):--------------------------------------------------------------------------------| #3\n",
      "            # Assigned variables in prange loops are private; pulse_head, pulse_tail can only be read here, so     | \n",
      "            # they stay global and available in the loop.                                                          | \n",
      "            pulse_head_private = pulse_head + tt  # cell where the most right slice of the pulse is.               | \n",
      "            pulse_tail_private = pulse_tail + tt  # cell where the most left slice of the pulse is.                | \n",
      "            # Let's cut pulse on the global boundaries.                                                            | \n",
      "            cut_at_tail = 0  # Cells cut at the pulse tail.                                                        | \n",
      "            cut_at_head = 0  # Cells cut at the pulse head.                                                        | \n",
      "            if pulse_tail_private < global_start:                                                                  | \n",
      "                cut_at_tail, pulse_tail_private = global_start - pulse_tail_private, global_start                  | \n",
      "            if pulse_head_private > global_stop - 1:                                                               | \n",
      "                cut_at_head, pulse_head_private = pulse_head_private - (global_stop - 1), global_stop - 1          | \n",
      "                                                                                                                   | \n",
      "            # Broadcasting arrays:                                                                                 | \n",
      "            if cut_at_head == 0:                                                                                   | \n",
      "                cut_pulse = pulse[cut_at_tail:]                                                                    | \n",
      "                                                                                                                   | \n",
      "            else:                                                                                                  | \n",
      "                cut_pulse = pulse[cut_at_tail:-cut_at_head]                                                        | \n",
      "            slice_chunk = input_slice[:, pulse_tail_private:pulse_head_private + 1]  # Take all 'y' cut in 'x'.    | \n",
      "            # Faraday Rotation originating from the time interval [tt, tt+1].                                      | \n",
      "            summed += np.dot(slice_chunk, cut_pulse)  # Shapes: (y,x) * (x,) -> (y,) # prange reduction------------| #2\n",
      "            # propagate by one cell:                                                                               | \n",
      "                                                                                                                   | \n",
      "        output[zz, :] += summed  # (y,) + (y,) # -zz -> zz---------------------------------------------------------| #0\n",
      "--------------------------------- Fusing loops ---------------------------------\n",
      "Attempting fusion of parallel loops (combines loops with similar properties)...\n",
      "----------------------------- Before Optimisation ------------------------------\n",
      "Parallel region 0:\n",
      "+--4 (parallel)\n",
      "   +--0 (parallel)\n",
      "   +--1 (parallel)\n",
      "   +--3 (parallel)\n",
      "      +--2 (parallel)\n",
      "\n",
      "\n",
      "--------------------------------------------------------------------------------\n",
      "------------------------------ After Optimisation ------------------------------\n",
      "Parallel region 0:\n",
      "+--4 (parallel)\n",
      "   +--0 (serial)\n",
      "   +--1 (serial)\n",
      "   +--3 (serial)\n",
      "      +--2 (serial)\n",
      "\n",
      "\n",
      " \n",
      "Parallel region 0 (loop #4) had 0 loop(s) fused and 4 loop(s) serialized as part\n",
      " of the larger parallel loop (#4).\n",
      "--------------------------------------------------------------------------------\n",
      "--------------------------------------------------------------------------------\n",
      " \n",
      "---------------------------Loop invariant code motion---------------------------\n",
      "\n",
      "Instruction hoisting:\n",
      "loop #4:\n",
      "  Has the following hoisted:\n",
      "    $const86.11 = const(NoneType, None)\n",
      "    $const86.12 = const(NoneType, None)\n",
      "    $86.13 = global(slice: <class 'slice'>)\n",
      "    $86.14 = call $86.13($const86.11, $const86.12, func=$86.13, args=(Var($const86.11, /net/fileu/user/ordyna35/Faraday_Rotation/faraday_rotation/calc_rotation/fdrot/kernel3d.py (37)), Var($const86.12, /net/fileu/user/ordyna35/Faraday_Rotation/faraday_rotation/calc_rotation/fdrot/kernel3d.py (37))), kws=(), vararg=None)\n",
      "    $const86.15 = const(NoneType, None)\n",
      "    $const86.16 = const(NoneType, None)\n",
      "    $86.17 = global(slice: <class 'slice'>)\n",
      "    $86.18 = call $86.17($const86.15, $const86.16, func=$86.17, args=(Var($const86.15, /net/fileu/user/ordyna35/Faraday_Rotation/faraday_rotation/calc_rotation/fdrot/kernel3d.py (37)), Var($const86.16, /net/fileu/user/ordyna35/Faraday_Rotation/faraday_rotation/calc_rotation/fdrot/kernel3d.py (37))), kws=(), vararg=None)\n",
      "    slice_size.86 = const(int, 0)\n",
      "    wrap.87 = global(wrap_index: <intrinsic wrap_index>)\n",
      "    $const300.3 = const(NoneType, None)\n",
      "    $const300.4 = const(NoneType, None)\n",
      "    $300.5 = global(slice: <class 'slice'>)\n",
      "    $300.6 = call $300.5($const300.3, $const300.4, func=$300.5, args=(Var($const300.3, /net/fileu/user/ordyna35/Faraday_Rotation/faraday_rotation/calc_rotation/fdrot/kernel3d.py (62)), Var($const300.4, /net/fileu/user/ordyna35/Faraday_Rotation/faraday_rotation/calc_rotation/fdrot/kernel3d.py (62))), kws=(), vararg=None)\n",
      "    slice_size.132 = const(int, 0)\n",
      "    wrap.133 = global(wrap_index: <intrinsic wrap_index>)\n",
      "    msg.136 = const(str, Sizes of $300.10, summed do not match on /net/fileu/user/ordyna35/Faraday_Rotation/faraday_rotation/calc_rotation/fdrot/kernel3d.py (62))\n",
      "    assert.137 = global(assert_equiv: <intrinsic assert_equiv>)\n",
      "    msg.141 = const(str, Sizes of output, $300.12 do not match on /net/fileu/user/ordyna35/Faraday_Rotation/faraday_rotation/calc_rotation/fdrot/kernel3d.py (62))\n",
      "    assert.142 = global(assert_equiv: <intrinsic assert_equiv>)\n",
      "  Failed to hoist the following:\n",
      "    dependency: $empty_attr_attr.149 = getattr(value=$np_g_var.148, attr=empty)\n",
      "    dependency: $np_typ_var.150 = getattr(value=$np_g_var.148, attr=float64)\n",
      "    dependency: $summed.760 = call $empty_attr_attr.149(input__arr__size1_75, $np_typ_var.150, func=$empty_attr_attr.149, args=[Var(input__arr__size1_75, /net/fileu/user/ordyna35/Faraday_Rotation/faraday_rotation/calc_rotation/fdrot/kernel3d.py (25)), Var($np_typ_var.150, /net/fileu/user/ordyna35/Faraday_Rotation/faraday_rotation/calc_rotation/fdrot/kernel3d.py (35))], kws=(), vararg=None)\n",
      "    dependency: $86.19 = build_tuple(items=[Var($parfor__index_154.532, <string> (2)), Var($86.14, /net/fileu/user/ordyna35/Faraday_Rotation/faraday_rotation/calc_rotation/fdrot/kernel3d.py (37)), Var($86.18, /net/fileu/user/ordyna35/Faraday_Rotation/faraday_rotation/calc_rotation/fdrot/kernel3d.py (37))])\n",
      "    not pure: var.88 = call wrap.87(slice_size.86, input__arr__size1_75, func=wrap.87, args=[Var(slice_size.86, /net/fileu/user/ordyna35/Faraday_Rotation/faraday_rotation/calc_rotation/fdrot/kernel3d.py (37)), Var(input__arr__size1_75, /net/fileu/user/ordyna35/Faraday_Rotation/faraday_rotation/calc_rotation/fdrot/kernel3d.py (25))], kws={}, vararg=None)\n",
      "    dependency: $input_slice.161 = getitem(value=input__arr, index=$86.19)\n",
      "    dependency: $300.7 = build_tuple(items=[Var($parfor__index_154.532, <string> (2)), Var($300.6, /net/fileu/user/ordyna35/Faraday_Rotation/faraday_rotation/calc_rotation/fdrot/kernel3d.py (62))])\n",
      "    not pure: var.134 = call wrap.133(slice_size.132, output__size1_79, func=wrap.133, args=[Var(slice_size.132, /net/fileu/user/ordyna35/Faraday_Rotation/faraday_rotation/calc_rotation/fdrot/kernel3d.py (62)), Var(output__size1_79, /net/fileu/user/ordyna35/Faraday_Rotation/faraday_rotation/calc_rotation/fdrot/kernel3d.py (25))], kws={}, vararg=None)\n",
      "    dependency: $300.10 = getitem(value=output, index=$300.7)\n",
      "    dependency: ret.138 = call assert.137(msg.136, var.134, input__arr__size1_75, func=assert.137, args=[Var(msg.136, /net/fileu/user/ordyna35/Faraday_Rotation/faraday_rotation/calc_rotation/fdrot/kernel3d.py (62)), Var(var.134, /net/fileu/user/ordyna35/Faraday_Rotation/faraday_rotation/calc_rotation/fdrot/kernel3d.py (62)), Var(input__arr__size1_75, /net/fileu/user/ordyna35/Faraday_Rotation/faraday_rotation/calc_rotation/fdrot/kernel3d.py (25))], kws={}, vararg=None)\n",
      "    dependency: $300.12 = inplace_binop(fn=<built-in function iadd>, immutable_fn=<built-in function add>, lhs=$300.10, rhs=summed, static_lhs=Undefined, static_rhs=Undefined)\n",
      "    not pure: ret.143 = call assert.142(msg.141, output__size1_79, input__arr__size1_75, func=assert.142, args=[Var(msg.141, /net/fileu/user/ordyna35/Faraday_Rotation/faraday_rotation/calc_rotation/fdrot/kernel3d.py (62)), Var(output__size1_79, /net/fileu/user/ordyna35/Faraday_Rotation/faraday_rotation/calc_rotation/fdrot/kernel3d.py (25)), Var(input__arr__size1_75, /net/fileu/user/ordyna35/Faraday_Rotation/faraday_rotation/calc_rotation/fdrot/kernel3d.py (25))], kws={}, vararg=None)\n",
      "    dependency: $subarr.144 = getitem(value=output, index=$300.7)\n",
      "--------------------------------------------------------------------------------\n"
     ]
    }
   ],
   "source": [
    "fdrot.kernel3d.kernel3d.parallel_diagnostics(level=4)"
   ]
  },
  {
   "cell_type": "code",
   "execution_count": 14,
   "metadata": {
    "ExecuteTime": {
     "end_time": "2019-01-08T10:12:24.297968Z",
     "start_time": "2019-01-08T10:12:24.272873Z"
    }
   },
   "outputs": [],
   "source": [
    "Bx = np.load('data_3d_testing/Bx1.npy')\n",
    "Bz = np.load('data_3d_testing/Bz1.npy')\n",
    "n_e = np.load('data_3d_testing/n_e1.npy')"
   ]
  },
  {
   "cell_type": "code",
   "execution_count": 15,
   "metadata": {
    "ExecuteTime": {
     "end_time": "2019-01-08T10:12:25.211268Z",
     "start_time": "2019-01-08T10:12:25.200378Z"
    }
   },
   "outputs": [
    {
     "data": {
      "text/plain": [
       "(5, 8)"
      ]
     },
     "execution_count": 15,
     "metadata": {},
     "output_type": "execute_result"
    }
   ],
   "source": [
    "rotated.shape"
   ]
  },
  {
   "cell_type": "code",
   "execution_count": 16,
   "metadata": {
    "ExecuteTime": {
     "end_time": "2019-01-08T10:12:25.737615Z",
     "start_time": "2019-01-08T10:12:25.728704Z"
    }
   },
   "outputs": [],
   "source": [
    "th = np.sum(Bz[0:8,:,:] * n_e[0:8,:,:], axis=0) * sequence.integration_factor(1) "
   ]
  },
  {
   "cell_type": "code",
   "execution_count": 17,
   "metadata": {
    "ExecuteTime": {
     "end_time": "2019-01-08T10:12:26.440508Z",
     "start_time": "2019-01-08T10:12:26.432798Z"
    }
   },
   "outputs": [
    {
     "data": {
      "text/plain": [
       "array([[ True,  True,  True,  True,  True,  True,  True,  True],\n",
       "       [ True,  True,  True,  True,  True,  True,  True,  True],\n",
       "       [ True,  True,  True,  True,  True,  True,  True,  True],\n",
       "       [ True,  True,  True,  True,  True,  True,  True,  True],\n",
       "       [ True,  True,  True,  True,  True,  True,  True,  True]])"
      ]
     },
     "execution_count": 17,
     "metadata": {},
     "output_type": "execute_result"
    }
   ],
   "source": [
    "np.isclose(rotated, th, atol=1e-30)"
   ]
  },
  {
   "cell_type": "code",
   "execution_count": 18,
   "metadata": {
    "ExecuteTime": {
     "end_time": "2019-01-08T10:12:27.064416Z",
     "start_time": "2019-01-08T10:12:27.056250Z"
    }
   },
   "outputs": [
    {
     "data": {
      "text/plain": [
       "array([[4.77525829e-13, 4.03452204e-13, 4.87029085e-13, 4.76191276e-13,\n",
       "        4.26014142e-13, 4.43367149e-13, 5.19621664e-13, 5.91361933e-13],\n",
       "       [5.06430216e-13, 5.16437207e-13, 5.03935559e-13, 5.48231558e-13,\n",
       "        7.61709907e-13, 6.94905576e-13, 7.18721691e-13, 7.48403582e-13],\n",
       "       [4.35359728e-13, 3.58043112e-13, 3.29536378e-13, 4.24016578e-13,\n",
       "        5.66278784e-13, 3.35168484e-13, 5.10519806e-13, 4.51692609e-13],\n",
       "       [1.02134313e-13, 7.34014441e-13, 2.60845153e-13, 5.52255481e-13,\n",
       "        4.95211941e-13, 5.08918013e-13, 3.75081962e-13, 4.72275773e-13],\n",
       "       [3.22634984e-13, 5.48390130e-13, 3.96182690e-13, 6.47344667e-13,\n",
       "        2.95472486e-13, 7.44730616e-13, 4.54036972e-13, 7.73418559e-13]])"
      ]
     },
     "execution_count": 18,
     "metadata": {},
     "output_type": "execute_result"
    }
   ],
   "source": [
    "th"
   ]
  },
  {
   "cell_type": "code",
   "execution_count": 19,
   "metadata": {
    "ExecuteTime": {
     "end_time": "2019-01-08T10:12:27.911362Z",
     "start_time": "2019-01-08T10:12:27.902691Z"
    }
   },
   "outputs": [
    {
     "data": {
      "text/plain": [
       "array([[4.77525829e-13, 4.03452204e-13, 4.87029085e-13, 4.76191276e-13,\n",
       "        4.26014142e-13, 4.43367149e-13, 5.19621664e-13, 5.91361933e-13],\n",
       "       [5.06430216e-13, 5.16437207e-13, 5.03935559e-13, 5.48231558e-13,\n",
       "        7.61709907e-13, 6.94905576e-13, 7.18721691e-13, 7.48403582e-13],\n",
       "       [4.35359728e-13, 3.58043112e-13, 3.29536378e-13, 4.24016578e-13,\n",
       "        5.66278784e-13, 3.35168484e-13, 5.10519806e-13, 4.51692609e-13],\n",
       "       [1.02134313e-13, 7.34014441e-13, 2.60845153e-13, 5.52255481e-13,\n",
       "        4.95211941e-13, 5.08918013e-13, 3.75081962e-13, 4.72275773e-13],\n",
       "       [3.22634984e-13, 5.48390130e-13, 3.96182690e-13, 6.47344667e-13,\n",
       "        2.95472486e-13, 7.44730616e-13, 4.54036972e-13, 7.73418559e-13]])"
      ]
     },
     "execution_count": 19,
     "metadata": {},
     "output_type": "execute_result"
    }
   ],
   "source": [
    "rotated"
   ]
  },
  {
   "cell_type": "code",
   "execution_count": null,
   "metadata": {},
   "outputs": [],
   "source": []
  },
  {
   "cell_type": "code",
   "execution_count": null,
   "metadata": {},
   "outputs": [],
   "source": []
  }
 ],
 "metadata": {
  "kernelspec": {
   "display_name": "Python (fdrot_dev)",
   "language": "python",
   "name": "fdrot_dev"
  },
  "language_info": {
   "codemirror_mode": {
    "name": "ipython",
    "version": 3
   },
   "file_extension": ".py",
   "mimetype": "text/x-python",
   "name": "python",
   "nbconvert_exporter": "python",
   "pygments_lexer": "ipython3",
   "version": "3.6.2"
  }
 },
 "nbformat": 4,
 "nbformat_minor": 2
}
