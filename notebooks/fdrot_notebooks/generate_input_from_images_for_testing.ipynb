{
 "cells": [
  {
   "cell_type": "code",
   "execution_count": 162,
   "metadata": {
    "ExecuteTime": {
     "end_time": "2018-10-01T11:44:11.457232Z",
     "start_time": "2018-10-01T11:44:11.450278Z"
    }
   },
   "outputs": [],
   "source": [
    "import matplotlib.pyplot as plt\n",
    "import numpy as np"
   ]
  },
  {
   "cell_type": "code",
   "execution_count": 163,
   "metadata": {
    "ExecuteTime": {
     "end_time": "2018-10-01T11:44:11.641126Z",
     "start_time": "2018-10-01T11:44:11.636207Z"
    }
   },
   "outputs": [],
   "source": [
    "path = '../../Faraday_Rotation/test_samples/'"
   ]
  },
  {
   "cell_type": "code",
   "execution_count": 164,
   "metadata": {
    "ExecuteTime": {
     "end_time": "2018-10-01T11:44:11.998140Z",
     "start_time": "2018-10-01T11:44:11.993813Z"
    }
   },
   "outputs": [],
   "source": [
    "file_name = '3'"
   ]
  },
  {
   "cell_type": "code",
   "execution_count": 171,
   "metadata": {
    "ExecuteTime": {
     "end_time": "2018-10-01T11:45:27.314292Z",
     "start_time": "2018-10-01T11:45:27.270650Z"
    }
   },
   "outputs": [],
   "source": [
    "img = plt.imread(path + file_name + '.png')"
   ]
  },
  {
   "cell_type": "code",
   "execution_count": 172,
   "metadata": {
    "ExecuteTime": {
     "end_time": "2018-10-01T11:45:27.898136Z",
     "start_time": "2018-10-01T11:45:27.665763Z"
    }
   },
   "outputs": [
    {
     "data": {
      "text/plain": [
       "<matplotlib.image.AxesImage at 0x7f4a89b155c0>"
      ]
     },
     "execution_count": 172,
     "metadata": {},
     "output_type": "execute_result"
    },
    {
     "data": {
      "image/png": "[encoded data removed]",
      "text/plain": [
       "<Figure size 432x288 with 1 Axes>"
      ]
     },
     "metadata": {
      "needs_background": "light"
     },
     "output_type": "display_data"
    }
   ],
   "source": [
    "plt.imshow(img)"
   ]
  },
  {
   "cell_type": "code",
   "execution_count": 173,
   "metadata": {
    "ExecuteTime": {
     "end_time": "2018-10-01T11:45:28.507541Z",
     "start_time": "2018-10-01T11:45:28.488003Z"
    }
   },
   "outputs": [],
   "source": [
    "sample = np.array(img, dtype=np.float64)"
   ]
  },
  {
   "cell_type": "code",
   "execution_count": 174,
   "metadata": {
    "ExecuteTime": {
     "end_time": "2018-10-01T11:45:28.698882Z",
     "start_time": "2018-10-01T11:45:28.693405Z"
    }
   },
   "outputs": [
    {
     "data": {
      "text/plain": [
       "0.8274509906768799"
      ]
     },
     "execution_count": 174,
     "metadata": {},
     "output_type": "execute_result"
    }
   ],
   "source": [
    "sample[800,4,0] "
   ]
  },
  {
   "cell_type": "code",
   "execution_count": 175,
   "metadata": {
    "ExecuteTime": {
     "end_time": "2018-10-01T11:45:28.862176Z",
     "start_time": "2018-10-01T11:45:28.857283Z"
    }
   },
   "outputs": [],
   "source": [
    "sample_ready = sample[:,:,0]"
   ]
  },
  {
   "cell_type": "code",
   "execution_count": 176,
   "metadata": {
    "ExecuteTime": {
     "end_time": "2018-10-01T11:45:29.095959Z",
     "start_time": "2018-10-01T11:45:29.088777Z"
    }
   },
   "outputs": [],
   "source": [
    "sample_ready.shape\n",
    "compare_arr = np.zeros_like(sample_ready) + sample[0,0,0]"
   ]
  },
  {
   "cell_type": "code",
   "execution_count": 177,
   "metadata": {
    "ExecuteTime": {
     "end_time": "2018-10-01T11:45:29.866601Z",
     "start_time": "2018-10-01T11:45:29.847267Z"
    },
    "scrolled": true
   },
   "outputs": [],
   "source": [
    "\n",
    "co = np.isclose(sample_ready, compare_arr)"
   ]
  },
  {
   "cell_type": "code",
   "execution_count": 178,
   "metadata": {
    "ExecuteTime": {
     "end_time": "2018-10-01T11:45:30.363334Z",
     "start_time": "2018-10-01T11:45:30.355146Z"
    }
   },
   "outputs": [],
   "source": [
    "sample_ready[co] = 0.5"
   ]
  },
  {
   "cell_type": "markdown",
   "metadata": {},
   "source": []
  },
  {
   "cell_type": "code",
   "execution_count": 179,
   "metadata": {
    "ExecuteTime": {
     "end_time": "2018-10-01T11:45:30.728562Z",
     "start_time": "2018-10-01T11:45:30.719933Z"
    }
   },
   "outputs": [],
   "source": [
    "sample_ready = sample_ready -0.5"
   ]
  },
  {
   "cell_type": "code",
   "execution_count": 180,
   "metadata": {
    "ExecuteTime": {
     "end_time": "2018-10-01T11:45:34.295846Z",
     "start_time": "2018-10-01T11:45:31.118957Z"
    }
   },
   "outputs": [],
   "source": [
    "np.save(path  + file_name + '.npy', sample_ready)"
   ]
  },
  {
   "cell_type": "code",
   "execution_count": 181,
   "metadata": {
    "ExecuteTime": {
     "end_time": "2018-10-01T11:45:34.312232Z",
     "start_time": "2018-10-01T11:45:34.302930Z"
    }
   },
   "outputs": [
    {
     "data": {
      "text/plain": [
       "0.3274509906768799"
      ]
     },
     "execution_count": 181,
     "metadata": {},
     "output_type": "execute_result"
    }
   ],
   "source": [
    "sample_ready[800,400]"
   ]
  },
  {
   "cell_type": "code",
   "execution_count": null,
   "metadata": {},
   "outputs": [],
   "source": []
  }
 ],
 "metadata": {
  "kernelspec": {
   "display_name": "Python 3",
   "language": "python",
   "name": "python3"
  },
  "language_info": {
   "codemirror_mode": {
    "name": "ipython",
    "version": 3
   },
   "file_extension": ".py",
   "mimetype": "text/x-python",
   "name": "python",
   "nbconvert_exporter": "python",
   "pygments_lexer": "ipython3",
   "version": "3.6.6"
  }
 },
 "nbformat": 4,
 "nbformat_minor": 2
}
