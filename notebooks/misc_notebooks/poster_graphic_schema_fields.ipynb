{
 "cells": [
  {
   "cell_type": "code",
   "execution_count": 2,
   "metadata": {
    "ExecuteTime": {
     "end_time": "2019-01-17T19:23:17.018261Z",
     "start_time": "2019-01-17T19:23:13.579234Z"
    }
   },
   "outputs": [],
   "source": [
    "import openpmd_api\n",
    "import seaborn as sns\n",
    "from os.path import join\n",
    "import matplotlib.pylab as plt\n",
    "import matplotlib as mpl\n",
    "import numpy as np\n",
    "import skimage\n",
    "import fdrot"
   ]
  },
  {
   "cell_type": "code",
   "execution_count": 3,
   "metadata": {
    "ExecuteTime": {
     "end_time": "2019-01-17T19:23:17.029245Z",
     "start_time": "2019-01-17T19:23:17.023451Z"
    }
   },
   "outputs": [],
   "source": [
    "base_path = '/bigdata/hplsim/scratch/ordyna35/runs/'\n",
    "sim = 'FoilLCT_3D_03'\n",
    "inner_path = 'simOutput/h5/'\n",
    "section_spc = 'simData_%T.h5'"
   ]
  },
  {
   "cell_type": "code",
   "execution_count": 4,
   "metadata": {
    "ExecuteTime": {
     "end_time": "2019-01-17T19:23:17.042858Z",
     "start_time": "2019-01-17T19:23:17.032342Z"
    }
   },
   "outputs": [],
   "source": [
    "path = join(base_path, sim)\n",
    "path = join(path, inner_path)\n",
    "full_path = join(path, section_spc)"
   ]
  },
  {
   "cell_type": "code",
   "execution_count": 5,
   "metadata": {
    "ExecuteTime": {
     "end_time": "2019-01-17T19:23:17.215160Z",
     "start_time": "2019-01-17T19:23:17.048578Z"
    }
   },
   "outputs": [
    {
     "name": "stdout",
     "output_type": "stream",
     "text": [
      "simData_0.h5\t simData_2250.h5  simData_3500.h5  simData_5000.h5\r\n",
      "simData_1000.h5  simData_2500.h5  simData_3750.h5  simData_500.h5\r\n",
      "simData_1250.h5  simData_250.h5   simData_4000.h5  simData_750.h5\r\n",
      "simData_1500.h5  simData_2750.h5  simData_4250.h5\r\n",
      "simData_1750.h5  simData_3000.h5  simData_4500.h5\r\n",
      "simData_2000.h5  simData_3250.h5  simData_4750.h5\r\n"
     ]
    }
   ],
   "source": [
    "\n",
    "! ls $path"
   ]
  },
  {
   "cell_type": "code",
   "execution_count": 6,
   "metadata": {
    "ExecuteTime": {
     "end_time": "2019-01-17T19:23:36.404536Z",
     "start_time": "2019-01-17T19:23:17.223209Z"
    }
   },
   "outputs": [],
   "source": [
    "\n",
    "series = openpmd_api.Series(full_path, openpmd_api.Access_Type.read_only)"
   ]
  },
  {
   "cell_type": "markdown",
   "metadata": {
    "ExecuteTime": {
     "end_time": "2018-11-09T11:47:21.255985Z",
     "start_time": "2018-11-09T11:47:21.247849Z"
    }
   },
   "source": []
  },
  {
   "cell_type": "code",
   "execution_count": 7,
   "metadata": {
    "ExecuteTime": {
     "end_time": "2019-01-17T19:23:36.421335Z",
     "start_time": "2019-01-17T19:23:36.411742Z"
    }
   },
   "outputs": [],
   "source": [
    "files = fdrot.sim_data.OpenPMDList(series, data_stored=['Bz','Bx', 'By', 'n_e'])"
   ]
  },
  {
   "cell_type": "code",
   "execution_count": 8,
   "metadata": {
    "ExecuteTime": {
     "end_time": "2019-01-17T19:23:36.445406Z",
     "start_time": "2019-01-17T19:23:36.425864Z"
    }
   },
   "outputs": [
    {
     "data": {
      "text/plain": [
       "{'fields_mapping': {'Bx': ('B', 'x'),\n",
       "  'By': ('B', 'y'),\n",
       "  'Bz': ('B', 'z'),\n",
       "  'n_e': ('e_density', '\\x0bScalar')},\n",
       " 'series': <openPMD.Attributable with '11' attributes>,\n",
       " 'single_time_step': 4.012152503219213e-18,\n",
       " '_ids': [0,\n",
       "  250,\n",
       "  500,\n",
       "  750,\n",
       "  1000,\n",
       "  1250,\n",
       "  1500,\n",
       "  1750,\n",
       "  2000,\n",
       "  2250,\n",
       "  2500,\n",
       "  2750,\n",
       "  3000,\n",
       "  3250,\n",
       "  3500,\n",
       "  3750,\n",
       "  4000,\n",
       "  4250,\n",
       "  4500,\n",
       "  4750,\n",
       "  5000],\n",
       " 'grid': (2.083333295939834e-09, 2.083333295939834e-09, 2.083333295939834e-09),\n",
       " 'sim_box_shape': (32, 400, 64),\n",
       " 'data_stored': ['Bz', 'Bx', 'By', 'n_e'],\n",
       " 'axis_order': {'z': 0, 'y': 1, 'x': 2}}"
      ]
     },
     "execution_count": 8,
     "metadata": {},
     "output_type": "execute_result"
    }
   ],
   "source": [
    "# test if attributes are set correctly\n",
    "files.__dict__"
   ]
  },
  {
   "cell_type": "code",
   "execution_count": 9,
   "metadata": {
    "ExecuteTime": {
     "end_time": "2019-01-17T19:23:36.460937Z",
     "start_time": "2019-01-17T19:23:36.449149Z"
    }
   },
   "outputs": [],
   "source": [
    "# create a gauss pulse\n",
    "def gauss(x, sigma, mu):\n",
    "    gauss = np.exp(-0.5 * ((x-mu)/sigma)**2)\n",
    "    return gauss\n",
    "def gauss_pulse(length, sigma):\n",
    "    x = np.arange(length) + 0.5\n",
    "    mu = length / 2\n",
    "    gs = gauss(x, sigma, mu)\n",
    "    gs = gs / np.sum(gs)\n",
    "    return x, gs"
   ]
  },
  {
   "cell_type": "code",
   "execution_count": 10,
   "metadata": {
    "ExecuteTime": {
     "end_time": "2019-01-17T19:23:36.848954Z",
     "start_time": "2019-01-17T19:23:36.465221Z"
    }
   },
   "outputs": [
    {
     "data": {
      "text/plain": [
       "3062"
      ]
     },
     "execution_count": 10,
     "metadata": {},
     "output_type": "execute_result"
    },
    {
     "data": {
      "image/png": "[encoded data removed]",
      "text/plain": [
       "<Figure size 432x288 with 1 Axes>"
      ]
     },
     "metadata": {
      "needs_background": "light"
     },
     "output_type": "display_data"
    }
   ],
   "source": [
    "from scipy.constants import c\n",
    "grid_step = files.grid[files.axis_order['x']]\n",
    "sigma = (10e-15 *c / (grid_step)) /2.35\n",
    "pulse_length_cells = 2.5*2*sigma\n",
    "pulse_length_cells = int(round(pulse_length_cells))\n",
    "x, y = gauss_pulse(pulse_length_cells, sigma)\n",
    "plt.plot(x,y)\n",
    "pulse = y\n",
    "pulse_length_cells"
   ]
  },
  {
   "cell_type": "code",
   "execution_count": 11,
   "metadata": {
    "ExecuteTime": {
     "end_time": "2019-01-17T19:23:36.873306Z",
     "start_time": "2019-01-17T19:23:36.856126Z"
    }
   },
   "outputs": [
    {
     "data": {
      "text/plain": [
       "1"
      ]
     },
     "execution_count": 11,
     "metadata": {},
     "output_type": "execute_result"
    }
   ],
   "source": [
    "inc_time = 4500 * files.single_time_step\n",
    "sequence = fdrot.sim_sequence.seq_cells(start=0,\n",
    "                             end=64,\n",
    "                             inc_time=inc_time,\n",
    "                             iter_step=250,\n",
    "                             pulse_length_cells=1,\n",
    "                             files=files,\n",
    "                             propagation_axis='x')\n",
    "sequence.number_of_steps"
   ]
  },
  {
   "cell_type": "code",
   "execution_count": 12,
   "metadata": {
    "ExecuteTime": {
     "end_time": "2019-01-17T19:23:36.908947Z",
     "start_time": "2019-01-17T19:23:36.877051Z"
    }
   },
   "outputs": [
    {
     "data": {
      "text/plain": [
       "('wavelength:', 1.9074491905570662e-10, 'm')"
      ]
     },
     "execution_count": 12,
     "metadata": {},
     "output_type": "execute_result"
    }
   ],
   "source": [
    "from scipy.constants import physical_constants\n",
    "\n",
    "h = physical_constants['Planck constant in eV s'][0]\n",
    "E = 6.5e3 # eV\n",
    "wvl = h * c / E\n",
    "'wavelength:', wvl, 'm'"
   ]
  },
  {
   "cell_type": "code",
   "execution_count": 13,
   "metadata": {
    "ExecuteTime": {
     "end_time": "2019-01-17T19:23:42.156471Z",
     "start_time": "2019-01-17T19:23:36.912627Z"
    }
   },
   "outputs": [],
   "source": [
    "rotated = sequence.rotation_3d_perp(pulse=np.ones(1, dtype=np.float32), second_axis_output='y', wavelength=wvl, global_cut_output_first=None, global_cut_output_second=(90,186))"
   ]
  },
  {
   "cell_type": "code",
   "execution_count": 14,
   "metadata": {
    "ExecuteTime": {
     "end_time": "2019-01-17T19:23:42.537406Z",
     "start_time": "2019-01-17T19:23:42.160132Z"
    }
   },
   "outputs": [
    {
     "data": {
      "text/plain": [
       "<matplotlib.image.AxesImage at 0x7fb9bf37e198>"
      ]
     },
     "execution_count": 14,
     "metadata": {},
     "output_type": "execute_result"
    },
    {
     "data": {
      "image/png": "[encoded data removed]",
      "text/plain": [
       "<Figure size 432x288 with 1 Axes>"
      ]
     },
     "metadata": {
      "needs_background": "light"
     },
     "output_type": "display_data"
    }
   ],
   "source": [
    "plt.imshow(rotated)"
   ]
  },
  {
   "cell_type": "code",
   "execution_count": 15,
   "metadata": {
    "ExecuteTime": {
     "end_time": "2019-01-17T19:23:42.553322Z",
     "start_time": "2019-01-17T19:23:42.542077Z"
    }
   },
   "outputs": [],
   "source": [
    "%matplotlib inline"
   ]
  },
  {
   "cell_type": "code",
   "execution_count": 42,
   "metadata": {
    "ExecuteTime": {
     "end_time": "2019-01-17T19:53:49.990075Z",
     "start_time": "2019-01-17T19:53:49.982238Z"
    }
   },
   "outputs": [
    {
     "data": {
      "text/plain": [
       "(32, 400, 64)"
      ]
     },
     "execution_count": 42,
     "metadata": {},
     "output_type": "execute_result"
    }
   ],
   "source": [
    "product.shape"
   ]
  },
  {
   "cell_type": "code",
   "execution_count": 16,
   "metadata": {
    "ExecuteTime": {
     "end_time": "2019-01-17T19:23:42.773229Z",
     "start_time": "2019-01-17T19:23:42.557313Z"
    }
   },
   "outputs": [],
   "source": [
    "product = files.open(4500, 'Bx') * files.open(4500, 'n_e')\n",
    "\n",
    "product_slice_front = product[:,90:186,0] # 90:170\n",
    "product_slice_top = product[0, 90:186, :]\n",
    "product_slice_right = product[:,185, :]\n",
    "all_sides = [product_slice_front, product_slice_right, product_slice_top]\n",
    "v_max  = 0\n",
    "for side in all_sides:\n",
    "    val = max([abs(np.min(side)), abs(np.max(side))])\n",
    "    if val > v_max:\n",
    "        v_max = val\n",
    "v_max *=0.25\n",
    "norm = mpl.colors.Normalize(vmin=-v_max, vmax=v_max)"
   ]
  },
  {
   "cell_type": "code",
   "execution_count": 17,
   "metadata": {
    "ExecuteTime": {
     "end_time": "2019-01-17T19:23:43.440533Z",
     "start_time": "2019-01-17T19:23:42.777602Z"
    }
   },
   "outputs": [
    {
     "data": {
      "image/png": "[encoded data removed]",
      "text/plain": [
       "<Figure size 720x288 with 4 Axes>"
      ]
     },
     "metadata": {
      "needs_background": "light"
     },
     "output_type": "display_data"
    }
   ],
   "source": [
    "f, ax = plt.subplots(2,2, figsize=(10,4))\n",
    "plt.axis('off')\n",
    "cmap = sns.diverging_palette(240, 10, s=90, l=25, n=250 ,\n",
    "                                          center = 'light',\n",
    "                                          as_cmap=True)\n",
    "#v_max = max([abs(np.min(product_slice)), abs(np.max(product_slice))])\n",
    "img_front = ax[0][0].imshow(product_slice_front, cmap=cmap, norm=norm )\n",
    "img_top = ax[0][1].imshow(product_slice_top, cmap=cmap, norm=norm )\n",
    "img_right = ax[1][0].imshow(product_slice_right, cmap=cmap, norm=norm )\n",
    "ing_rot = ax[1][1].imshow(rotated, cmap=cmap )\n",
    "for axis in ax.reshape(4):\n",
    "    axis.set_axis_off()\n",
    "#f.colorbar(ax.images[0], ax=ax)\n",
    "#f.savefig(\"left.png\",  )"
   ]
  },
  {
   "cell_type": "code",
   "execution_count": 29,
   "metadata": {
    "ExecuteTime": {
     "end_time": "2019-01-17T19:34:05.006696Z",
     "start_time": "2019-01-17T19:34:04.975057Z"
    }
   },
   "outputs": [],
   "source": [
    "img_front.write_png('front.png')\n",
    "img_right.write_png('right.png')\n",
    "img_top.write_png('top.png')\n",
    "ing_rot.write_png('rot.png')"
   ]
  },
  {
   "cell_type": "code",
   "execution_count": 39,
   "metadata": {
    "ExecuteTime": {
     "end_time": "2019-01-17T19:36:05.625491Z",
     "start_time": "2019-01-17T19:36:05.590867Z"
    }
   },
   "outputs": [
    {
     "name": "stderr",
     "output_type": "stream",
     "text": [
      "/home/ordyna35/anaconda3/envs/fdrot/lib/python3.6/site-packages/skimage/transform/_warps.py:105: UserWarning: The default mode, 'constant', will be changed to 'reflect' in skimage 0.15.\n",
      "  warn(\"The default mode, 'constant', will be changed to 'reflect' in \"\n",
      "/home/ordyna35/anaconda3/envs/fdrot/lib/python3.6/site-packages/skimage/transform/_warps.py:110: UserWarning: Anti-aliasing will be enabled by default in skimage 0.15 to avoid aliasing artifacts when down-sampling images.\n",
      "  warn(\"Anti-aliasing will be enabled by default in skimage 0.15 to \"\n",
      "/home/ordyna35/anaconda3/envs/fdrot/lib/python3.6/site-packages/skimage/transform/_warps.py:105: UserWarning: The default mode, 'constant', will be changed to 'reflect' in skimage 0.15.\n",
      "  warn(\"The default mode, 'constant', will be changed to 'reflect' in \"\n",
      "/home/ordyna35/anaconda3/envs/fdrot/lib/python3.6/site-packages/skimage/transform/_warps.py:110: UserWarning: Anti-aliasing will be enabled by default in skimage 0.15 to avoid aliasing artifacts when down-sampling images.\n",
      "  warn(\"Anti-aliasing will be enabled by default in skimage 0.15 to \"\n",
      "/home/ordyna35/anaconda3/envs/fdrot/lib/python3.6/site-packages/skimage/transform/_warps.py:105: UserWarning: The default mode, 'constant', will be changed to 'reflect' in skimage 0.15.\n",
      "  warn(\"The default mode, 'constant', will be changed to 'reflect' in \"\n",
      "/home/ordyna35/anaconda3/envs/fdrot/lib/python3.6/site-packages/skimage/transform/_warps.py:110: UserWarning: Anti-aliasing will be enabled by default in skimage 0.15 to avoid aliasing artifacts when down-sampling images.\n",
      "  warn(\"Anti-aliasing will be enabled by default in skimage 0.15 to \"\n",
      "/home/ordyna35/anaconda3/envs/fdrot/lib/python3.6/site-packages/skimage/transform/_warps.py:105: UserWarning: The default mode, 'constant', will be changed to 'reflect' in skimage 0.15.\n",
      "  warn(\"The default mode, 'constant', will be changed to 'reflect' in \"\n",
      "/home/ordyna35/anaconda3/envs/fdrot/lib/python3.6/site-packages/skimage/transform/_warps.py:110: UserWarning: Anti-aliasing will be enabled by default in skimage 0.15 to avoid aliasing artifacts when down-sampling images.\n",
      "  warn(\"Anti-aliasing will be enabled by default in skimage 0.15 to \"\n"
     ]
    }
   ],
   "source": [
    "images =[('front',(10,30) ), ('right',(10, 20) ), ('top', (30, 20)), ('rot', (10,30))]\n",
    "images_resized = [None] * 4\n",
    "for ii, (name, shape) in enumerate(images):\n",
    "    image = skimage.io.imread(name + \".png\")\n",
    "    images_resized[ii]  = skimage.transform.resize(image, shape)"
   ]
  },
  {
   "cell_type": "code",
   "execution_count": 40,
   "metadata": {
    "ExecuteTime": {
     "end_time": "2019-01-17T19:36:06.099339Z",
     "start_time": "2019-01-17T19:36:06.090661Z"
    }
   },
   "outputs": [
    {
     "data": {
      "text/plain": [
       "(10, 30, 4)"
      ]
     },
     "execution_count": 40,
     "metadata": {},
     "output_type": "execute_result"
    }
   ],
   "source": [
    "images_resized[0].shape"
   ]
  },
  {
   "cell_type": "code",
   "execution_count": 41,
   "metadata": {
    "ExecuteTime": {
     "end_time": "2019-01-17T19:36:15.542520Z",
     "start_time": "2019-01-17T19:36:15.504639Z"
    }
   },
   "outputs": [
    {
     "name": "stderr",
     "output_type": "stream",
     "text": [
      "/home/ordyna35/anaconda3/envs/fdrot/lib/python3.6/site-packages/skimage/util/dtype.py:141: UserWarning: Possible precision loss when converting from float64 to uint8\n",
      "  .format(dtypeobj_in, dtypeobj_out))\n",
      "/home/ordyna35/anaconda3/envs/fdrot/lib/python3.6/site-packages/skimage/util/dtype.py:141: UserWarning: Possible precision loss when converting from float64 to uint8\n",
      "  .format(dtypeobj_in, dtypeobj_out))\n",
      "/home/ordyna35/anaconda3/envs/fdrot/lib/python3.6/site-packages/skimage/util/dtype.py:141: UserWarning: Possible precision loss when converting from float64 to uint8\n",
      "  .format(dtypeobj_in, dtypeobj_out))\n",
      "/home/ordyna35/anaconda3/envs/fdrot/lib/python3.6/site-packages/skimage/util/dtype.py:141: UserWarning: Possible precision loss when converting from float64 to uint8\n",
      "  .format(dtypeobj_in, dtypeobj_out))\n"
     ]
    }
   ],
   "source": [
    "images_resized[0][0,:,:] = images_resized[2][:,0,:]\n",
    "images_resized[2][-1,:,:] = images_resized[1][0,:,:]\n",
    "images_resized[0][:,-1,:] = images_resized[1][:,0,:]\n",
    "for ii, (name, shape) in enumerate(images):\n",
    "    skimage.io.imsave(name + '_scaled.png', images_resized[ii])"
   ]
  },
  {
   "cell_type": "code",
   "execution_count": 209,
   "metadata": {
    "ExecuteTime": {
     "end_time": "2019-01-13T21:10:15.282102Z",
     "start_time": "2019-01-13T21:10:14.898766Z"
    }
   },
   "outputs": [
    {
     "data": {
      "image/png": "[encoded data removed]",
      "text/plain": [
       "<Figure size 432x288 with 1 Axes>"
      ]
     },
     "metadata": {
      "needs_background": "light"
     },
     "output_type": "display_data"
    }
   ],
   "source": [
    "f, ax = plt.subplots(1)\n",
    "ax.imshow(image_resized)\n",
    "ax.images[0].write_png('rotation_scaled.png')"
   ]
  },
  {
   "cell_type": "code",
   "execution_count": 38,
   "metadata": {
    "ExecuteTime": {
     "end_time": "2019-01-17T16:15:13.510296Z",
     "start_time": "2019-01-17T16:15:13.399834Z"
    }
   },
   "outputs": [],
   "source": [
    "skimage.io.imsave?"
   ]
  },
  {
   "cell_type": "code",
   "execution_count": null,
   "metadata": {},
   "outputs": [],
   "source": []
  }
 ],
 "metadata": {
  "kernelspec": {
   "display_name": "Python (fdrot)",
   "language": "python",
   "name": "fdrot"
  },
  "language_info": {
   "codemirror_mode": {
    "name": "ipython",
    "version": 3
   },
   "file_extension": ".py",
   "mimetype": "text/x-python",
   "name": "python",
   "nbconvert_exporter": "python",
   "pygments_lexer": "ipython3",
   "version": "3.6.8"
  }
 },
 "nbformat": 4,
 "nbformat_minor": 2
}
