{
 "cells": [
  {
   "cell_type": "code",
   "execution_count": null,
   "metadata": {
    "ExecuteTime": {
     "end_time": "2018-10-12T09:18:01.954387Z",
     "start_time": "2018-10-12T09:18:01.170800Z"
    }
   },
   "outputs": [],
   "source": [
    "import numpy as np\n",
    "import matplotlib.pyplot as plt"
   ]
  },
  {
   "cell_type": "code",
   "execution_count": null,
   "metadata": {
    "ExecuteTime": {
     "end_time": "2018-10-12T09:18:03.058906Z",
     "start_time": "2018-10-12T09:18:01.958976Z"
    }
   },
   "outputs": [],
   "source": [
    "%load_ext Cython"
   ]
  },
  {
   "cell_type": "code",
   "execution_count": null,
   "metadata": {
    "ExecuteTime": {
     "end_time": "2018-10-12T12:05:46.391459Z",
     "start_time": "2018-10-12T12:05:46.371620Z"
    },
    "code_folding": [],
    "scrolled": false
   },
   "outputs": [],
   "source": [
    "%%cython -a\n",
    "cimport cython\n",
    "cimport numpy as np\n",
    "import  numpy as np\n",
    "from libc.math cimport sqrt\n",
    "\n",
    "\n",
    "@cython.cdivision(True)\n",
    "@cython.boundscheck(False)\n",
    "@cython.wraparound(False)\n",
    "cdef int _rotation(double [:,::1] input_data, double [:,::1] output_data,\n",
    "                  bint interpolation = 0):\n",
    "    cdef Py_ssize_t r_len, s_len\n",
    "    r_len = input_data.shape[1]\n",
    "    s_len = input_data.shape[0]\n",
    "    cdef Py_ssize_t r_len_half = r_len // 2\n",
    "        \n",
    "    cdef Py_ssize_t yy, xx ,rr\n",
    "    cdef double radius \n",
    "    cdef double summed_line_up, summed_line_down\n",
    "    cdef double interpolated_value_up, interpolated_value_down\n",
    "    cdef double value_diff_up, value_diff_down\n",
    "    \n",
    "    cdef double* value_1_down\n",
    "    cdef double* value_1_up\n",
    "    cdef double* value_2_down\n",
    "    cdef double* value_2_up\n",
    "    # no interpolation\n",
    "    # working on interpolation \n",
    "    \n",
    "    cdef Py_ssize_t offset, loop_start\n",
    "    if  r_len%2 == 0:\n",
    "        offset = 1\n",
    "        loop_start = 0\n",
    "    else:\n",
    "        offset = 0\n",
    "        loop_start = 1\n",
    "        \n",
    "        yy = 0\n",
    "        summed_line_up = 0\n",
    "        # just the middle line \n",
    "        if not interpolation:\n",
    "            for zz in range(s_len):\n",
    "                for xx in range(r_len_half - yy, 0 , -1):\n",
    "                    radius = sqrt((yy + 0.25)**2 + (xx - 0.5)**2)\n",
    "                    rr = int(radius)\n",
    "                    summed_line_up += (input_data[zz,r_len_half  + rr] \n",
    "                                        * (yy + 0.25)/radius)\n",
    "                output_data[r_len_half - yy ,zz] = summed_line_up\n",
    "        else:\n",
    "            for zz in range(s_len):\n",
    "                for xx in range(r_len_half - yy, 0 , -1):\n",
    "                    radius = sqrt((yy + 0.25)**2 + (xx - 0.5)**2)\n",
    "                    rr = int(radius)\n",
    "                    summed_line_up += (input_data[zz,r_len_half  + rr] \n",
    "                                       * (yy + 0.25)/radius)\n",
    "                    output_data[r_len_half - yy ,zz] = summed_line_up\n",
    "                    value_1_up = &input_data[zz,r_len_half + rr]\n",
    "                    if r_len_half - 1 == rr:\n",
    "                        interpolated_value_up = value_1_up[0]\n",
    "                    else: \n",
    "                        value_2_up = &input_data[zz,r_len_half + rr + 1]\n",
    "                        value_diff_up = value_2_up[0] - value_1_up[0]\n",
    "                        interpolated_value_up = (value_1_up[0] + \n",
    "                                                     value_diff_up\n",
    "                                                     * (radius - rr))\n",
    "                    summed_line_up += (interpolated_value_up\n",
    "                                       * (yy + 0.25)/radius)\n",
    "                output_data[r_len_half - yy ,zz] = summed_line_up\n",
    "            \n",
    "    if interpolation:\n",
    "        for zz in range(s_len):\n",
    "            for yy in range(loop_start, r_len_half):\n",
    "                summed_line_up = 0\n",
    "                summed_line_down = 0\n",
    "                for xx in range(r_len_half - yy, 0 , -1):\n",
    "                    radius = sqrt((yy + 0.5)**2 + (xx - 0.5)**2)\n",
    "                    rr = int(radius)\n",
    "                    value_1_up = &input_data[zz,r_len_half + rr]\n",
    "                    value_1_down = &input_data[zz, r_len_half - offset - rr]\n",
    "                    if r_len_half - 1 == rr:\n",
    "                        interpolated_value_up = value_1_up[0]\n",
    "                        interpolated_value_down = value_1_down[0]\n",
    "                    else: \n",
    "                        value_2_up = &input_data[zz,r_len_half + rr +1]\n",
    "                        value_2_down = &input_data[zz,r_len_half  - offset - rr - 1]\n",
    "\n",
    "                        value_diff_up = value_2_up[0] - value_1_up[0]\n",
    "                        value_diff_down = value_2_down[0] - value_1_down[0]\n",
    "\n",
    "                        interpolated_value_up = (value_1_up[0] + \n",
    "                                                 value_diff_up\n",
    "                                                 * (radius - rr))\n",
    "                        interpolated_value_down = (value_1_down[0] +\n",
    "                                                   value_diff_down\n",
    "                                                   * (radius - rr))\n",
    "\n",
    "                    summed_line_up += (interpolated_value_up \n",
    "                                       * (yy + 0.5)/radius)\n",
    "                    summed_line_down += (interpolated_value_down \n",
    "                                         * (yy + 0.5)/radius)\n",
    "                # multiply with 2 to include the other side (It's identical)\n",
    "                output_data[r_len_half - offset -yy ,zz] = 2 * summed_line_up\n",
    "                output_data[r_len_half +  yy, zz]  = 2 * summed_line_down\n",
    "    else:\n",
    "        for zz in range(s_len):\n",
    "            for yy in range(loop_start, r_len_half):\n",
    "                summed_line_up = 0\n",
    "                summed_line_down = 0\n",
    "                for xx in range(r_len_half - yy, 0 , -1):\n",
    "                    radius = sqrt((yy + 0.5)**2 + (xx - 0.5)**2)\n",
    "                    rr = int(radius)\n",
    "\n",
    "                    value_1_up = &input_data[zz,r_len_half + rr]\n",
    "                    value_1_down = &input_data[zz, r_len_half - offset - rr]\n",
    "\n",
    "                    interpolated_value_up = value_1_up[0]\n",
    "                    interpolated_value_down = value_1_down[0]\n",
    "\n",
    "                    summed_line_up += (interpolated_value_up \n",
    "                                       * (yy + 0.5)/radius)\n",
    "                    summed_line_down += (interpolated_value_down \n",
    "                                         * (yy + 0.5)/radius)\n",
    "                # multiply with 2 to include the other side (It's identical)\n",
    "                output_data[r_len_half - offset -yy ,zz] = 2 * summed_line_up\n",
    "                output_data[r_len_half +  yy, zz]  = 2 * summed_line_down\n",
    "\n",
    "    return loop_start\n",
    "\n",
    "def rotation(input_data, interpolation = False):\n",
    "    try:\n",
    "        input_data.flags\n",
    "    except AttributeError:\n",
    "        print('input_data should be a numpy array!')\n",
    "        raise\n",
    "    if input_data.flags['F_CONTIGUOUS']:\n",
    "        print('input_data should be stored in a raw major, C contigous.')\n",
    "    elif not input_data.flags['C_CONTIGUOUS']:\n",
    "        print('input_data as to be a contigous array.')\n",
    "    \n",
    "    if input_data.dtype != np.float64:\n",
    "        print('input should be an ndarray of type np.float64.')\n",
    "        print('Converting to float64 and continuing...')\n",
    "        input_data = input_data.astype(np.float64)\n",
    "\n",
    "    output = np.zeros(input_data.size, dtype=np.float64, order='C').reshape(\n",
    "                    input_data.shape[1], input_data.shape[0])\n",
    "    \n",
    "    cdef double [:,::1] input_data_view = input_data\n",
    "    cdef double [:,::1] output_view = output\n",
    "    # returned_status just for debugging, flow control. To be removed!\n",
    "    returned_status = _rotation(input_data_view, output_view, interpolation)\n",
    "    print(returned_status)\n",
    "    return output"
   ]
  },
  {
   "cell_type": "code",
   "execution_count": null,
   "metadata": {
    "ExecuteTime": {
     "end_time": "2018-10-12T11:23:09.194947Z",
     "start_time": "2018-10-12T11:23:09.190915Z"
    }
   },
   "outputs": [],
   "source": [
    "path = '../../Faraday_Rotation/test_samples/'"
   ]
  },
  {
   "cell_type": "code",
   "execution_count": null,
   "metadata": {
    "ExecuteTime": {
     "end_time": "2018-10-12T11:23:09.213144Z",
     "start_time": "2018-10-12T11:23:09.198050Z"
    }
   },
   "outputs": [],
   "source": [
    "file_name = 'sim'"
   ]
  },
  {
   "cell_type": "code",
   "execution_count": null,
   "metadata": {
    "ExecuteTime": {
     "end_time": "2018-10-12T11:23:09.234773Z",
     "start_time": "2018-10-12T11:23:09.216368Z"
    }
   },
   "outputs": [],
   "source": [
    "test_sample = np.load(path + file_name + '.npy')"
   ]
  },
  {
   "cell_type": "code",
   "execution_count": null,
   "metadata": {
    "ExecuteTime": {
     "end_time": "2018-10-12T11:43:25.289130Z",
     "start_time": "2018-10-12T11:43:25.096738Z"
    }
   },
   "outputs": [],
   "source": [
    "plt.imshow(test_sample)"
   ]
  },
  {
   "cell_type": "code",
   "execution_count": null,
   "metadata": {
    "ExecuteTime": {
     "end_time": "2018-10-12T11:38:37.889940Z",
     "start_time": "2018-10-12T11:38:37.882071Z"
    }
   },
   "outputs": [],
   "source": [
    "test_sample.shape"
   ]
  },
  {
   "cell_type": "code",
   "execution_count": null,
   "metadata": {
    "ExecuteTime": {
     "end_time": "2018-10-12T12:06:26.012975Z",
     "start_time": "2018-10-12T12:06:25.828744Z"
    }
   },
   "outputs": [],
   "source": [
    "rotated = rotation(np.ascontiguousarray(test_sample[::-1,:]),\n",
    "                                        interpolation = True)"
   ]
  },
  {
   "cell_type": "code",
   "execution_count": null,
   "metadata": {
    "ExecuteTime": {
     "end_time": "2018-10-12T12:04:01.241523Z",
     "start_time": "2018-10-12T12:04:00.585647Z"
    }
   },
   "outputs": [],
   "source": [
    "f, ax = plt.subplots(1, figsize=(20,20))\n",
    "ax.imshow(rotated[:,250:550])\n",
    "f.colorbar(ax.images[0])\n",
    "#f.savefig('w_int.jpg')"
   ]
  },
  {
   "cell_type": "code",
   "execution_count": null,
   "metadata": {},
   "outputs": [],
   "source": []
  }
 ],
 "metadata": {
  "kernelspec": {
   "display_name": "Python 3",
   "language": "python",
   "name": "python3"
  },
  "language_info": {
   "codemirror_mode": {
    "name": "ipython",
    "version": 3
   },
   "file_extension": ".py",
   "mimetype": "text/x-python",
   "name": "python",
   "nbconvert_exporter": "python",
   "pygments_lexer": "ipython3",
   "version": "3.6.6"
  }
 },
 "nbformat": 4,
 "nbformat_minor": 2
}
