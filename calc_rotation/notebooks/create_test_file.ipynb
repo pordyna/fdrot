{
 "cells": [
  {
   "cell_type": "code",
   "execution_count": 2,
   "metadata": {
    "ExecuteTime": {
     "end_time": "2018-12-04T12:27:41.171936Z",
     "start_time": "2018-12-04T12:27:41.089738Z"
    }
   },
   "outputs": [],
   "source": [
    "import numpy as np\n",
    "import os"
   ]
  },
  {
   "cell_type": "code",
   "execution_count": 3,
   "metadata": {
    "ExecuteTime": {
     "end_time": "2018-12-04T12:27:41.291024Z",
     "start_time": "2018-12-04T12:27:41.233921Z"
    }
   },
   "outputs": [],
   "source": [
    "import h5py"
   ]
  },
  {
   "cell_type": "code",
   "execution_count": 4,
   "metadata": {
    "ExecuteTime": {
     "end_time": "2018-12-04T12:27:41.377603Z",
     "start_time": "2018-12-04T12:27:41.371670Z"
    }
   },
   "outputs": [],
   "source": [
    "save_dir = \"/home/pawel/Work/HOME/Faraday_Rotation/data/\""
   ]
  },
  {
   "cell_type": "code",
   "execution_count": 5,
   "metadata": {
    "ExecuteTime": {
     "end_time": "2018-12-04T12:27:41.508542Z",
     "start_time": "2018-12-04T12:27:41.505286Z"
    }
   },
   "outputs": [],
   "source": [
    "dir_name = 'constant_samples'"
   ]
  },
  {
   "cell_type": "code",
   "execution_count": 6,
   "metadata": {
    "ExecuteTime": {
     "end_time": "2018-12-04T12:27:41.804284Z",
     "start_time": "2018-12-04T12:27:41.670072Z"
    }
   },
   "outputs": [
    {
     "name": "stdout",
     "output_type": "stream",
     "text": [
      "mkdir: cannot create directory ‘/home/pawel/Work/HOME/Faraday_Rotation/data/constant_samples’: File exists\r\n"
     ]
    }
   ],
   "source": [
    "path = os.path.join(save_dir, dir_name)\n",
    "! mkdir $path"
   ]
  },
  {
   "cell_type": "code",
   "execution_count": 13,
   "metadata": {
    "ExecuteTime": {
     "end_time": "2018-12-04T12:36:55.377185Z",
     "start_time": "2018-12-04T12:36:55.371026Z"
    }
   },
   "outputs": [],
   "source": [
    "shape = (100,300)\n",
    "size = shape[0]* shape[1]\n",
    "number = 10"
   ]
  },
  {
   "cell_type": "code",
   "execution_count": 18,
   "metadata": {
    "ExecuteTime": {
     "end_time": "2018-12-04T12:38:49.156532Z",
     "start_time": "2018-12-04T12:38:49.145821Z"
    }
   },
   "outputs": [],
   "source": [
    "steps = [None] * number\n",
    "for ii in range(number):\n",
    "#     steps[ii] = np.random.randn(size).astype(np.float64)\n",
    "    steps[ii] = np.ones(size).astype(np.float64)\n",
    "    steps[ii] = steps[ii].reshape(shape)"
   ]
  },
  {
   "cell_type": "code",
   "execution_count": 19,
   "metadata": {
    "ExecuteTime": {
     "end_time": "2018-12-04T12:38:49.317593Z",
     "start_time": "2018-12-04T12:38:49.313396Z"
    }
   },
   "outputs": [],
   "source": [
    "# for ii in range(number):\n",
    "#     steps[ii][:,15:] = 0"
   ]
  },
  {
   "cell_type": "code",
   "execution_count": 20,
   "metadata": {
    "ExecuteTime": {
     "end_time": "2018-12-04T12:38:50.169219Z",
     "start_time": "2018-12-04T12:38:49.480226Z"
    }
   },
   "outputs": [],
   "source": [
    "for ii in range(len(steps)):\n",
    "    file_name = 'step_' + str(ii) + '.npy'\n",
    "    np.save(os.path.join(path, file_name), steps[ii])"
   ]
  },
  {
   "cell_type": "code",
   "execution_count": 21,
   "metadata": {
    "ExecuteTime": {
     "end_time": "2018-12-04T12:38:50.315855Z",
     "start_time": "2018-12-04T12:38:50.173872Z"
    }
   },
   "outputs": [
    {
     "name": "stdout",
     "output_type": "stream",
     "text": [
      "simData_0.h5  step_1.npy  step_3.npy  step_5.npy  step_7.npy  step_9.npy\r\n",
      "step_0.npy    step_2.npy  step_4.npy  step_6.npy  step_8.npy\r\n"
     ]
    }
   ],
   "source": [
    "! ls $path"
   ]
  },
  {
   "cell_type": "code",
   "execution_count": 12,
   "metadata": {
    "ExecuteTime": {
     "end_time": "2018-12-04T12:27:43.076887Z",
     "start_time": "2018-12-04T12:27:43.022089Z"
    }
   },
   "outputs": [
    {
     "data": {
      "text/plain": [
       "(100, 301)"
      ]
     },
     "execution_count": 12,
     "metadata": {},
     "output_type": "execute_result"
    }
   ],
   "source": [
    "np.load(os.path.join(path, 'step_5.npy')).shape"
   ]
  },
  {
   "cell_type": "code",
   "execution_count": null,
   "metadata": {},
   "outputs": [],
   "source": []
  },
  {
   "cell_type": "code",
   "execution_count": null,
   "metadata": {},
   "outputs": [],
   "source": []
  }
 ],
 "metadata": {
  "kernelspec": {
   "display_name": "Python [conda env:fdrot]",
   "language": "python",
   "name": "conda-env-fdrot-py"
  },
  "language_info": {
   "codemirror_mode": {
    "name": "ipython",
    "version": 3
   },
   "file_extension": ".py",
   "mimetype": "text/x-python",
   "name": "python",
   "nbconvert_exporter": "python",
   "pygments_lexer": "ipython3",
   "version": "3.7.0"
  }
 },
 "nbformat": 4,
 "nbformat_minor": 2
}
