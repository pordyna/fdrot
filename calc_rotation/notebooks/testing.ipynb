{
 "cells": [
  {
   "cell_type": "code",
   "execution_count": 1,
   "metadata": {
    "ExecuteTime": {
     "end_time": "2018-11-15T16:42:00.657600Z",
     "start_time": "2018-11-15T16:42:00.033279Z"
    }
   },
   "outputs": [],
   "source": [
    "import calc_rotation\n",
    "from calc_rotation.sim_data.export_hdf5 import export_h5py_bz\n",
    "from calc_rotation.sim_data.export_hdf5 import export_h5py_ne\n",
    "import h5py\n",
    "import matplotlib.pyplot as plt\n",
    "import numpy as np"
   ]
  },
  {
   "cell_type": "code",
   "execution_count": 2,
   "metadata": {
    "ExecuteTime": {
     "end_time": "2018-11-15T16:42:00.665660Z",
     "start_time": "2018-11-15T16:42:00.661143Z"
    }
   },
   "outputs": [],
   "source": [
    "path = '/home/pawel/Work/PIConGPU/151_PizDaintCopper30nmPerfectContrast/simOutput/h5/'"
   ]
  },
  {
   "cell_type": "code",
   "execution_count": 3,
   "metadata": {
    "ExecuteTime": {
     "end_time": "2018-11-15T16:42:00.829502Z",
     "start_time": "2018-11-15T16:42:00.669810Z"
    }
   },
   "outputs": [
    {
     "name": "stdout",
     "output_type": "stream",
     "text": [
      "simData_0.h5\t   simData_137500.h5  simData_25000.h5\tsimData_65000.h5\r\n",
      "simData_100000.h5  simData_140000.h5  simData_2500.h5\tsimData_67500.h5\r\n",
      "simData_10000.h5   simData_142500.h5  simData_27500.h5\tsimData_70000.h5\r\n",
      "simData_102500.h5  simData_145000.h5  simData_30000.h5\tsimData_72500.h5\r\n",
      "simData_105000.h5  simData_147500.h5  simData_32500.h5\tsimData_75000.h5\r\n",
      "simData_107500.h5  simData_150000.h5  simData_35000.h5\tsimData_7500.h5\r\n",
      "simData_110000.h5  simData_15000.h5   simData_37500.h5\tsimData_77500.h5\r\n",
      "simData_112500.h5  simData_152500.h5  simData_40000.h5\tsimData_80000.h5\r\n",
      "simData_115000.h5  simData_155000.h5  simData_42500.h5\tsimData_82500.h5\r\n",
      "simData_117500.h5  simData_157500.h5  simData_45000.h5\tsimData_85000.h5\r\n",
      "simData_120000.h5  simData_160000.h5  simData_47500.h5\tsimData_87500.h5\r\n",
      "simData_122500.h5  simData_162500.h5  simData_50000.h5\tsimData_90000.h5\r\n",
      "simData_125000.h5  simData_165000.h5  simData_5000.h5\tsimData_92500.h5\r\n",
      "simData_12500.h5   simData_167500.h5  simData_52500.h5\tsimData_95000.h5\r\n",
      "simData_127500.h5  simData_170000.h5  simData_55000.h5\tsimData_97500.h5\r\n",
      "simData_130000.h5  simData_17500.h5   simData_57500.h5\r\n",
      "simData_132500.h5  simData_20000.h5   simData_60000.h5\r\n",
      "simData_135000.h5  simData_22500.h5   simData_62500.h5\r\n"
     ]
    }
   ],
   "source": [
    "! ls $path"
   ]
  },
  {
   "cell_type": "code",
   "execution_count": 4,
   "metadata": {
    "ExecuteTime": {
     "end_time": "2018-11-15T16:42:00.851653Z",
     "start_time": "2018-11-15T16:42:00.836135Z"
    }
   },
   "outputs": [],
   "source": [
    "file = h5py.File(path + 'simData_0.h5')\n",
    "grid_unit = file['data/0/fields/e_density'].attrs['gridUnitSI'] \n",
    "dt = file['data/0'].attrs['dt'] * file['data/0'].attrs['timeUnitSI']"
   ]
  },
  {
   "cell_type": "code",
   "execution_count": 5,
   "metadata": {
    "ExecuteTime": {
     "end_time": "2018-11-15T16:42:01.084562Z",
     "start_time": "2018-11-15T16:42:01.079372Z"
    }
   },
   "outputs": [
    {
     "name": "stdout",
     "output_type": "stream",
     "text": [
      "4.243442250649631e-10 1.415459974863554e-18\n"
     ]
    }
   ],
   "source": [
    "print(grid_unit, dt)"
   ]
  },
  {
   "cell_type": "code",
   "execution_count": 6,
   "metadata": {
    "ExecuteTime": {
     "end_time": "2018-11-15T16:42:01.639446Z",
     "start_time": "2018-11-15T16:42:01.635780Z"
    }
   },
   "outputs": [],
   "source": [
    "inc_time = 50036 * dt"
   ]
  },
  {
   "cell_type": "code",
   "execution_count": 7,
   "metadata": {
    "ExecuteTime": {
     "end_time": "2018-11-15T16:42:02.071224Z",
     "start_time": "2018-11-15T16:42:02.030148Z"
    },
    "pixiedust": {
     "displayParams": {}
    }
   },
   "outputs": [],
   "source": [
    "file_list = calc_rotation.sim_data.FilesLists.UniversalSingle(path, 'Bz', dt, grid_unit, 'simData_', '.h5',\n",
    "                                   export_h5py_bz)"
   ]
  },
  {
   "cell_type": "code",
   "execution_count": 8,
   "metadata": {
    "ExecuteTime": {
     "end_time": "2018-11-15T16:42:04.676552Z",
     "start_time": "2018-11-15T16:42:04.660543Z"
    }
   },
   "outputs": [],
   "source": [
    "file_list2 = calc_rotation.sim_data.FilesLists.UniversalSingle(path, 'n_e', dt, grid_unit, 'simData_', '.h5',\n",
    "                                   export_h5py_bz)"
   ]
  },
  {
   "cell_type": "code",
   "execution_count": 39,
   "metadata": {
    "ExecuteTime": {
     "end_time": "2018-11-15T16:57:30.607392Z",
     "start_time": "2018-11-15T16:57:30.600638Z"
    }
   },
   "outputs": [],
   "source": [
    "sequence = calc_rotation.SimSequence.seq_cells(0,256, inc_time, 2500, 10, {'Bz': file_list, 'n_e': file_list2})"
   ]
  },
  {
   "cell_type": "code",
   "execution_count": 40,
   "metadata": {
    "ExecuteTime": {
     "end_time": "2018-11-15T16:57:31.084286Z",
     "start_time": "2018-11-15T16:57:31.077369Z"
    }
   },
   "outputs": [
    {
     "data": {
      "text/plain": [
       "1"
      ]
     },
     "execution_count": 40,
     "metadata": {},
     "output_type": "execute_result"
    }
   ],
   "source": [
    "sequence.number_of_steps"
   ]
  },
  {
   "cell_type": "code",
   "execution_count": 41,
   "metadata": {
    "ExecuteTime": {
     "end_time": "2018-11-15T16:57:36.554062Z",
     "start_time": "2018-11-15T16:57:31.536800Z"
    }
   },
   "outputs": [],
   "source": [
    "rotated = sequence.rotation_2d_perp()"
   ]
  },
  {
   "cell_type": "code",
   "execution_count": 16,
   "metadata": {
    "ExecuteTime": {
     "end_time": "2018-11-15T16:44:17.142494Z",
     "start_time": "2018-11-15T16:44:16.914785Z"
    }
   },
   "outputs": [
    {
     "data": {
      "text/plain": [
       "<matplotlib.image.AxesImage at 0x7efd4286c208>"
      ]
     },
     "execution_count": 16,
     "metadata": {},
     "output_type": "execute_result"
    },
    {
     "data": {
      "image/png": "[encoded data removed]",
      "text/plain": [
       "<Figure size 432x288 with 1 Axes>"
      ]
     },
     "metadata": {
      "needs_background": "light"
     },
     "output_type": "display_data"
    }
   ],
   "source": [
    "plt.imshow(rotated[0,:])\n",
    "           "
   ]
  },
  {
   "cell_type": "code",
   "execution_count": 9,
   "metadata": {
    "ExecuteTime": {
     "end_time": "2018-11-15T14:43:52.413550Z",
     "start_time": "2018-11-15T14:43:52.352854Z"
    }
   },
   "outputs": [
    {
     "data": {
      "text/plain": [
       "(1280, 256)"
      ]
     },
     "execution_count": 9,
     "metadata": {},
     "output_type": "execute_result"
    }
   ],
   "source": [
    "file_list.open(0, 'Bz').shape"
   ]
  },
  {
   "cell_type": "code",
   "execution_count": 10,
   "metadata": {
    "ExecuteTime": {
     "end_time": "2018-11-15T14:43:53.057166Z",
     "start_time": "2018-11-15T14:43:53.042655Z"
    }
   },
   "outputs": [
    {
     "data": {
      "text/plain": [
       "array([     0,   2500,   5000,   7500,  10000,  12500,  15000,  17500,\n",
       "        20000,  22500,  25000,  27500,  30000,  32500,  35000,  37500,\n",
       "        40000,  42500,  45000,  47500,  50000,  52500,  55000,  57500,\n",
       "        60000,  62500,  65000,  67500,  70000,  72500,  75000,  77500,\n",
       "        80000,  82500,  85000,  87500,  90000,  92500,  95000,  97500,\n",
       "       100000, 102500, 105000, 107500, 110000, 112500, 115000, 117500,\n",
       "       120000, 122500, 125000, 127500, 130000, 132500, 135000, 137500,\n",
       "       140000, 142500, 145000, 147500, 150000, 152500, 155000, 157500,\n",
       "       160000, 162500, 165000, 167500, 170000])"
      ]
     },
     "execution_count": 10,
     "metadata": {},
     "output_type": "execute_result"
    }
   ],
   "source": [
    "file_list.ids"
   ]
  },
  {
   "cell_type": "code",
   "execution_count": null,
   "metadata": {
    "ExecuteTime": {
     "end_time": "2018-11-15T14:17:53.242204Z",
     "start_time": "2018-11-15T14:17:53.232053Z"
    }
   },
   "outputs": [],
   "source": [
    "5000 * 21 - 170000"
   ]
  },
  {
   "cell_type": "code",
   "execution_count": null,
   "metadata": {
    "ExecuteTime": {
     "end_time": "2018-11-15T14:33:57.399007Z",
     "start_time": "2018-11-15T14:33:57.389664Z"
    }
   },
   "outputs": [],
   "source": [
    "170000 * dt * 10**15"
   ]
  },
  {
   "cell_type": "code",
   "execution_count": null,
   "metadata": {
    "ExecuteTime": {
     "end_time": "2018-11-15T14:36:10.883018Z",
     "start_time": "2018-11-15T14:36:10.874777Z"
    }
   },
   "outputs": [],
   "source": [
    "grid_unit * 256 / speed_of_light * 10**15"
   ]
  },
  {
   "cell_type": "code",
   "execution_count": 34,
   "metadata": {
    "ExecuteTime": {
     "end_time": "2018-11-15T16:56:04.835564Z",
     "start_time": "2018-11-15T16:56:04.827218Z"
    }
   },
   "outputs": [],
   "source": [
    "from scipy.constants import speed_of_light"
   ]
  },
  {
   "cell_type": "code",
   "execution_count": 17,
   "metadata": {
    "ExecuteTime": {
     "end_time": "2018-11-15T14:45:45.933061Z",
     "start_time": "2018-11-15T14:45:45.923864Z"
    }
   },
   "outputs": [
    {
     "data": {
      "text/plain": [
       "7064.841237184379"
      ]
     },
     "execution_count": 17,
     "metadata": {},
     "output_type": "execute_result"
    }
   ],
   "source": [
    "10 * 10**(-15) * speed_of_light / grid_unit"
   ]
  },
  {
   "cell_type": "code",
   "execution_count": 43,
   "metadata": {
    "ExecuteTime": {
     "end_time": "2018-11-15T16:57:56.696446Z",
     "start_time": "2018-11-15T16:57:56.685655Z"
    }
   },
   "outputs": [
    {
     "data": {
      "text/plain": [
       "9.812279496089413"
      ]
     },
     "execution_count": 43,
     "metadata": {},
     "output_type": "execute_result"
    }
   ],
   "source": [
    "10 /(grid_unit / speed_of_light * 10**15) "
   ]
  },
  {
   "cell_type": "code",
   "execution_count": 14,
   "metadata": {
    "ExecuteTime": {
     "end_time": "2018-11-15T15:03:03.443849Z",
     "start_time": "2018-11-15T15:03:03.437430Z"
    }
   },
   "outputs": [
    {
     "data": {
      "text/plain": [
       "1.0863212161663055e-07"
      ]
     },
     "execution_count": 14,
     "metadata": {},
     "output_type": "execute_result"
    }
   ],
   "source": [
    "256 * grid_unit"
   ]
  },
  {
   "cell_type": "code",
   "execution_count": 33,
   "metadata": {
    "ExecuteTime": {
     "end_time": "2018-11-15T16:50:44.568633Z",
     "start_time": "2018-11-15T16:50:44.560358Z"
    }
   },
   "outputs": [
    {
     "data": {
      "text/plain": [
       "0.262144"
      ]
     },
     "execution_count": 33,
     "metadata": {},
     "output_type": "execute_result"
    }
   ],
   "source": [
    "100 * 256 * 1280 * 64 /8 / 1000000000"
   ]
  },
  {
   "cell_type": "code",
   "execution_count": null,
   "metadata": {},
   "outputs": [],
   "source": []
  }
 ],
 "metadata": {
  "kernelspec": {
   "display_name": "Python 3",
   "language": "python",
   "name": "python3"
  },
  "language_info": {
   "codemirror_mode": {
    "name": "ipython",
    "version": 3
   },
   "file_extension": ".py",
   "mimetype": "text/x-python",
   "name": "python",
   "nbconvert_exporter": "python",
   "pygments_lexer": "ipython3",
   "version": "3.6.6"
  }
 },
 "nbformat": 4,
 "nbformat_minor": 2
}
