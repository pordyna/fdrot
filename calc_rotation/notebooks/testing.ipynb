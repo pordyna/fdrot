{
 "cells": [
  {
   "cell_type": "code",
   "execution_count": 1,
   "metadata": {
    "ExecuteTime": {
     "end_time": "2018-11-30T11:12:43.219159Z",
     "start_time": "2018-11-30T11:12:42.721903Z"
    }
   },
   "outputs": [],
   "source": [
    "import fdrot\n",
    "from fdrot.sim_data.export_hdf5 import export_h5py_bz\n",
    "from fdrot.sim_data.export_hdf5 import export_h5py_ne\n",
    "import h5py\n",
    "import matplotlib.pyplot as plt\n",
    "import numpy as np\n"
   ]
  },
  {
   "cell_type": "code",
   "execution_count": 2,
   "metadata": {
    "ExecuteTime": {
     "end_time": "2018-11-30T11:12:43.333112Z",
     "start_time": "2018-11-30T11:12:43.223044Z"
    }
   },
   "outputs": [
    {
     "name": "stdout",
     "output_type": "stream",
     "text": [
      "Using matplotlib backend: Qt5Agg\n"
     ]
    }
   ],
   "source": [
    "%matplotlib auto"
   ]
  },
  {
   "cell_type": "code",
   "execution_count": 3,
   "metadata": {
    "ExecuteTime": {
     "end_time": "2018-11-30T11:12:43.342199Z",
     "start_time": "2018-11-30T11:12:43.337262Z"
    }
   },
   "outputs": [],
   "source": [
    "path = '/home/pawel/Work/PIConGPU/151_PizDaintCopper30nmPerfectContrast/simOutput/h5/'"
   ]
  },
  {
   "cell_type": "code",
   "execution_count": 4,
   "metadata": {
    "ExecuteTime": {
     "end_time": "2018-11-30T11:12:43.605804Z",
     "start_time": "2018-11-30T11:12:43.486204Z"
    }
   },
   "outputs": [
    {
     "name": "stdout",
     "output_type": "stream",
     "text": [
      "simData_0.h5\t   simData_137500.h5  simData_25000.h5\tsimData_65000.h5\r\n",
      "simData_100000.h5  simData_140000.h5  simData_2500.h5\tsimData_67500.h5\r\n",
      "simData_10000.h5   simData_142500.h5  simData_27500.h5\tsimData_70000.h5\r\n",
      "simData_102500.h5  simData_145000.h5  simData_30000.h5\tsimData_72500.h5\r\n",
      "simData_105000.h5  simData_147500.h5  simData_32500.h5\tsimData_75000.h5\r\n",
      "simData_107500.h5  simData_150000.h5  simData_35000.h5\tsimData_7500.h5\r\n",
      "simData_110000.h5  simData_15000.h5   simData_37500.h5\tsimData_77500.h5\r\n",
      "simData_112500.h5  simData_152500.h5  simData_40000.h5\tsimData_80000.h5\r\n",
      "simData_115000.h5  simData_155000.h5  simData_42500.h5\tsimData_82500.h5\r\n",
      "simData_117500.h5  simData_157500.h5  simData_45000.h5\tsimData_85000.h5\r\n",
      "simData_120000.h5  simData_160000.h5  simData_47500.h5\tsimData_87500.h5\r\n",
      "simData_122500.h5  simData_162500.h5  simData_50000.h5\tsimData_90000.h5\r\n",
      "simData_125000.h5  simData_165000.h5  simData_5000.h5\tsimData_92500.h5\r\n",
      "simData_12500.h5   simData_167500.h5  simData_52500.h5\tsimData_95000.h5\r\n",
      "simData_127500.h5  simData_170000.h5  simData_55000.h5\tsimData_97500.h5\r\n",
      "simData_130000.h5  simData_17500.h5   simData_57500.h5\r\n",
      "simData_132500.h5  simData_20000.h5   simData_60000.h5\r\n",
      "simData_135000.h5  simData_22500.h5   simData_62500.h5\r\n"
     ]
    }
   ],
   "source": [
    "! ls $path"
   ]
  },
  {
   "cell_type": "code",
   "execution_count": 5,
   "metadata": {
    "ExecuteTime": {
     "end_time": "2018-11-30T11:12:43.669478Z",
     "start_time": "2018-11-30T11:12:43.655510Z"
    }
   },
   "outputs": [],
   "source": [
    "file = h5py.File(path + 'simData_0.h5')\n",
    "grid_unit = file['data/0/fields/e_density'].attrs['gridUnitSI'] \n",
    "dt = file['data/0'].attrs['dt'] * file['data/0'].attrs['timeUnitSI']"
   ]
  },
  {
   "cell_type": "code",
   "execution_count": 6,
   "metadata": {
    "ExecuteTime": {
     "end_time": "2018-11-30T11:12:43.860459Z",
     "start_time": "2018-11-30T11:12:43.854380Z"
    }
   },
   "outputs": [
    {
     "name": "stdout",
     "output_type": "stream",
     "text": [
      "4.243442250649631e-10 1.415459974863554e-18\n"
     ]
    }
   ],
   "source": [
    "print(grid_unit, dt)"
   ]
  },
  {
   "cell_type": "code",
   "execution_count": 7,
   "metadata": {
    "ExecuteTime": {
     "end_time": "2018-11-30T11:12:44.045058Z",
     "start_time": "2018-11-30T11:12:44.039626Z"
    }
   },
   "outputs": [],
   "source": [
    "inc_time = 50036 * dt /2"
   ]
  },
  {
   "cell_type": "code",
   "execution_count": 8,
   "metadata": {
    "ExecuteTime": {
     "end_time": "2018-11-30T11:12:44.324319Z",
     "start_time": "2018-11-30T11:12:44.255991Z"
    },
    "pixiedust": {
     "displayParams": {}
    }
   },
   "outputs": [],
   "source": [
    "file_list = fdrot.sim_data.UniversalSingle(path, 'Bz', dt, grid_unit, 'simData_', '.h5',\n",
    "                                   export_h5py_bz)"
   ]
  },
  {
   "cell_type": "code",
   "execution_count": 9,
   "metadata": {
    "ExecuteTime": {
     "end_time": "2018-11-30T11:12:46.107211Z",
     "start_time": "2018-11-30T11:12:46.092301Z"
    }
   },
   "outputs": [],
   "source": [
    "file_list2 = fdrot.sim_data.UniversalSingle(path, 'n_e', dt, grid_unit, 'simData_', '.h5',\n",
    "                                   export_h5py_ne)"
   ]
  },
  {
   "cell_type": "code",
   "execution_count": 10,
   "metadata": {
    "ExecuteTime": {
     "end_time": "2018-11-30T11:12:46.426425Z",
     "start_time": "2018-11-30T11:12:46.422384Z"
    }
   },
   "outputs": [],
   "source": [
    "sequence = fdrot.sim_sequence.seq_cells(0,256, inc_time, 2500, 10, {'Bz': file_list, 'n_e': file_list2})"
   ]
  },
  {
   "cell_type": "code",
   "execution_count": null,
   "metadata": {
    "ExecuteTime": {
     "end_time": "2018-11-26T22:02:51.069980Z",
     "start_time": "2018-11-26T22:02:50.834057Z"
    }
   },
   "outputs": [],
   "source": []
  },
  {
   "cell_type": "code",
   "execution_count": 11,
   "metadata": {
    "ExecuteTime": {
     "end_time": "2018-11-30T11:12:46.820345Z",
     "start_time": "2018-11-30T11:12:46.798583Z"
    }
   },
   "outputs": [
    {
     "data": {
      "text/plain": [
       "(1280, 256)"
      ]
     },
     "execution_count": 11,
     "metadata": {},
     "output_type": "execute_result"
    }
   ],
   "source": [
    "sequence.get_data('Bz', 'all').shape"
   ]
  },
  {
   "cell_type": "code",
   "execution_count": 12,
   "metadata": {
    "ExecuteTime": {
     "end_time": "2018-11-30T11:12:47.476961Z",
     "start_time": "2018-11-30T11:12:47.322583Z"
    }
   },
   "outputs": [
    {
     "data": {
      "text/plain": [
       "<matplotlib.image.AxesImage at 0x7f81140abc18>"
      ]
     },
     "execution_count": 12,
     "metadata": {},
     "output_type": "execute_result"
    }
   ],
   "source": [
    "plt.imshow(sequence.get_data('n_e', 'all'))"
   ]
  },
  {
   "cell_type": "code",
   "execution_count": 13,
   "metadata": {
    "ExecuteTime": {
     "end_time": "2018-11-30T11:12:50.506123Z",
     "start_time": "2018-11-30T11:12:50.410409Z"
    }
   },
   "outputs": [
    {
     "data": {
      "text/plain": [
       "<matplotlib.image.AxesImage at 0x7f810fbe3630>"
      ]
     },
     "execution_count": 13,
     "metadata": {},
     "output_type": "execute_result"
    }
   ],
   "source": [
    "plt.imshow(sequence.get_data('n_e', 'all') * sequence.get_data('Bz', 'all'))\n"
   ]
  },
  {
   "cell_type": "code",
   "execution_count": 14,
   "metadata": {
    "ExecuteTime": {
     "end_time": "2018-11-30T11:12:53.775588Z",
     "start_time": "2018-11-30T11:12:53.770444Z"
    }
   },
   "outputs": [],
   "source": [
    "pulse = np.ones(10)\n",
    "pulse = pulse /10"
   ]
  },
  {
   "cell_type": "code",
   "execution_count": 15,
   "metadata": {
    "ExecuteTime": {
     "end_time": "2018-11-30T11:12:55.773597Z",
     "start_time": "2018-11-30T11:12:54.186966Z"
    }
   },
   "outputs": [],
   "source": [
    "rotated = sequence.rotation_2d_perp(pulse, interpolation = True)"
   ]
  },
  {
   "cell_type": "code",
   "execution_count": 16,
   "metadata": {
    "ExecuteTime": {
     "end_time": "2018-11-30T11:12:57.952952Z",
     "start_time": "2018-11-30T11:12:57.946293Z"
    }
   },
   "outputs": [
    {
     "data": {
      "text/plain": [
       "6.369778428255377e+37"
      ]
     },
     "execution_count": 16,
     "metadata": {},
     "output_type": "execute_result"
    }
   ],
   "source": [
    "np.max(rotated)"
   ]
  },
  {
   "cell_type": "code",
   "execution_count": 17,
   "metadata": {
    "ExecuteTime": {
     "end_time": "2018-11-30T11:12:58.934031Z",
     "start_time": "2018-11-30T11:12:58.876778Z"
    }
   },
   "outputs": [
    {
     "data": {
      "text/plain": [
       "<matplotlib.image.AxesImage at 0x7f810f8849b0>"
      ]
     },
     "execution_count": 17,
     "metadata": {},
     "output_type": "execute_result"
    }
   ],
   "source": [
    "plt.imshow(rotated[:, :])"
   ]
  },
  {
   "cell_type": "code",
   "execution_count": 17,
   "metadata": {
    "ExecuteTime": {
     "end_time": "2018-11-19T17:10:45.173390Z",
     "start_time": "2018-11-19T17:10:40.718864Z"
    }
   },
   "outputs": [],
   "source": [
    "import cProfile\n",
    "cProfile.runctx(\"sequence.rotation_2d_perp(pulse)\", globals(), locals(), \"Profile.prof\")"
   ]
  },
  {
   "cell_type": "code",
   "execution_count": null,
   "metadata": {
    "ExecuteTime": {
     "end_time": "2018-11-19T16:44:57.718394Z",
     "start_time": "2018-11-19T16:44:49.896Z"
    }
   },
   "outputs": [],
   "source": [
    "profile = line_profiler.LineProfiler(sequence.rotation_2d_perp)\n",
    "profile.runcall?"
   ]
  },
  {
   "cell_type": "code",
   "execution_count": 16,
   "metadata": {
    "ExecuteTime": {
     "end_time": "2018-11-27T10:44:13.519164Z",
     "start_time": "2018-11-27T10:44:13.474832Z"
    }
   },
   "outputs": [],
   "source": [
    "calc_rotation.Kernel2D."
   ]
  },
  {
   "cell_type": "code",
   "execution_count": null,
   "metadata": {
    "ExecuteTime": {
     "end_time": "2018-11-19T15:47:50.482256Z",
     "start_time": "2018-11-19T15:47:50.434920Z"
    }
   },
   "outputs": [],
   "source": [
    "import pstats\n",
    "s = pstats.Stats(\"Profile.prof\")\n",
    "s.strip_dirs().sort_stats(\"time\").print_stats()"
   ]
  },
  {
   "cell_type": "code",
   "execution_count": null,
   "metadata": {
    "ExecuteTime": {
     "end_time": "2018-11-19T15:34:12.085689Z",
     "start_time": "2018-11-19T15:34:11.862488Z"
    }
   },
   "outputs": [],
   "source": [
    "%load_ext line_profiler\n",
    "import line_profiler"
   ]
  },
  {
   "cell_type": "code",
   "execution_count": null,
   "metadata": {
    "ExecuteTime": {
     "end_time": "2018-11-19T14:48:24.400099Z",
     "start_time": "2018-11-19T14:48:24.148745Z"
    }
   },
   "outputs": [],
   "source": [
    "plt.imshow(rotated)\n",
    "           "
   ]
  },
  {
   "cell_type": "code",
   "execution_count": null,
   "metadata": {
    "ExecuteTime": {
     "end_time": "2018-11-15T14:43:52.413550Z",
     "start_time": "2018-11-15T14:43:52.352854Z"
    }
   },
   "outputs": [],
   "source": [
    "file_list.open(0, 'Bz').shape"
   ]
  },
  {
   "cell_type": "code",
   "execution_count": null,
   "metadata": {
    "ExecuteTime": {
     "end_time": "2018-11-15T14:43:53.057166Z",
     "start_time": "2018-11-15T14:43:53.042655Z"
    }
   },
   "outputs": [],
   "source": [
    "file_list.ids"
   ]
  },
  {
   "cell_type": "code",
   "execution_count": null,
   "metadata": {
    "ExecuteTime": {
     "end_time": "2018-11-15T14:17:53.242204Z",
     "start_time": "2018-11-15T14:17:53.232053Z"
    }
   },
   "outputs": [],
   "source": [
    "5000 * 21 - 170000"
   ]
  },
  {
   "cell_type": "code",
   "execution_count": null,
   "metadata": {
    "ExecuteTime": {
     "end_time": "2018-11-15T14:33:57.399007Z",
     "start_time": "2018-11-15T14:33:57.389664Z"
    }
   },
   "outputs": [],
   "source": [
    "170000 * dt * 10**15"
   ]
  },
  {
   "cell_type": "code",
   "execution_count": null,
   "metadata": {
    "ExecuteTime": {
     "end_time": "2018-11-15T14:36:10.883018Z",
     "start_time": "2018-11-15T14:36:10.874777Z"
    }
   },
   "outputs": [],
   "source": [
    "grid_unit * 256 / speed_of_light * 10**15"
   ]
  },
  {
   "cell_type": "code",
   "execution_count": null,
   "metadata": {
    "ExecuteTime": {
     "end_time": "2018-11-15T16:56:04.835564Z",
     "start_time": "2018-11-15T16:56:04.827218Z"
    }
   },
   "outputs": [],
   "source": [
    "from scipy.constants import speed_of_light"
   ]
  },
  {
   "cell_type": "code",
   "execution_count": null,
   "metadata": {
    "ExecuteTime": {
     "end_time": "2018-11-15T14:45:45.933061Z",
     "start_time": "2018-11-15T14:45:45.923864Z"
    }
   },
   "outputs": [],
   "source": [
    "10 * 10**(-15) * speed_of_light / grid_unit"
   ]
  },
  {
   "cell_type": "code",
   "execution_count": null,
   "metadata": {
    "ExecuteTime": {
     "end_time": "2018-11-15T16:57:56.696446Z",
     "start_time": "2018-11-15T16:57:56.685655Z"
    }
   },
   "outputs": [],
   "source": [
    "10 /(grid_unit / speed_of_light * 10**15) "
   ]
  },
  {
   "cell_type": "code",
   "execution_count": null,
   "metadata": {
    "ExecuteTime": {
     "end_time": "2018-11-15T15:03:03.443849Z",
     "start_time": "2018-11-15T15:03:03.437430Z"
    }
   },
   "outputs": [],
   "source": [
    "256 * grid_unit"
   ]
  },
  {
   "cell_type": "code",
   "execution_count": null,
   "metadata": {
    "ExecuteTime": {
     "end_time": "2018-11-19T13:24:12.850265Z",
     "start_time": "2018-11-19T13:24:12.841258Z"
    }
   },
   "outputs": [],
   "source": [
    "256 * 1280"
   ]
  },
  {
   "cell_type": "code",
   "execution_count": 2,
   "metadata": {
    "ExecuteTime": {
     "end_time": "2018-11-19T17:06:02.017865Z",
     "start_time": "2018-11-19T17:06:02.014050Z"
    }
   },
   "outputs": [],
   "source": [
    "test = np.random.rand(20)"
   ]
  },
  {
   "cell_type": "code",
   "execution_count": 6,
   "metadata": {
    "ExecuteTime": {
     "end_time": "2018-11-19T17:06:11.853470Z",
     "start_time": "2018-11-19T17:06:11.847584Z"
    }
   },
   "outputs": [],
   "source": [
    "test = test.reshape(5,4)"
   ]
  },
  {
   "cell_type": "code",
   "execution_count": 7,
   "metadata": {
    "ExecuteTime": {
     "end_time": "2018-11-19T17:06:12.067340Z",
     "start_time": "2018-11-19T17:06:12.061034Z"
    }
   },
   "outputs": [
    {
     "name": "stdout",
     "output_type": "stream",
     "text": [
      "[[0.58546679 0.73931144 0.04977106 0.57385409]\n",
      " [0.41449389 0.10353083 0.93009764 0.83795362]\n",
      " [0.42786274 0.4925392  0.46781274 0.62383277]\n",
      " [0.94017333 0.7359101  0.79230787 0.81969291]\n",
      " [0.00195521 0.57125345 0.98672902 0.39795671]]\n"
     ]
    }
   ],
   "source": [
    "print(test)"
   ]
  },
  {
   "cell_type": "code",
   "execution_count": 8,
   "metadata": {
    "ExecuteTime": {
     "end_time": "2018-11-19T17:06:12.525901Z",
     "start_time": "2018-11-19T17:06:12.511047Z"
    }
   },
   "outputs": [
    {
     "name": "stdout",
     "output_type": "stream",
     "text": [
      "zz:0, yy0, up:1, down:2\n",
      "zz:0, yy1, up:0, down:3\n",
      "zz:1, yy0, up:1, down:2\n",
      "zz:1, yy1, up:0, down:3\n",
      "zz:2, yy0, up:1, down:2\n",
      "zz:2, yy1, up:0, down:3\n",
      "zz:3, yy0, up:1, down:2\n",
      "zz:3, yy1, up:0, down:3\n",
      "zz:4, yy0, up:1, down:2\n",
      "zz:4, yy1, up:0, down:3\n"
     ]
    },
    {
     "data": {
      "text/plain": [
       "array([[0.75506977, 1.55525795, 1.18363945, 1.5899052 , 1.08881159],\n",
       "       [1.64713548, 1.63891186, 1.05613361, 1.8453251 , 0.4333241 ],\n",
       "       [0.80911096, 1.63535187, 0.96715978, 0.40856366, 1.41582598],\n",
       "       [0.00370976, 1.78385347, 0.81181247, 0.78644686, 1.11084512]])"
      ]
     },
     "execution_count": 8,
     "metadata": {},
     "output_type": "execute_result"
    }
   ],
   "source": [
    "calc_rotation.c_rotation.rotation_static_2d(test)"
   ]
  },
  {
   "cell_type": "code",
   "execution_count": 11,
   "metadata": {
    "ExecuteTime": {
     "end_time": "2018-11-19T16:17:11.810044Z",
     "start_time": "2018-11-19T16:17:11.796173Z"
    }
   },
   "outputs": [
    {
     "name": "stdout",
     "output_type": "stream",
     "text": [
      "Timer unit: 1e-06 s\n",
      "\n"
     ]
    },
    {
     "name": "stderr",
     "output_type": "stream",
     "text": [
      "/home/pawel/anaconda3/envs/fdrot/lib/python3.7/site-packages/ipykernel_launcher.py:2: UserWarning: Could not extract a code object for the object <module 'calc_rotation.c_rotation' from '/home/pawel/Work/HZDR_files/fileu/user/ordyna35/Faraday_Rotation/faraday_rotation/calc_rotation/calc_rotation/c_rotation.cpython-37m-x86_64-linux-gnu.so'>\n",
      "  \n"
     ]
    }
   ],
   "source": [
    "import line_profiler\n",
    "profile = line_profiler.LineProfiler(calc_rotation.c_rotation.kernel_2d_perp)\n",
    "profile.runcall(calc_rotation.c_rotation.rotation_static_2d, test)\n",
    "profile.print_stats()"
   ]
  },
  {
   "cell_type": "code",
   "execution_count": null,
   "metadata": {},
   "outputs": [],
   "source": []
  }
 ],
 "metadata": {
  "kernelspec": {
   "display_name": "Python [conda env:fdrot]",
   "language": "python",
   "name": "conda-env-fdrot-py"
  },
  "language_info": {
   "codemirror_mode": {
    "name": "ipython",
    "version": 3
   },
   "file_extension": ".py",
   "mimetype": "text/x-python",
   "name": "python",
   "nbconvert_exporter": "python",
   "pygments_lexer": "ipython3",
   "version": "3.7.0"
  }
 },
 "nbformat": 4,
 "nbformat_minor": 2
}
