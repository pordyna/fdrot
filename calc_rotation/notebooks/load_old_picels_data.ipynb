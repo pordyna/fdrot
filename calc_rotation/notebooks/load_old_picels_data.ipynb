{
 "cells": [
  {
   "cell_type": "code",
   "execution_count": 2,
   "metadata": {
    "ExecuteTime": {
     "end_time": "2018-10-26T10:56:07.688764Z",
     "start_time": "2018-10-26T10:56:06.994211Z"
    }
   },
   "outputs": [],
   "source": [
    "import numpy as np\n",
    "import matplotlib.pyplot as plt"
   ]
  },
  {
   "cell_type": "code",
   "execution_count": 3,
   "metadata": {
    "ExecuteTime": {
     "end_time": "2018-10-26T10:56:07.942580Z",
     "start_time": "2018-10-26T10:56:07.691477Z"
    }
   },
   "outputs": [
    {
     "name": "stdout",
     "output_type": "stream",
     "text": [
      "Using matplotlib backend: Qt5Agg\n"
     ]
    }
   ],
   "source": [
    "%matplotlib auto"
   ]
  },
  {
   "cell_type": "code",
   "execution_count": 4,
   "metadata": {
    "ExecuteTime": {
     "end_time": "2018-10-26T10:56:08.276322Z",
     "start_time": "2018-10-26T10:56:08.268637Z"
    }
   },
   "outputs": [],
   "source": [
    "path = '/home/pawel/Work/HZDR_files/cns/projects/HPLsim/ions/kluget/lingen/0Postdata/NewShockStudy/Vulcan/ppl0_with_ioni/'"
   ]
  },
  {
   "cell_type": "code",
   "execution_count": 5,
   "metadata": {
    "ExecuteTime": {
     "end_time": "2018-10-26T10:56:08.488302Z",
     "start_time": "2018-10-26T10:56:08.483798Z"
    }
   },
   "outputs": [],
   "source": [
    "sim_dir = '500fs_a4_Al_5um/'"
   ]
  },
  {
   "cell_type": "code",
   "execution_count": 6,
   "metadata": {
    "ExecuteTime": {
     "end_time": "2018-10-26T10:56:08.658213Z",
     "start_time": "2018-10-26T10:56:08.653832Z"
    }
   },
   "outputs": [],
   "source": [
    "density_dir = 'dnss/'"
   ]
  },
  {
   "cell_type": "code",
   "execution_count": 7,
   "metadata": {
    "ExecuteTime": {
     "end_time": "2018-10-26T10:56:08.840683Z",
     "start_time": "2018-10-26T10:56:08.836273Z"
    }
   },
   "outputs": [],
   "source": [
    "fields_dir = 'emps/'"
   ]
  },
  {
   "cell_type": "code",
   "execution_count": 8,
   "metadata": {
    "ExecuteTime": {
     "end_time": "2018-10-26T10:56:09.004379Z",
     "start_time": "2018-10-26T10:56:09.000289Z"
    }
   },
   "outputs": [],
   "source": [
    "time_step = 40\n",
    "time_step = str(time_step)"
   ]
  },
  {
   "cell_type": "code",
   "execution_count": 9,
   "metadata": {
    "ExecuteTime": {
     "end_time": "2018-10-26T10:56:09.566323Z",
     "start_time": "2018-10-26T10:56:09.562440Z"
    }
   },
   "outputs": [],
   "source": [
    "full_path_e = path + sim_dir + density_dir + 'e_density' + time_step + '.dat'"
   ]
  },
  {
   "cell_type": "code",
   "execution_count": 12,
   "metadata": {
    "ExecuteTime": {
     "end_time": "2018-10-26T11:02:19.732134Z",
     "start_time": "2018-10-26T11:02:19.716469Z"
    }
   },
   "outputs": [],
   "source": [
    "def read_and_write(time_step, path, simd_dir, density_dir, fields_dir, \n",
    "                   path_to_save):\n",
    "    time_step = str(time_step)\n",
    "    # Define paths.\n",
    "    full_path_e = path + sim_dir + density_dir + 'e_density' + time_step + '.dat'\n",
    "    full_path_b = path + sim_dir + fields_dir + 'Ave_Bz_' + time_step + '.dat'\n",
    "    # Read files.\n",
    "    with open(full_path_e, mode='rb') as file:\n",
    "        density = np.genfromtxt(file, dtype=np.float64, encoding=None)\n",
    "    with open(full_path_b, mode='rb') as file:\n",
    "        b_field = np.genfromtxt(file, dtype=np.float64, encoding=None)\n",
    "        \n",
    "    # Modify density due to interleaves (whatever it means; it gets\n",
    "    # rid of those ugly lines).\n",
    "    density[29-1::29,:] *= 2\n",
    "    density[29::29,:] *= 2\n",
    "    \n",
    "    product = density * b_field\n",
    "    \n",
    "    np.save(path_to_save + 'product/' + time_step, product)"
   ]
  },
  {
   "cell_type": "code",
   "execution_count": 13,
   "metadata": {
    "ExecuteTime": {
     "end_time": "2018-10-26T11:08:32.135067Z",
     "start_time": "2018-10-26T11:02:59.893022Z"
    }
   },
   "outputs": [],
   "source": [
    "path_to_save = '/home/pawel/Work/HOME/Faraday_Rotation/data/picels/Vulcan_500fs_a4_Al_5um/'\n",
    "for ii in range(48, 49+1):\n",
    "    read_and_write(ii, path, sim_dir, density_dir, fields_dir, path_to_save)"
   ]
  },
  {
   "cell_type": "code",
   "execution_count": null,
   "metadata": {},
   "outputs": [],
   "source": []
  }
 ],
 "metadata": {
  "kernelspec": {
   "display_name": "Python 3",
   "language": "python",
   "name": "python3"
  },
  "language_info": {
   "codemirror_mode": {
    "name": "ipython",
    "version": 3
   },
   "file_extension": ".py",
   "mimetype": "text/x-python",
   "name": "python",
   "nbconvert_exporter": "python",
   "pygments_lexer": "ipython3",
   "version": "3.6.6"
  }
 },
 "nbformat": 4,
 "nbformat_minor": 2
}
