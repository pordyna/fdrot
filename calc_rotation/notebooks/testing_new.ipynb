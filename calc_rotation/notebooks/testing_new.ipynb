{
 "cells": [
  {
   "cell_type": "code",
   "execution_count": 32,
   "metadata": {
    "ExecuteTime": {
     "end_time": "2018-11-26T14:55:23.287976Z",
     "start_time": "2018-11-26T14:55:23.280423Z"
    }
   },
   "outputs": [],
   "source": [
    "import numpy as np\n",
    "import matplotlib.pyplot as plt\n",
    "import calc_rotation"
   ]
  },
  {
   "cell_type": "code",
   "execution_count": 33,
   "metadata": {
    "ExecuteTime": {
     "end_time": "2018-11-26T14:55:23.421504Z",
     "start_time": "2018-11-26T14:55:23.415518Z"
    }
   },
   "outputs": [],
   "source": [
    "dt = 1\n",
    "grid_unit = 1\n",
    "\n",
    "def open_file(path, *args):\n",
    "    return np.load(path)"
   ]
  },
  {
   "cell_type": "code",
   "execution_count": 34,
   "metadata": {
    "ExecuteTime": {
     "end_time": "2018-11-26T14:55:23.580941Z",
     "start_time": "2018-11-26T14:55:23.574759Z"
    }
   },
   "outputs": [],
   "source": [
    "path = '/home/pawel/Work/HOME/Faraday_Rotation/data/steps_sample_1/'"
   ]
  },
  {
   "cell_type": "code",
   "execution_count": 35,
   "metadata": {
    "ExecuteTime": {
     "end_time": "2018-11-26T14:55:23.758519Z",
     "start_time": "2018-11-26T14:55:23.735213Z"
    }
   },
   "outputs": [],
   "source": [
    "file_list = calc_rotation.sim_data.FilesLists.UniversalSingle(path, 'Bz', dt, grid_unit, 'step_', '.npy',\n",
    "                                   open_file)"
   ]
  },
  {
   "cell_type": "code",
   "execution_count": 36,
   "metadata": {
    "ExecuteTime": {
     "end_time": "2018-11-26T14:55:23.914890Z",
     "start_time": "2018-11-26T14:55:23.909289Z"
    }
   },
   "outputs": [],
   "source": [
    "path = '/home/pawel/Work/HOME/Faraday_Rotation/data/steps_sample_2/'"
   ]
  },
  {
   "cell_type": "code",
   "execution_count": 37,
   "metadata": {
    "ExecuteTime": {
     "end_time": "2018-11-26T14:55:24.268391Z",
     "start_time": "2018-11-26T14:55:24.246190Z"
    }
   },
   "outputs": [],
   "source": [
    "file_list2 = calc_rotation.sim_data.FilesLists.UniversalSingle(path, 'n_e', dt, grid_unit, 'step_', '.npy',\n",
    "                                   open_file)"
   ]
  },
  {
   "cell_type": "code",
   "execution_count": 38,
   "metadata": {
    "ExecuteTime": {
     "end_time": "2018-11-26T14:55:24.449890Z",
     "start_time": "2018-11-26T14:55:24.437560Z"
    }
   },
   "outputs": [
    {
     "data": {
      "text/plain": [
       "[(0, 30),\n",
       " (3, 33),\n",
       " (6, 36),\n",
       " (9, 39),\n",
       " (12, 42),\n",
       " (15, 45),\n",
       " (18, 48),\n",
       " (21, 51),\n",
       " (24, 54),\n",
       " (27, 57)]"
      ]
     },
     "execution_count": 38,
     "metadata": {},
     "output_type": "execute_result"
    }
   ],
   "source": [
    "seq = np.arange(0,30,3)\n",
    "seq2 = seq + 30\n",
    "seq3 = [None] * seq.size\n",
    "for ii in range(seq.size):\n",
    "    seq3[ii] = (seq[ii], seq2[ii])\n",
    "seq3"
   ]
  },
  {
   "cell_type": "code",
   "execution_count": 58,
   "metadata": {
    "ExecuteTime": {
     "end_time": "2018-11-26T14:58:15.773526Z",
     "start_time": "2018-11-26T14:58:15.764946Z"
    }
   },
   "outputs": [],
   "source": [
    "sequence = calc_rotation.SimSequence.SimSequence({'Bz': file_list, 'n_e': file_list2},  (0,1, 1), [(0,31)],0 ,30, 1)"
   ]
  },
  {
   "cell_type": "code",
   "execution_count": 59,
   "metadata": {
    "ExecuteTime": {
     "end_time": "2018-11-26T14:58:16.378347Z",
     "start_time": "2018-11-26T14:58:16.126328Z"
    }
   },
   "outputs": [
    {
     "data": {
      "text/plain": [
       "<matplotlib.image.AxesImage at 0x7f01bd69deb8>"
      ]
     },
     "execution_count": 59,
     "metadata": {},
     "output_type": "execute_result"
    },
    {
     "data": {
      "image/png": "[encoded data removed]",
      "text/plain": [
       "<Figure size 432x288 with 1 Axes>"
      ]
     },
     "metadata": {
      "needs_background": "light"
     },
     "output_type": "display_data"
    }
   ],
   "source": [
    "T = sequence.get_data('Bz', 0) * sequence.get_data('n_e', 0)\n",
    "plt.imshow(T)"
   ]
  },
  {
   "cell_type": "code",
   "execution_count": 73,
   "metadata": {
    "ExecuteTime": {
     "end_time": "2018-11-26T15:10:23.542552Z",
     "start_time": "2018-11-26T15:10:23.531269Z"
    }
   },
   "outputs": [
    {
     "data": {
      "text/plain": [
       "array([ 0.49015124,  1.06962827, -0.39101357,  0.74978943,  0.51746184,\n",
       "        0.14624331, -0.49459707, -0.32125337, -0.13440042, -0.76458601,\n",
       "        0.39404441, -0.59638647, -0.08740426, -0.21998951,  0.46074699,\n",
       "        0.41146221,  0.01021939,  0.65099653, -2.36028476, -0.42519335])"
      ]
     },
     "execution_count": 73,
     "metadata": {},
     "output_type": "execute_result"
    }
   ],
   "source": [
    "T[:,13]"
   ]
  },
  {
   "cell_type": "code",
   "execution_count": 92,
   "metadata": {
    "ExecuteTime": {
     "end_time": "2018-11-26T15:13:33.171403Z",
     "start_time": "2018-11-26T15:13:32.865329Z"
    }
   },
   "outputs": [
    {
     "data": {
      "text/plain": [
       "array([4.67138763e-310, 4.67138763e-310, 4.67138763e-310, 4.67138763e-310,\n",
       "       4.67138763e-310, 4.67138763e-310, 4.67138763e-310, 4.67138763e-310,\n",
       "       4.67138763e-310, 4.67138763e-310, 4.67138763e-310, 4.67138763e-310,\n",
       "       4.67138763e-310, 4.67138763e-310, 4.67138763e-310, 4.67138763e-310,\n",
       "       4.67138763e-310, 4.67138763e-310, 4.67138763e-310, 4.67138763e-310])"
      ]
     },
     "execution_count": 92,
     "metadata": {},
     "output_type": "execute_result"
    },
    {
     "data": {
      "image/png": "[encoded data removed]",
      "text/plain": [
       "<Figure size 432x288 with 2 Axes>"
      ]
     },
     "metadata": {
      "needs_background": "light"
     },
     "output_type": "display_data"
    }
   ],
   "source": [
    "rotated = sequence.new_rotation_2d_perp(np.ones(1, dtype=np.float64), interpolation=False)\n",
    "plt.imshow(rotated)\n",
    "plt.colorbar()\n",
    "\n",
    "rotated[1,:]"
   ]
  },
  {
   "cell_type": "code",
   "execution_count": 57,
   "metadata": {
    "ExecuteTime": {
     "end_time": "2018-11-26T14:58:03.830719Z",
     "start_time": "2018-11-26T14:58:03.813628Z"
    }
   },
   "outputs": [
    {
     "data": {
      "text/plain": [
       "(20, 30)"
      ]
     },
     "execution_count": 57,
     "metadata": {},
     "output_type": "execute_result"
    }
   ],
   "source": [
    "file = sequence.get_files('Bz')\n",
    "sequence.get_data('Bz',0).shape"
   ]
  },
  {
   "cell_type": "code",
   "execution_count": 22,
   "metadata": {
    "ExecuteTime": {
     "end_time": "2018-11-26T14:52:32.197463Z",
     "start_time": "2018-11-26T14:52:32.181170Z"
    }
   },
   "outputs": [
    {
     "data": {
      "text/plain": [
       "(600,)"
      ]
     },
     "execution_count": 22,
     "metadata": {},
     "output_type": "execute_result"
    }
   ],
   "source": [
    "np.nonzero(rotated)[0].shape"
   ]
  },
  {
   "cell_type": "code",
   "execution_count": 52,
   "metadata": {
    "ExecuteTime": {
     "end_time": "2018-11-26T13:58:00.380641Z",
     "start_time": "2018-11-26T13:57:49.266638Z"
    }
   },
   "outputs": [
    {
     "name": "stdout",
     "output_type": "stream",
     "text": [
      "1.39 s ± 24.6 ms per loop (mean ± std. dev. of 7 runs, 1 loop each)\n"
     ]
    }
   ],
   "source": [
    "%timeit sequence.new_rotation_2d_perp(np.ones(100000, dtype=np.float64), interpolation=False)"
   ]
  },
  {
   "cell_type": "code",
   "execution_count": 46,
   "metadata": {
    "ExecuteTime": {
     "end_time": "2018-11-26T13:56:50.647425Z",
     "start_time": "2018-11-26T13:56:39.626984Z"
    }
   },
   "outputs": [
    {
     "name": "stdout",
     "output_type": "stream",
     "text": [
      "1.37 s ± 27.6 ms per loop (mean ± std. dev. of 7 runs, 1 loop each)\n"
     ]
    }
   ],
   "source": [
    "%timeit sequence.new_rotation_2d_perp(np.ones(100000, dtype=np.float64), interpolation=True)"
   ]
  },
  {
   "cell_type": "code",
   "execution_count": 57,
   "metadata": {
    "ExecuteTime": {
     "end_time": "2018-11-26T13:59:17.011046Z",
     "start_time": "2018-11-26T13:59:07.710689Z"
    }
   },
   "outputs": [
    {
     "name": "stdout",
     "output_type": "stream",
     "text": [
      "118 ms ± 17.9 ms per loop (mean ± std. dev. of 7 runs, 10 loops each)\n"
     ]
    }
   ],
   "source": [
    "%timeit sequence.rotation_2d_perp(np.ones(100000, dtype=np.float64), interpolation=False)"
   ]
  },
  {
   "cell_type": "code",
   "execution_count": 49,
   "metadata": {
    "ExecuteTime": {
     "end_time": "2018-11-26T13:57:26.391920Z",
     "start_time": "2018-11-26T13:57:25.304627Z"
    }
   },
   "outputs": [
    {
     "name": "stdout",
     "output_type": "stream",
     "text": [
      "123 ms ± 18 ms per loop (mean ± std. dev. of 7 runs, 1 loop each)\n"
     ]
    }
   ],
   "source": [
    "%timeit sequence.rotation_2d_perp(np.ones(100000, dtype=np.float64), interpolation=True)"
   ]
  },
  {
   "cell_type": "code",
   "execution_count": 9,
   "metadata": {
    "ExecuteTime": {
     "end_time": "2018-11-26T13:49:55.976372Z",
     "start_time": "2018-11-26T13:49:50.784555Z"
    }
   },
   "outputs": [
    {
     "name": "stdout",
     "output_type": "stream",
     "text": [
      "Mon Nov 26 14:49:55 2018    Profile9.prof\n",
      "\n",
      "         21069633 function calls (21069452 primitive calls) in 5.133 seconds\n",
      "\n",
      "   Ordered by: internal time\n",
      "\n",
      "   ncalls  tottime  percall  cumtime  percall filename:lineno(function)\n",
      "   330000    3.048    0.000    4.378    0.000 Kernel2D.pyx:151(x_loop)\n",
      "  9300000    0.673    0.000    0.673    0.000 c_defs.pxd:7(d_square)\n",
      "  4650000    0.347    0.000    0.347    0.000 Kernel2D.pyx:88(interpolate_up)\n",
      "  4650000    0.309    0.000    0.309    0.000 Kernel2D.pyx:101(interpolate_down)\n",
      "       10    0.281    0.028    5.014    0.501 Kernel2D.pyx:222(rotate_slice)\n",
      "   600000    0.154    0.000    0.209    0.000 Kernel2D.pyx:186(sum_line_over_pulse)\n",
      "       20    0.091    0.005    0.091    0.005 {built-in method io.open}\n",
      "   330000    0.088    0.000    4.466    0.000 Kernel2D.pyx:177(inside_y_loop)\n",
      "   600000    0.058    0.000    0.058    0.000 Kernel2D.pyx:211(write_out)\n",
      "   600000    0.055    0.000    0.055    0.000 Kernel2D.pyx:10(__pyx_fuse_1sum_arr)\n",
      "       20    0.005    0.000    0.005    0.000 {built-in method numpy.core.multiarray.fromfile}\n",
      "      440    0.002    0.000    0.006    0.000 tokenize.py:487(_tokenize)\n",
      "        1    0.002    0.002    5.133    5.133 SimSequence.py:100(new_rotation_2d_perp)\n",
      "       20    0.002    0.000    0.002    0.000 {method 'close' of '_io.BufferedReader' objects}\n",
      "       20    0.002    0.000    0.002    0.000 {built-in method builtins.compile}\n",
      "      380    0.001    0.000    0.001    0.000 {method 'match' of 're.Pattern' objects}\n",
      "       20    0.001    0.000    0.002    0.000 UniversalSingle.py:53(full_path)\n",
      "       40    0.001    0.000    0.001    0.000 {method 'reduce' of 'numpy.ufunc' objects}\n",
      "       20    0.001    0.000    0.009    0.000 format.py:439(_filter_header)\n",
      "       20    0.001    0.000    0.001    0.000 tokenize.py:238(untokenize)\n",
      "       20    0.001    0.000    0.116    0.006 SimSequence.py:53(get_data)\n",
      "       20    0.001    0.000    0.113    0.006 npyio.py:280(load)\n",
      "      380    0.001    0.000    0.001    0.000 re.py:271(_compile)\n",
      "       20    0.001    0.000    0.013    0.001 format.py:480(_read_array_header)\n",
      "   180/20    0.000    0.000    0.001    0.000 ast.py:64(_convert)\n",
      "       20    0.000    0.000    0.019    0.001 format.py:612(read_array)\n",
      "1322/1301    0.000    0.000    0.001    0.000 {built-in method builtins.isinstance}\n",
      "        1    0.000    0.000    0.000    0.000 {built-in method numpy.core.multiarray.zeros}\n",
      "      400    0.000    0.000    0.000    0.000 tokenize.py:225(add_whitespace)\n",
      "       80    0.000    0.000    0.000    0.000 {method 'read' of '_io.BufferedReader' objects}\n",
      "      380    0.000    0.000    0.002    0.000 tokenize.py:147(_compile)\n",
      "      380    0.000    0.000    0.000    0.000 types.py:164(__get__)\n",
      "      420    0.000    0.000    0.000    0.000 <string>:1(__new__)\n",
      "       20    0.000    0.000    0.115    0.006 UniversalSingle.py:82(open)\n",
      "     1140    0.000    0.000    0.000    0.000 {method 'append' of 'list' objects}\n",
      "       60    0.000    0.000    0.000    0.000 format.py:814(_read_bytes)\n",
      "      420    0.000    0.000    0.000    0.000 {built-in method __new__ of type object at 0x5621b15282c0}\n",
      "       20    0.000    0.000    0.001    0.000 fromnumeric.py:64(_wrapreduction)\n",
      "       20    0.000    0.000    0.000    0.000 posixpath.py:331(normpath)\n",
      "       20    0.000    0.000    0.000    0.000 posixpath.py:75(join)\n",
      "       20    0.000    0.000    0.113    0.006 <ipython-input-2-9cbc08e9535d>:4(open_file)\n",
      "      380    0.000    0.000    0.001    0.000 re.py:232(compile)\n",
      "       20    0.000    0.000    0.002    0.000 ast.py:38(literal_eval)\n",
      "      840    0.000    0.000    0.000    0.000 {built-in method builtins.len}\n",
      "      380    0.000    0.000    0.000    0.000 {method 'span' of 're.Match' objects}\n",
      "       20    0.000    0.000    0.000    0.000 format.py:209(read_magic)\n",
      "        1    0.000    0.000    5.133    5.133 <string>:1(<module>)\n",
      "       20    0.000    0.000    0.000    0.000 {built-in method builtins.hasattr}\n",
      "       20    0.000    0.000    0.002    0.000 utils.py:1070(safe_eval)\n",
      "        9    0.000    0.000    0.000    0.000 Kernel2D.pyx:70(__set__)\n",
      "      380    0.000    0.000    0.000    0.000 enum.py:619(value)\n",
      "       20    0.000    0.000    0.002    0.000 tokenize.py:312(untokenize)\n",
      "       21    0.000    0.000    0.000    0.000 typing.py:710(__subclasscheck__)\n",
      "       20    0.000    0.000    0.000    0.000 {built-in method builtins.sorted}\n",
      "       20    0.000    0.000    0.001    0.000 fromnumeric.py:2016(all)\n",
      "        1    0.000    0.000    5.133    5.133 {built-in method builtins.exec}\n",
      "       21    0.000    0.000    0.000    0.000 typing.py:707(__instancecheck__)\n",
      "       21    0.000    0.000    0.000    0.000 SimSequence.py:34(get_files)\n",
      "       20    0.000    0.000    0.000    0.000 tokenize.py:219(__init__)\n",
      "       60    0.000    0.000    0.000    0.000 {method 'readline' of '_io.StringIO' objects}\n",
      "       21    0.000    0.000    0.000    0.000 {built-in method builtins.issubclass}\n",
      "       20    0.000    0.000    0.000    0.000 {built-in method builtins.getattr}\n",
      "      240    0.000    0.000    0.000    0.000 {method 'isidentifier' of 'str' objects}\n",
      "       21    0.000    0.000    0.000    0.000 {built-in method _abc._abc_subclasscheck}\n",
      "       40    0.000    0.000    0.000    0.000 {method 'join' of 'str' objects}\n",
      "       20    0.000    0.000    0.000    0.000 {built-in method builtins.min}\n",
      "       13    0.000    0.000    0.000    0.000 stringsource:344(__cinit__)\n",
      "       20    0.000    0.000    0.000    0.000 SimSequence.py:28(step_to_iter)\n",
      "       20    0.000    0.000    0.000    0.000 {method 'decode' of 'bytes' objects}\n",
      "       20    0.000    0.000    0.000    0.000 {method 'split' of 'str' objects}\n",
      "       60    0.000    0.000    0.000    0.000 {method 'startswith' of 'str' objects}\n",
      "       20    0.000    0.000    0.000    0.000 format.py:520(<listcomp>)\n",
      "       20    0.000    0.000    0.000    0.000 tokenize.py:662(generate_tokens)\n",
      "       20    0.000    0.000    0.000    0.000 {method 'seek' of '_io.BufferedReader' objects}\n",
      "       20    0.000    0.000    0.000    0.000 {built-in method _struct.calcsize}\n",
      "       10    0.000    0.000    5.014    0.501 {method 'rotate_slice' of 'calc_rotation.kernel.Kernel2D.Kernel2D' objects}\n",
      "       21    0.000    0.000    0.000    0.000 abc.py:141(__subclasscheck__)\n",
      "       20    0.000    0.000    0.000    0.000 py3k.py:37(asstr)\n",
      "       20    0.000    0.000    0.000    0.000 py3k.py:42(isfileobj)\n",
      "       13    0.000    0.000    0.000    0.000 stringsource:652(memoryview_cwrapper)\n",
      "       20    0.000    0.000    0.002    0.000 ast.py:30(parse)\n",
      "       20    0.000    0.000    0.000    0.000 {built-in method _struct.unpack}\n",
      "       20    0.000    0.000    0.000    0.000 {method 'startswith' of 'bytes' objects}\n",
      "       20    0.000    0.000    0.000    0.000 <frozen importlib._bootstrap>:1009(_handle_fromlist)\n",
      "       40    0.000    0.000    0.000    0.000 {built-in method posix.fspath}\n",
      "       20    0.000    0.000    0.000    0.000 {method 'endswith' of 'str' objects}\n",
      "       20    0.000    0.000    0.000    0.000 posixpath.py:41(_get_sep)\n",
      "       20    0.000    0.000    0.000    0.000 format.py:179(_check_version)\n",
      "       20    0.000    0.000    0.000    0.000 {method 'strip' of 'str' objects}\n",
      "       10    0.000    0.000    5.014    0.501 Kernel2D.pyx:222(rotate_slice (wrapper))\n",
      "        1    0.000    0.000    0.000    0.000 {built-in method numpy.core.multiarray.copyto}\n",
      "        1    0.000    0.000    0.000    0.000 {built-in method numpy.core.multiarray.empty}\n",
      "       20    0.000    0.000    0.000    0.000 {built-in method builtins.iter}\n",
      "       13    0.000    0.000    0.000    0.000 stringsource:371(__dealloc__)\n",
      "        1    0.000    0.000    0.000    0.000 numeric.py:156(ones)\n",
      "       20    0.000    0.000    0.000    0.000 {method 'keys' of 'dict' objects}\n",
      "       20    0.000    0.000    0.000    0.000 GenericList.py:13(ids)\n",
      "       13    0.000    0.000    0.000    0.000 stringsource:658(memoryview_check)\n",
      "        1    0.000    0.000    0.000    0.000 Kernel2D.pyx:20(__cinit__)\n",
      "        1    0.000    0.000    0.000    0.000 stringsource:121(__cinit__)\n",
      "        1    0.000    0.000    0.000    0.000 {method 'reshape' of 'numpy.ndarray' objects}\n",
      "       20    0.000    0.000    0.000    0.000 {method 'items' of 'dict' objects}\n",
      "       11    0.000    0.000    0.000    0.000 Kernel2D.pyx:114(translator)\n",
      "       10    0.000    0.000    0.000    0.000 Kernel2D.pyx:138(if_split)\n",
      "        1    0.000    0.000    0.000    0.000 stringsource:184(__getbuffer__)\n",
      "        1    0.000    0.000    0.000    0.000 stringsource:210(__dealloc__)\n",
      "        1    0.000    0.000    0.000    0.000 {method 'disable' of '_lsprof.Profiler' objects}\n",
      "\n",
      "\n"
     ]
    },
    {
     "data": {
      "text/plain": [
       "<pstats.Stats at 0x7f249db13a20>"
      ]
     },
     "execution_count": 9,
     "metadata": {},
     "output_type": "execute_result"
    }
   ],
   "source": [
    "import cProfile\n",
    "cProfile.runctx(\"sequence.new_rotation_2d_perp(np.ones(1, dtype=np.float64), interpolation=False)\",\n",
    "                globals(), locals(), \"Profile9.prof\")\n",
    "import pstats\n",
    "s = pstats.Stats(\"Profile9.prof\")\n",
    "s.strip_dirs().sort_stats(\"time\").print_stats()"
   ]
  },
  {
   "cell_type": "code",
   "execution_count": 23,
   "metadata": {
    "ExecuteTime": {
     "end_time": "2018-11-26T13:22:25.713774Z",
     "start_time": "2018-11-26T13:22:25.659282Z"
    }
   },
   "outputs": [
    {
     "name": "stdout",
     "output_type": "stream",
     "text": [
      "Mon Nov 26 14:21:39 2018    Profile9.prof\n",
      "\n",
      "         106233 function calls (106052 primitive calls) in 0.164 seconds\n",
      "\n",
      "   Ordered by: call count\n",
      "\n",
      "   ncalls  tottime  percall  cumtime  percall filename:lineno(function)\n",
      "    60000    0.005    0.000    0.005    0.000 Kernel2D.pyx:10(__pyx_fuse_1sum_arr)\n",
      "     9000    0.001    0.000    0.001    0.000 c_defs.pxd:7(d_square)\n",
      "     6000    0.014    0.000    0.019    0.000 Kernel2D.pyx:186(sum_line_over_pulse)\n",
      "     6000    0.001    0.000    0.001    0.000 Kernel2D.pyx:211(write_out)\n",
      "     4500    0.000    0.000    0.000    0.000 Kernel2D.pyx:88(interpolate_up)\n",
      "     4500    0.000    0.000    0.000    0.000 Kernel2D.pyx:101(interpolate_down)\n",
      "     3300    0.001    0.000    0.006    0.000 Kernel2D.pyx:177(inside_y_loop)\n",
      "     3300    0.004    0.000    0.005    0.000 Kernel2D.pyx:151(x_loop)\n",
      "1322/1301    0.000    0.000    0.001    0.000 {built-in method builtins.isinstance}\n",
      "     1140    0.000    0.000    0.000    0.000 {method 'append' of 'list' objects}\n",
      "      840    0.000    0.000    0.000    0.000 {built-in method builtins.len}\n",
      "      440    0.003    0.000    0.008    0.000 tokenize.py:487(_tokenize)\n",
      "      420    0.000    0.000    0.000    0.000 {built-in method __new__ of type object at 0x55da0de152c0}\n",
      "      420    0.000    0.000    0.001    0.000 <string>:1(__new__)\n",
      "      400    0.000    0.000    0.000    0.000 tokenize.py:225(add_whitespace)\n",
      "      380    0.002    0.000    0.002    0.000 {method 'match' of 're.Pattern' objects}\n",
      "      380    0.000    0.000    0.000    0.000 {method 'span' of 're.Match' objects}\n",
      "      380    0.000    0.000    0.002    0.000 tokenize.py:147(_compile)\n",
      "      380    0.000    0.000    0.002    0.000 re.py:232(compile)\n",
      "      380    0.001    0.000    0.002    0.000 re.py:271(_compile)\n",
      "      380    0.000    0.000    0.000    0.000 enum.py:619(value)\n",
      "      380    0.000    0.000    0.001    0.000 types.py:164(__get__)\n",
      "      240    0.000    0.000    0.000    0.000 {method 'isidentifier' of 'str' objects}\n",
      "   180/20    0.001    0.000    0.001    0.000 ast.py:64(_convert)\n",
      "       80    0.000    0.000    0.000    0.000 {method 'read' of '_io.BufferedReader' objects}\n",
      "       60    0.000    0.000    0.000    0.000 {method 'readline' of '_io.StringIO' objects}\n",
      "       60    0.000    0.000    0.000    0.000 {method 'startswith' of 'str' objects}\n",
      "       60    0.000    0.000    0.000    0.000 format.py:814(_read_bytes)\n",
      "       40    0.000    0.000    0.000    0.000 {built-in method posix.fspath}\n",
      "       40    0.000    0.000    0.000    0.000 {method 'join' of 'str' objects}\n",
      "       40    0.001    0.000    0.001    0.000 {method 'reduce' of 'numpy.ufunc' objects}\n",
      "       21    0.000    0.000    0.000    0.000 {built-in method _abc._abc_subclasscheck}\n",
      "       21    0.000    0.000    0.000    0.000 {built-in method builtins.issubclass}\n",
      "       21    0.000    0.000    0.000    0.000 SimSequence.py:34(get_files)\n",
      "       21    0.000    0.000    0.000    0.000 typing.py:707(__instancecheck__)\n",
      "       21    0.000    0.000    0.000    0.000 typing.py:710(__subclasscheck__)\n",
      "       21    0.000    0.000    0.000    0.000 abc.py:141(__subclasscheck__)\n",
      "       20    0.001    0.000    0.001    0.000 {method 'close' of '_io.BufferedReader' objects}\n",
      "       20    0.000    0.000    0.000    0.000 {method 'seek' of '_io.BufferedReader' objects}\n",
      "       20    0.105    0.005    0.105    0.005 {built-in method io.open}\n",
      "       20    0.001    0.000    0.001    0.000 {built-in method builtins.compile}\n",
      "       20    0.000    0.000    0.000    0.000 {built-in method builtins.getattr}\n",
      "       20    0.000    0.000    0.000    0.000 {built-in method builtins.hasattr}\n",
      "       20    0.000    0.000    0.000    0.000 {built-in method builtins.iter}\n",
      "       20    0.000    0.000    0.000    0.000 {built-in method builtins.min}\n",
      "       20    0.000    0.000    0.000    0.000 {built-in method builtins.sorted}\n",
      "       20    0.000    0.000    0.000    0.000 {method 'split' of 'str' objects}\n",
      "       20    0.000    0.000    0.000    0.000 {method 'strip' of 'str' objects}\n",
      "       20    0.000    0.000    0.000    0.000 {method 'endswith' of 'str' objects}\n",
      "       20    0.000    0.000    0.000    0.000 {method 'keys' of 'dict' objects}\n",
      "       20    0.000    0.000    0.000    0.000 {method 'items' of 'dict' objects}\n",
      "       20    0.000    0.000    0.000    0.000 {method 'decode' of 'bytes' objects}\n",
      "       20    0.000    0.000    0.000    0.000 {method 'startswith' of 'bytes' objects}\n",
      "       20    0.001    0.000    0.002    0.000 UniversalSingle.py:53(full_path)\n",
      "       20    0.000    0.000    0.131    0.007 UniversalSingle.py:82(open)\n",
      "       20    0.000    0.000    0.000    0.000 SimSequence.py:28(step_to_iter)\n",
      "       20    0.001    0.000    0.132    0.007 SimSequence.py:53(get_data)\n",
      "       20    0.000    0.000    0.000    0.000 GenericList.py:13(ids)\n",
      "       20    0.001    0.000    0.128    0.006 npyio.py:280(load)\n",
      "       20    0.000    0.000    0.000    0.000 format.py:179(_check_version)\n",
      "       20    0.000    0.000    0.000    0.000 format.py:209(read_magic)\n",
      "       20    0.001    0.000    0.012    0.001 format.py:439(_filter_header)\n",
      "       20    0.000    0.000    0.000    0.000 format.py:520(<listcomp>)\n",
      "       20    0.001    0.000    0.017    0.001 format.py:480(_read_array_header)\n",
      "       20    0.001    0.000    0.021    0.001 format.py:612(read_array)\n",
      "       20    0.000    0.000    0.002    0.000 utils.py:1070(safe_eval)\n",
      "       20    0.000    0.000    0.000    0.000 py3k.py:37(asstr)\n",
      "       20    0.000    0.000    0.000    0.000 py3k.py:42(isfileobj)\n",
      "       20    0.000    0.000    0.001    0.000 fromnumeric.py:64(_wrapreduction)\n",
      "       20    0.000    0.000    0.001    0.000 fromnumeric.py:2016(all)\n",
      "       20    0.003    0.000    0.003    0.000 {built-in method numpy.core.multiarray.fromfile}\n",
      "       20    0.000    0.000    0.129    0.006 <ipython-input-2-9cbc08e9535d>:4(open_file)\n",
      "       20    0.000    0.000    0.001    0.000 ast.py:30(parse)\n",
      "       20    0.000    0.000    0.002    0.000 ast.py:38(literal_eval)\n",
      "       20    0.000    0.000    0.000    0.000 {built-in method _struct.calcsize}\n",
      "       20    0.000    0.000    0.000    0.000 {built-in method _struct.unpack}\n",
      "       20    0.000    0.000    0.000    0.000 tokenize.py:219(__init__)\n",
      "       20    0.001    0.000    0.002    0.000 tokenize.py:238(untokenize)\n",
      "       20    0.000    0.000    0.002    0.000 tokenize.py:312(untokenize)\n",
      "       20    0.000    0.000    0.000    0.000 tokenize.py:662(generate_tokens)\n",
      "       20    0.000    0.000    0.000    0.000 posixpath.py:41(_get_sep)\n",
      "       20    0.000    0.000    0.000    0.000 posixpath.py:75(join)\n",
      "       20    0.000    0.000    0.000    0.000 posixpath.py:331(normpath)\n",
      "       20    0.000    0.000    0.000    0.000 <frozen importlib._bootstrap>:1009(_handle_fromlist)\n",
      "       13    0.000    0.000    0.000    0.000 stringsource:344(__cinit__)\n",
      "       13    0.000    0.000    0.000    0.000 stringsource:652(memoryview_cwrapper)\n",
      "       13    0.000    0.000    0.000    0.000 stringsource:371(__dealloc__)\n",
      "       13    0.000    0.000    0.000    0.000 stringsource:658(memoryview_check)\n",
      "       11    0.000    0.000    0.000    0.000 Kernel2D.pyx:114(translator)\n",
      "       10    0.000    0.000    0.031    0.003 {method 'rotate_slice' of 'calc_rotation.kernel.Kernel2D.Kernel2D' objects}\n",
      "       10    0.000    0.000    0.031    0.003 Kernel2D.pyx:222(rotate_slice (wrapper))\n",
      "       10    0.004    0.000    0.031    0.003 Kernel2D.pyx:222(rotate_slice)\n",
      "       10    0.000    0.000    0.000    0.000 Kernel2D.pyx:138(if_split)\n",
      "        9    0.000    0.000    0.000    0.000 Kernel2D.pyx:70(__set__)\n",
      "        1    0.000    0.000    0.164    0.164 {built-in method builtins.exec}\n",
      "        1    0.000    0.000    0.164    0.164 <string>:1(<module>)\n",
      "        1    0.000    0.000    0.000    0.000 Kernel2D.pyx:20(__cinit__)\n",
      "        1    0.000    0.000    0.000    0.000 stringsource:121(__cinit__)\n",
      "        1    0.000    0.000    0.000    0.000 stringsource:184(__getbuffer__)\n",
      "        1    0.000    0.000    0.000    0.000 stringsource:210(__dealloc__)\n",
      "        1    0.001    0.001    0.164    0.164 SimSequence.py:100(new_rotation_2d_perp)\n",
      "        1    0.000    0.000    0.000    0.000 numeric.py:156(ones)\n",
      "        1    0.000    0.000    0.000    0.000 {method 'reshape' of 'numpy.ndarray' objects}\n",
      "        1    0.000    0.000    0.000    0.000 {built-in method numpy.core.multiarray.copyto}\n",
      "        1    0.000    0.000    0.000    0.000 {built-in method numpy.core.multiarray.zeros}\n",
      "        1    0.000    0.000    0.000    0.000 {built-in method numpy.core.multiarray.empty}\n",
      "        1    0.000    0.000    0.000    0.000 {method 'disable' of '_lsprof.Profiler' objects}\n",
      "\n",
      "\n"
     ]
    },
    {
     "data": {
      "text/plain": [
       "<pstats.Stats at 0x7fe525654b38>"
      ]
     },
     "execution_count": 23,
     "metadata": {},
     "output_type": "execute_result"
    }
   ],
   "source": [
    "s.strip_dirs().sort_stats(\"call\").print_stats()"
   ]
  },
  {
   "cell_type": "code",
   "execution_count": 45,
   "metadata": {
    "ExecuteTime": {
     "end_time": "2018-11-26T12:59:58.024763Z",
     "start_time": "2018-11-26T12:57:46.496066Z"
    }
   },
   "outputs": [
    {
     "name": "stdout",
     "output_type": "stream",
     "text": [
      "Mon Nov 26 13:59:57 2018    Profile_int.prof\n",
      "\n",
      "         542009632 function calls (542009451 primitive calls) in 131.463 seconds\n",
      "\n",
      "   Ordered by: internal time\n",
      "\n",
      "   ncalls  tottime  percall  cumtime  percall filename:lineno(function)\n",
      "  5500000   81.612    0.000  115.682    0.000 Kernel2D.pyx:151(x_loop)\n",
      "255000000   15.930    0.000   15.930    0.000 c_defs.pxd:7(d_square)\n",
      "127500000    9.131    0.000    9.131    0.000 Kernel2D.pyx:88(interpolate_up)\n",
      "127500000    9.008    0.000    9.008    0.000 Kernel2D.pyx:101(interpolate_down)\n",
      "       20    6.389    0.319    6.389    0.319 {built-in method numpy.core.multiarray.fromfile}\n",
      "       10    5.100    0.510  124.844   12.484 Kernel2D.pyx:222(rotate_slice)\n",
      "  5500000    1.547    0.000  117.229    0.000 Kernel2D.pyx:177(inside_y_loop)\n",
      " 10000000    1.337    0.000    1.337    0.000 Kernel2D.pyx:211(write_out)\n",
      " 10000000    1.107    0.000    1.178    0.000 Kernel2D.pyx:186(sum_line_over_pulse)\n",
      "       20    0.132    0.007    0.132    0.007 {built-in method io.open}\n",
      "  1000000    0.070    0.000    0.070    0.000 Kernel2D.pyx:10(__pyx_fuse_1sum_arr)\n",
      "       80    0.039    0.000    0.039    0.000 {method 'read' of '_io.BufferedReader' objects}\n",
      "        1    0.023    0.023  131.463  131.463 SimSequence.py:100(new_rotation_2d_perp)\n",
      "      440    0.004    0.000    0.011    0.000 tokenize.py:487(_tokenize)\n",
      "      380    0.003    0.000    0.003    0.000 {method 'match' of 're.Pattern' objects}\n",
      "       20    0.002    0.000    0.003    0.000 UniversalSingle.py:53(full_path)\n",
      "       20    0.002    0.000    0.002    0.000 {method 'close' of '_io.BufferedReader' objects}\n",
      "       40    0.002    0.000    0.002    0.000 {method 'reduce' of 'numpy.ufunc' objects}\n",
      "       20    0.002    0.000    0.002    0.000 {built-in method builtins.compile}\n",
      "       20    0.002    0.000    0.016    0.001 format.py:439(_filter_header)\n",
      "       20    0.002    0.000    0.003    0.000 tokenize.py:238(untokenize)\n",
      "       20    0.002    0.000    6.595    0.330 SimSequence.py:53(get_data)\n",
      "      380    0.001    0.000    0.002    0.000 re.py:271(_compile)\n",
      "       20    0.001    0.000    6.589    0.329 npyio.py:280(load)\n",
      "       20    0.001    0.000    0.023    0.001 format.py:480(_read_array_header)\n",
      "       20    0.001    0.000    6.414    0.321 format.py:612(read_array)\n",
      "1322/1301    0.001    0.000    0.001    0.000 {built-in method builtins.isinstance}\n",
      "   180/20    0.001    0.000    0.001    0.000 ast.py:64(_convert)\n",
      "        1    0.001    0.001    0.001    0.001 {built-in method numpy.core.multiarray.zeros}\n",
      "      400    0.001    0.000    0.001    0.000 tokenize.py:225(add_whitespace)\n",
      "      380    0.001    0.000    0.003    0.000 tokenize.py:147(_compile)\n",
      "      380    0.001    0.000    0.001    0.000 types.py:164(__get__)\n",
      "      420    0.000    0.000    0.001    0.000 <string>:1(__new__)\n",
      "      420    0.000    0.000    0.000    0.000 {built-in method __new__ of type object at 0x556a599e62c0}\n",
      "       60    0.000    0.000    0.001    0.000 format.py:814(_read_bytes)\n",
      "       20    0.000    0.000    6.593    0.330 UniversalSingle.py:82(open)\n",
      "     1140    0.000    0.000    0.000    0.000 {method 'append' of 'list' objects}\n",
      "       20    0.000    0.000    0.001    0.000 posixpath.py:331(normpath)\n",
      "      380    0.000    0.000    0.003    0.000 re.py:232(compile)\n",
      "       20    0.000    0.000    0.002    0.000 fromnumeric.py:64(_wrapreduction)\n",
      "      840    0.000    0.000    0.000    0.000 {built-in method builtins.len}\n",
      "       20    0.000    0.000    0.001    0.000 posixpath.py:75(join)\n",
      "       20    0.000    0.000    6.589    0.329 <ipython-input-33-9cbc08e9535d>:4(open_file)\n",
      "       20    0.000    0.000    0.001    0.000 format.py:209(read_magic)\n",
      "       20    0.000    0.000    0.000    0.000 {built-in method builtins.hasattr}\n",
      "       20    0.000    0.000    0.003    0.000 ast.py:38(literal_eval)\n",
      "       20    0.000    0.000    0.003    0.000 utils.py:1070(safe_eval)\n",
      "      380    0.000    0.000    0.000    0.000 enum.py:619(value)\n",
      "      380    0.000    0.000    0.000    0.000 {method 'span' of 're.Match' objects}\n",
      "       20    0.000    0.000    0.002    0.000 fromnumeric.py:2016(all)\n",
      "       20    0.000    0.000    0.000    0.000 {built-in method builtins.sorted}\n",
      "        9    0.000    0.000    0.000    0.000 Kernel2D.pyx:70(__set__)\n",
      "       20    0.000    0.000    0.003    0.000 tokenize.py:312(untokenize)\n",
      "       20    0.000    0.000    0.000    0.000 {method 'seek' of '_io.BufferedReader' objects}\n",
      "       20    0.000    0.000    0.000    0.000 {built-in method builtins.min}\n",
      "       21    0.000    0.000    0.000    0.000 typing.py:707(__instancecheck__)\n",
      "       20    0.000    0.000    0.000    0.000 {method 'split' of 'str' objects}\n",
      "       60    0.000    0.000    0.000    0.000 {method 'readline' of '_io.StringIO' objects}\n",
      "      240    0.000    0.000    0.000    0.000 {method 'isidentifier' of 'str' objects}\n",
      "       20    0.000    0.000    0.000    0.000 {built-in method builtins.getattr}\n",
      "       13    0.000    0.000    0.000    0.000 stringsource:344(__cinit__)\n",
      "       21    0.000    0.000    0.000    0.000 {built-in method builtins.issubclass}\n",
      "       20    0.000    0.000    0.000    0.000 posixpath.py:41(_get_sep)\n",
      "       21    0.000    0.000    0.001    0.000 SimSequence.py:34(get_files)\n",
      "       20    0.000    0.000    0.000    0.000 {method 'decode' of 'bytes' objects}\n",
      "       21    0.000    0.000    0.000    0.000 typing.py:710(__subclasscheck__)\n",
      "       40    0.000    0.000    0.000    0.000 {method 'join' of 'str' objects}\n",
      "        1    0.000    0.000  131.463  131.463 {built-in method builtins.exec}\n",
      "       60    0.000    0.000    0.000    0.000 {method 'startswith' of 'str' objects}\n",
      "       20    0.000    0.000    0.000    0.000 tokenize.py:219(__init__)\n",
      "       21    0.000    0.000    0.000    0.000 {built-in method _abc._abc_subclasscheck}\n",
      "       20    0.000    0.000    0.000    0.000 {built-in method _struct.calcsize}\n",
      "       20    0.000    0.000    0.000    0.000 SimSequence.py:28(step_to_iter)\n",
      "       20    0.000    0.000    0.000    0.000 py3k.py:37(asstr)\n",
      "       20    0.000    0.000    0.000    0.000 {method 'startswith' of 'bytes' objects}\n",
      "       20    0.000    0.000    0.000    0.000 format.py:520(<listcomp>)\n",
      "       20    0.000    0.000    0.000    0.000 tokenize.py:662(generate_tokens)\n",
      "       13    0.000    0.000    0.000    0.000 stringsource:652(memoryview_cwrapper)\n",
      "       10    0.000    0.000  124.844   12.484 {method 'rotate_slice' of 'calc_rotation.kernel.Kernel2D.Kernel2D' objects}\n",
      "       20    0.000    0.000    0.000    0.000 py3k.py:42(isfileobj)\n",
      "       20    0.000    0.000    0.000    0.000 {built-in method _struct.unpack}\n",
      "       21    0.000    0.000    0.000    0.000 abc.py:141(__subclasscheck__)\n",
      "       20    0.000    0.000    0.000    0.000 <frozen importlib._bootstrap>:1009(_handle_fromlist)\n",
      "       20    0.000    0.000    0.000    0.000 format.py:179(_check_version)\n",
      "       20    0.000    0.000    0.002    0.000 ast.py:30(parse)\n",
      "       40    0.000    0.000    0.000    0.000 {built-in method posix.fspath}\n",
      "       20    0.000    0.000    0.000    0.000 {method 'strip' of 'str' objects}\n",
      "        1    0.000    0.000  131.463  131.463 <string>:1(<module>)\n",
      "       20    0.000    0.000    0.000    0.000 {method 'endswith' of 'str' objects}\n",
      "       20    0.000    0.000    0.000    0.000 {built-in method builtins.iter}\n",
      "        1    0.000    0.000    0.000    0.000 {built-in method numpy.core.multiarray.array}\n",
      "       10    0.000    0.000  124.844   12.484 Kernel2D.pyx:222(rotate_slice (wrapper))\n",
      "       20    0.000    0.000    0.000    0.000 GenericList.py:13(ids)\n",
      "       13    0.000    0.000    0.000    0.000 stringsource:658(memoryview_check)\n",
      "       20    0.000    0.000    0.000    0.000 {method 'keys' of 'dict' objects}\n",
      "       20    0.000    0.000    0.000    0.000 {method 'items' of 'dict' objects}\n",
      "        1    0.000    0.000    0.000    0.000 {method 'reshape' of 'numpy.ndarray' objects}\n",
      "       13    0.000    0.000    0.000    0.000 stringsource:371(__dealloc__)\n",
      "        1    0.000    0.000    0.000    0.000 stringsource:121(__cinit__)\n",
      "        1    0.000    0.000    0.000    0.000 Kernel2D.pyx:20(__cinit__)\n",
      "        1    0.000    0.000    0.000    0.000 numeric.py:433(asarray)\n",
      "       11    0.000    0.000    0.000    0.000 Kernel2D.pyx:114(translator)\n",
      "       10    0.000    0.000    0.000    0.000 Kernel2D.pyx:138(if_split)\n",
      "        1    0.000    0.000    0.000    0.000 stringsource:210(__dealloc__)\n",
      "        1    0.000    0.000    0.000    0.000 {method 'disable' of '_lsprof.Profiler' objects}\n",
      "        1    0.000    0.000    0.000    0.000 stringsource:184(__getbuffer__)\n",
      "\n",
      "\n"
     ]
    },
    {
     "data": {
      "text/plain": [
       "<pstats.Stats at 0x7f556a6db780>"
      ]
     },
     "execution_count": 45,
     "metadata": {},
     "output_type": "execute_result"
    }
   ],
   "source": [
    "import cProfile\n",
    "cProfile.runctx(\"sequence.new_rotation_2d_perp(np.asarray([1], dtype=np.float64), interpolation=True)\",\n",
    "                globals(), locals(), \"Profile_int.prof\")\n",
    "import pstats\n",
    "s = pstats.Stats(\"Profile_int.prof\")\n",
    "s.strip_dirs().sort_stats(\"time\").print_stats()"
   ]
  },
  {
   "cell_type": "code",
   "execution_count": null,
   "metadata": {},
   "outputs": [],
   "source": []
  }
 ],
 "metadata": {
  "kernelspec": {
   "display_name": "Python [conda env:fdrot]",
   "language": "python",
   "name": "conda-env-fdrot-py"
  },
  "language_info": {
   "codemirror_mode": {
    "name": "ipython",
    "version": 3
   },
   "file_extension": ".py",
   "mimetype": "text/x-python",
   "name": "python",
   "nbconvert_exporter": "python",
   "pygments_lexer": "ipython3",
   "version": "3.7.0"
  }
 },
 "nbformat": 4,
 "nbformat_minor": 2
}
