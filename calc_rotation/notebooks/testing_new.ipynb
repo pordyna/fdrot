{
 "cells": [
  {
   "cell_type": "code",
   "execution_count": 71,
   "metadata": {
    "ExecuteTime": {
     "end_time": "2018-12-04T12:38:56.605811Z",
     "start_time": "2018-12-04T12:38:56.600377Z"
    }
   },
   "outputs": [],
   "source": [
    "import numpy as np\n",
    "import matplotlib.pyplot as plt\n",
    "import fdrot"
   ]
  },
  {
   "cell_type": "code",
   "execution_count": 72,
   "metadata": {
    "ExecuteTime": {
     "end_time": "2018-12-04T12:38:57.371856Z",
     "start_time": "2018-12-04T12:38:57.366856Z"
    }
   },
   "outputs": [
    {
     "name": "stdout",
     "output_type": "stream",
     "text": [
      "Using matplotlib backend: Qt5Agg\n"
     ]
    }
   ],
   "source": [
    "%matplotlib auto"
   ]
  },
  {
   "cell_type": "code",
   "execution_count": 73,
   "metadata": {
    "ExecuteTime": {
     "end_time": "2018-12-04T12:38:57.641052Z",
     "start_time": "2018-12-04T12:38:57.633139Z"
    }
   },
   "outputs": [],
   "source": [
    "dt = 1\n",
    "grid_unit = 1\n",
    "\n",
    "def open_file(path, *args):\n",
    "    return np.load(path)"
   ]
  },
  {
   "cell_type": "code",
   "execution_count": 74,
   "metadata": {
    "ExecuteTime": {
     "end_time": "2018-12-04T12:38:57.863607Z",
     "start_time": "2018-12-04T12:38:57.858419Z"
    }
   },
   "outputs": [],
   "source": [
    "path = '/home/pawel/Work/HOME/Faraday_Rotation/data/constant_samples/'"
   ]
  },
  {
   "cell_type": "code",
   "execution_count": 75,
   "metadata": {
    "ExecuteTime": {
     "end_time": "2018-12-04T12:38:58.092134Z",
     "start_time": "2018-12-04T12:38:58.065545Z"
    }
   },
   "outputs": [],
   "source": [
    "file_list = fdrot.sim_data.UniversalSingle(path, 'Bz', dt, grid_unit, 'step_', '.npy',open_file)"
   ]
  },
  {
   "cell_type": "code",
   "execution_count": 76,
   "metadata": {
    "ExecuteTime": {
     "end_time": "2018-12-04T12:38:58.257863Z",
     "start_time": "2018-12-04T12:38:58.255135Z"
    }
   },
   "outputs": [],
   "source": [
    "# path = '/home/pawel/Work/HOME/Faraday_Rotation/data/steps_sample_2/'"
   ]
  },
  {
   "cell_type": "code",
   "execution_count": 77,
   "metadata": {
    "ExecuteTime": {
     "end_time": "2018-12-04T12:38:58.606699Z",
     "start_time": "2018-12-04T12:38:58.593972Z"
    }
   },
   "outputs": [],
   "source": [
    "file_list2 = fdrot.sim_data.UniversalSingle(path, 'n_e', dt, grid_unit, 'step_', '.npy',\n",
    "                                   open_file)"
   ]
  },
  {
   "cell_type": "code",
   "execution_count": 78,
   "metadata": {
    "ExecuteTime": {
     "end_time": "2018-12-04T12:38:58.980625Z",
     "start_time": "2018-12-04T12:38:58.973868Z"
    }
   },
   "outputs": [
    {
     "data": {
      "text/plain": [
       "(100, 300)"
      ]
     },
     "execution_count": 78,
     "metadata": {},
     "output_type": "execute_result"
    }
   ],
   "source": [
    "file_list.ids\n",
    "file_list.sim_box_shape"
   ]
  },
  {
   "cell_type": "code",
   "execution_count": 79,
   "metadata": {
    "ExecuteTime": {
     "end_time": "2018-12-04T12:38:59.481524Z",
     "start_time": "2018-12-04T12:38:59.470380Z"
    }
   },
   "outputs": [
    {
     "data": {
      "text/plain": [
       "[(0, 30),\n",
       " (3, 33),\n",
       " (6, 36),\n",
       " (9, 39),\n",
       " (12, 42),\n",
       " (15, 45),\n",
       " (18, 48),\n",
       " (21, 51),\n",
       " (24, 54),\n",
       " (27, 57)]"
      ]
     },
     "execution_count": 79,
     "metadata": {},
     "output_type": "execute_result"
    }
   ],
   "source": [
    "seq = np.arange(0,30,3)\n",
    "seq2 = seq + 30\n",
    "seq3 = [None] * seq.size\n",
    "for ii in range(seq.size):\n",
    "    seq3[ii] = (seq[ii], seq2[ii])\n",
    "seq3"
   ]
  },
  {
   "cell_type": "code",
   "execution_count": 80,
   "metadata": {
    "ExecuteTime": {
     "end_time": "2018-12-04T12:39:03.128719Z",
     "start_time": "2018-12-04T12:39:03.125279Z"
    }
   },
   "outputs": [],
   "source": [
    "iteration = (0, 1, 1)"
   ]
  },
  {
   "cell_type": "code",
   "execution_count": 133,
   "metadata": {
    "ExecuteTime": {
     "end_time": "2018-12-04T13:18:40.265093Z",
     "start_time": "2018-12-04T13:18:40.249664Z"
    }
   },
   "outputs": [],
   "source": [
    "sequence = fdrot.sim_sequence.SimSequence({'Bz': file_list, 'n_e': file_list2}, 1,  iteration, [(0,300)],0 ,300)"
   ]
  },
  {
   "cell_type": "code",
   "execution_count": 131,
   "metadata": {
    "ExecuteTime": {
     "end_time": "2018-12-04T13:17:29.998936Z",
     "start_time": "2018-12-04T13:17:29.800747Z"
    }
   },
   "outputs": [
    {
     "data": {
      "text/plain": [
       "<matplotlib.image.AxesImage at 0x7f85662db438>"
      ]
     },
     "execution_count": 131,
     "metadata": {},
     "output_type": "execute_result"
    }
   ],
   "source": [
    "rotated = sequence.rotation_2d_perp(np.ones(1, dtype=np.float64), interpolation=False)\n",
    "plt.imshow(rotated)\n"
   ]
  },
  {
   "cell_type": "code",
   "execution_count": 132,
   "metadata": {
    "ExecuteTime": {
     "end_time": "2018-12-04T13:17:30.061048Z",
     "start_time": "2018-12-04T13:17:30.056895Z"
    }
   },
   "outputs": [],
   "source": [
    "from math import log\n",
    "from math import sqrt"
   ]
  },
  {
   "cell_type": "code",
   "execution_count": 84,
   "metadata": {
    "ExecuteTime": {
     "end_time": "2018-12-04T12:39:09.804957Z",
     "start_time": "2018-12-04T12:39:09.750742Z"
    }
   },
   "outputs": [
    {
     "name": "stdout",
     "output_type": "stream",
     "text": [
      "yy:  0 val:  6.3969268774194585\n",
      "yy:  1 val:  15.894877096830099\n",
      "yy:  2 val:  23.93711145551276\n",
      "yy:  3 val:  31.156183570762096\n",
      "yy:  4 val:  37.795320017139154\n",
      "yy:  5 val:  43.98567911896429\n",
      "yy:  6 val:  49.80963679117111\n",
      "yy:  7 val:  55.323808010419675\n",
      "yy:  8 val:  60.569513604588266\n",
      "yy:  9 val:  65.57824134458163\n",
      "yy:  10 val:  70.37477916856574\n",
      "yy:  11 val:  74.97914314246815\n",
      "yy:  12 val:  79.40782951479139\n",
      "yy:  13 val:  83.674663482072\n",
      "yy:  14 val:  87.79139507185641\n",
      "yy:  15 val:  91.76812985945213\n",
      "yy:  16 val:  95.61364806854003\n",
      "yy:  17 val:  99.33564602796078\n",
      "yy:  18 val:  102.94092225443559\n",
      "yy:  19 val:  106.43552317827732\n",
      "yy:  20 val:  109.824858891434\n",
      "yy:  21 val:  113.11379624926901\n",
      "yy:  22 val:  116.30673460540535\n",
      "yy:  23 val:  119.4076680473113\n",
      "yy:  24 val:  122.42023701039616\n",
      "yy:  25 val:  125.34777144198999\n",
      "yy:  26 val:  128.19332717464192\n",
      "yy:  27 val:  130.95971679168338\n",
      "yy:  28 val:  133.6495359876007\n",
      "yy:  29 val:  136.26518621432044\n",
      "yy:  30 val:  138.80889424336632\n",
      "yy:  31 val:  141.28272914969844\n",
      "yy:  32 val:  143.6886171265732\n",
      "yy:  33 val:  146.02835446506936\n",
      "yy:  34 val:  148.30361897207044\n",
      "yy:  35 val:  150.5159800528145\n",
      "yy:  36 val:  152.66690764583217\n",
      "yy:  37 val:  154.75778016716723\n",
      "yy:  38 val:  156.7898915956214\n",
      "yy:  39 val:  158.76445781019524\n",
      "yy:  40 val:  160.68262227394717\n",
      "yy:  41 val:  162.545461144525\n",
      "yy:  42 val:  164.35398787994845\n",
      "yy:  43 val:  166.1091573985249\n",
      "yy:  44 val:  167.81186984360994\n",
      "yy:  45 val:  169.46297399704144\n",
      "yy:  46 val:  171.06327037927196\n",
      "yy:  47 val:  172.61351406925672\n",
      "yy:  48 val:  174.1144172729525\n",
      "yy:  49 val:  175.56665166565855\n",
      "yy:  50 val:  176.97085053032876\n",
      "yy:  51 val:  178.32761071130514\n",
      "yy:  52 val:  179.63749440061187\n",
      "yy:  53 val:  180.9010307719255\n",
      "yy:  54 val:  182.11871747559675\n",
      "yy:  55 val:  183.291022006561\n",
      "yy:  56 val:  184.41838295563204\n",
      "yy:  57 val:  185.50121115349674\n",
      "yy:  58 val:  186.53989071567932\n",
      "yy:  59 val:  187.5347799958298\n",
      "yy:  60 val:  188.486212453858\n",
      "yy:  61 val:  189.39449744471443\n",
      "yy:  62 val:  190.25992093295662\n",
      "yy:  63 val:  191.08274613764982\n",
      "yy:  64 val:  191.8632141116214\n",
      "yy:  65 val:  192.6015442585996\n",
      "yy:  66 val:  193.297934791331\n",
      "yy:  67 val:  193.9525631333576\n",
      "yy:  68 val:  194.5655862667672\n",
      "yy:  69 val:  195.13714102787804\n",
      "yy:  70 val:  195.66734435248787\n",
      "yy:  71 val:  196.15629347201804\n",
      "yy:  72 val:  196.60406606157457\n",
      "yy:  73 val:  197.01072034067656\n",
      "yy:  74 val:  197.37629512711916\n",
      "yy:  75 val:  197.70080984416526\n",
      "yy:  76 val:  197.98426448099767\n",
      "yy:  77 val:  198.2266395060854\n",
      "yy:  78 val:  198.42789573284963\n",
      "yy:  79 val:  198.58797413672886\n",
      "yy:  80 val:  198.7067956224567\n",
      "yy:  81 val:  198.7842607400601\n",
      "yy:  82 val:  198.82024934776524\n",
      "yy:  83 val:  198.81462021966084\n",
      "yy:  84 val:  198.76721059560305\n",
      "yy:  85 val:  198.6778356704538\n",
      "yy:  86 val:  198.54628801931923\n",
      "yy:  87 val:  198.37233695498892\n",
      "yy:  88 val:  198.15572781326765\n",
      "yy:  89 val:  197.8961811613252\n",
      "yy:  90 val:  197.5933919235695\n",
      "yy:  91 val:  197.2470284188501\n",
      "yy:  92 val:  196.85673130202687\n",
      "yy:  93 val:  196.42211240206464\n",
      "yy:  94 val:  195.94275344784032\n",
      "yy:  95 val:  195.41820467174165\n",
      "yy:  96 val:  194.84798327988722\n",
      "yy:  97 val:  194.23157177637657\n",
      "yy:  98 val:  193.56841612736144\n",
      "yy:  99 val:  192.85792374888047\n",
      "yy:  100 val:  192.0994613002799\n",
      "yy:  101 val:  191.29235226260928\n",
      "yy:  102 val:  190.43587427856912\n",
      "yy:  103 val:  189.52925622734406\n",
      "yy:  104 val:  188.57167500388297\n",
      "yy:  105 val:  187.5622519678023\n",
      "yy:  106 val:  186.50004902196636\n",
      "yy:  107 val:  185.3840642747907\n",
      "yy:  108 val:  184.2132272332574\n",
      "yy:  109 val:  182.9863934652879\n",
      "yy:  110 val:  181.70233866023995\n",
      "yy:  111 val:  180.35975200453646\n",
      "yy:  112 val:  178.95722877537875\n",
      "yy:  113 val:  177.4932620386296\n",
      "yy:  114 val:  175.96623331660984\n",
      "yy:  115 val:  174.3744020669005\n",
      "yy:  116 val:  172.7158937832138\n",
      "yy:  117 val:  170.98868649262533\n",
      "yy:  118 val:  169.19059537816358\n",
      "yy:  119 val:  167.31925519962562\n",
      "yy:  120 val:  165.3721001154916\n",
      "yy:  121 val:  163.34634042091935\n",
      "yy:  122 val:  161.2389356056446\n",
      "yy:  123 val:  159.04656299394307\n",
      "yy:  124 val:  156.76558104676567\n",
      "yy:  125 val:  154.39198617016183\n",
      "yy:  126 val:  151.92136156526985\n",
      "yy:  127 val:  149.34881624686778\n",
      "yy:  128 val:  146.6689118117843\n",
      "yy:  129 val:  143.87557380041557\n",
      "yy:  130 val:  140.96198348345368\n",
      "yy:  131 val:  137.92044450109074\n",
      "yy:  132 val:  134.74221679995236\n",
      "yy:  133 val:  131.41730746915238\n",
      "yy:  134 val:  127.93420391969629\n",
      "yy:  135 val:  124.27952864755588\n",
      "yy:  136 val:  120.43758534608797\n",
      "yy:  137 val:  116.38975128295576\n",
      "yy:  138 val:  112.11364688454239\n",
      "yy:  139 val:  107.58197344890684\n",
      "yy:  140 val:  102.76084043915588\n",
      "yy:  141 val:  97.60727760743988\n",
      "yy:  142 val:  92.06538519246389\n",
      "yy:  143 val:  86.06007997693224\n",
      "yy:  144 val:  79.48629508286403\n",
      "yy:  145 val:  72.18878369101111\n",
      "yy:  146 val:  63.92002762794606\n",
      "yy:  147 val:  54.23747899269692\n",
      "yy:  148 val:  42.178288901584935\n",
      "yy:  149 val:  24.447228138067402\n"
     ]
    }
   ],
   "source": [
    "R = 150\n",
    "output_th = np.ones_like(rotated)\n",
    "for yy in range(0, 150):\n",
    "    yy_ex = yy +0.5\n",
    "    value =   2 *  yy_ex * log(yy_ex/(R - sqrt(R**2 - yy_ex**2)))\n",
    "    #value =  2 *  yy_ex * log(yy_ex/(sqrt((R-yy_ex)**2 + yy_ex**2) - (R-yy_ex)))\n",
    "    # value = 2 * yy_ex *  np.sum(np.sqrt((np.arange(150-yy)**2 + yy_ex**2))**(-1))\n",
    "    print('yy: ',yy, 'val: ', value)\n",
    "    output_th[150 + yy,:], output_th[149 - yy,:] = value, value\n",
    "#yy_ex = 0.25\n",
    "#value =  1e-10 * 2 *  yy_ex * log(yy_ex/(R - sqrt(R**2 - yy_ex**2)))\n",
    "#output_th[150,:] = value"
   ]
  },
  {
   "cell_type": "code",
   "execution_count": 85,
   "metadata": {
    "ExecuteTime": {
     "end_time": "2018-12-04T12:39:12.545036Z",
     "start_time": "2018-12-04T12:39:12.519629Z"
    }
   },
   "outputs": [
    {
     "data": {
      "text/plain": [
       "array([ 24.44722814,  42.1782889 ,  54.23747899,  63.92002763,\n",
       "        72.18878369,  79.48629508,  86.06007998,  92.06538519,\n",
       "        97.60727761, 102.76084044, 107.58197345, 112.11364688,\n",
       "       116.38975128, 120.43758535, 124.27952865, 127.93420392,\n",
       "       131.41730747, 134.7422168 , 137.9204445 , 140.96198348,\n",
       "       143.8755738 , 146.66891181, 149.34881625, 151.92136157,\n",
       "       154.39198617, 156.76558105, 159.04656299, 161.23893561,\n",
       "       163.34634042, 165.37210012, 167.3192552 , 169.19059538,\n",
       "       170.98868649, 172.71589378, 174.37440207, 175.96623332,\n",
       "       177.49326204, 178.95722878, 180.359752  , 181.70233866,\n",
       "       182.98639347, 184.21322723, 185.38406427, 186.50004902,\n",
       "       187.56225197, 188.571675  , 189.52925623, 190.43587428,\n",
       "       191.29235226, 192.0994613 , 192.85792375, 193.56841613,\n",
       "       194.23157178, 194.84798328, 195.41820467, 195.94275345,\n",
       "       196.4221124 , 196.8567313 , 197.24702842, 197.59339192,\n",
       "       197.89618116, 198.15572781, 198.37233695, 198.54628802,\n",
       "       198.67783567, 198.7672106 , 198.81462022, 198.82024935,\n",
       "       198.78426074, 198.70679562, 198.58797414, 198.42789573,\n",
       "       198.22663951, 197.98426448, 197.70080984, 197.37629513,\n",
       "       197.01072034, 196.60406606, 196.15629347, 195.66734435,\n",
       "       195.13714103, 194.56558627, 193.95256313, 193.29793479,\n",
       "       192.60154426, 191.86321411, 191.08274614, 190.25992093,\n",
       "       189.39449744, 188.48621245, 187.53478   , 186.53989072,\n",
       "       185.50121115, 184.41838296, 183.29102201, 182.11871748,\n",
       "       180.90103077, 179.6374944 , 178.32761071, 176.97085053,\n",
       "       175.56665167, 174.11441727, 172.61351407, 171.06327038,\n",
       "       169.462974  , 167.81186984, 166.1091574 , 164.35398788,\n",
       "       162.54546114, 160.68262227, 158.76445781, 156.7898916 ,\n",
       "       154.75778017, 152.66690765, 150.51598005, 148.30361897,\n",
       "       146.02835447, 143.68861713, 141.28272915, 138.80889424,\n",
       "       136.26518621, 133.64953599, 130.95971679, 128.19332717,\n",
       "       125.34777144, 122.42023701, 119.40766805, 116.30673461,\n",
       "       113.11379625, 109.82485889, 106.43552318, 102.94092225,\n",
       "        99.33564603,  95.61364807,  91.76812986,  87.79139507,\n",
       "        83.67466348,  79.40782951,  74.97914314,  70.37477917,\n",
       "        65.57824134,  60.5695136 ,  55.32380801,  49.80963679,\n",
       "        43.98567912,  37.79532002,  31.15618357,  23.93711146,\n",
       "        15.8948771 ,   6.39692688,   6.39692688,  15.8948771 ,\n",
       "        23.93711146,  31.15618357,  37.79532002,  43.98567912,\n",
       "        49.80963679,  55.32380801,  60.5695136 ,  65.57824134,\n",
       "        70.37477917,  74.97914314,  79.40782951,  83.67466348,\n",
       "        87.79139507,  91.76812986,  95.61364807,  99.33564603,\n",
       "       102.94092225, 106.43552318, 109.82485889, 113.11379625,\n",
       "       116.30673461, 119.40766805, 122.42023701, 125.34777144,\n",
       "       128.19332717, 130.95971679, 133.64953599, 136.26518621,\n",
       "       138.80889424, 141.28272915, 143.68861713, 146.02835447,\n",
       "       148.30361897, 150.51598005, 152.66690765, 154.75778017,\n",
       "       156.7898916 , 158.76445781, 160.68262227, 162.54546114,\n",
       "       164.35398788, 166.1091574 , 167.81186984, 169.462974  ,\n",
       "       171.06327038, 172.61351407, 174.11441727, 175.56665167,\n",
       "       176.97085053, 178.32761071, 179.6374944 , 180.90103077,\n",
       "       182.11871748, 183.29102201, 184.41838296, 185.50121115,\n",
       "       186.53989072, 187.53478   , 188.48621245, 189.39449744,\n",
       "       190.25992093, 191.08274614, 191.86321411, 192.60154426,\n",
       "       193.29793479, 193.95256313, 194.56558627, 195.13714103,\n",
       "       195.66734435, 196.15629347, 196.60406606, 197.01072034,\n",
       "       197.37629513, 197.70080984, 197.98426448, 198.22663951,\n",
       "       198.42789573, 198.58797414, 198.70679562, 198.78426074,\n",
       "       198.82024935, 198.81462022, 198.7672106 , 198.67783567,\n",
       "       198.54628802, 198.37233695, 198.15572781, 197.89618116,\n",
       "       197.59339192, 197.24702842, 196.8567313 , 196.4221124 ,\n",
       "       195.94275345, 195.41820467, 194.84798328, 194.23157178,\n",
       "       193.56841613, 192.85792375, 192.0994613 , 191.29235226,\n",
       "       190.43587428, 189.52925623, 188.571675  , 187.56225197,\n",
       "       186.50004902, 185.38406427, 184.21322723, 182.98639347,\n",
       "       181.70233866, 180.359752  , 178.95722878, 177.49326204,\n",
       "       175.96623332, 174.37440207, 172.71589378, 170.98868649,\n",
       "       169.19059538, 167.3192552 , 165.37210012, 163.34634042,\n",
       "       161.23893561, 159.04656299, 156.76558105, 154.39198617,\n",
       "       151.92136157, 149.34881625, 146.66891181, 143.8755738 ,\n",
       "       140.96198348, 137.9204445 , 134.7422168 , 131.41730747,\n",
       "       127.93420392, 124.27952865, 120.43758535, 116.38975128,\n",
       "       112.11364688, 107.58197345, 102.76084044,  97.60727761,\n",
       "        92.06538519,  86.06007998,  79.48629508,  72.18878369,\n",
       "        63.92002763,  54.23747899,  42.1782889 ,  24.44722814])"
      ]
     },
     "execution_count": 85,
     "metadata": {},
     "output_type": "execute_result"
    }
   ],
   "source": [
    "output_th[:,1]"
   ]
  },
  {
   "cell_type": "code",
   "execution_count": 89,
   "metadata": {
    "ExecuteTime": {
     "end_time": "2018-12-04T12:45:02.917763Z",
     "start_time": "2018-12-04T12:45:02.835082Z"
    },
    "scrolled": true
   },
   "outputs": [
    {
     "data": {
      "text/plain": [
       "[<matplotlib.lines.Line2D at 0x7f857061eba8>]"
      ]
     },
     "execution_count": 89,
     "metadata": {},
     "output_type": "execute_result"
    }
   ],
   "source": [
    "A = (rotated - output_th)\n",
    "A = A.T\n",
    "plt.plot(A[1, :])"
   ]
  },
  {
   "cell_type": "code",
   "execution_count": 93,
   "metadata": {
    "ExecuteTime": {
     "end_time": "2018-12-04T12:48:41.467184Z",
     "start_time": "2018-12-04T12:48:41.453742Z"
    }
   },
   "outputs": [
    {
     "data": {
      "text/plain": [
       "array([87.79139507, 83.67466348, 79.40782951, 74.97914314, 70.37477917,\n",
       "       65.57824134, 60.5695136 , 55.32380801, 49.80963679, 43.98567912,\n",
       "       37.79532002, 31.15618357, 23.93711146, 15.8948771 ,  6.39692688,\n",
       "        6.39692688, 15.8948771 , 23.93711146, 31.15618357, 37.79532002,\n",
       "       43.98567912, 49.80963679, 55.32380801, 60.5695136 , 65.57824134,\n",
       "       70.37477917, 74.97914314, 79.40782951])"
      ]
     },
     "execution_count": 93,
     "metadata": {},
     "output_type": "execute_result"
    }
   ],
   "source": [
    "output_th[135:163,0]\n"
   ]
  },
  {
   "cell_type": "code",
   "execution_count": 57,
   "metadata": {
    "ExecuteTime": {
     "end_time": "2018-11-26T14:58:03.830719Z",
     "start_time": "2018-11-26T14:58:03.813628Z"
    }
   },
   "outputs": [
    {
     "data": {
      "text/plain": [
       "(20, 30)"
      ]
     },
     "execution_count": 57,
     "metadata": {},
     "output_type": "execute_result"
    }
   ],
   "source": [
    "file = sequence.get_files('Bz')\n",
    "sequence.get_data('Bz',0).shape"
   ]
  },
  {
   "cell_type": "code",
   "execution_count": 126,
   "metadata": {
    "ExecuteTime": {
     "end_time": "2018-12-04T13:07:52.324069Z",
     "start_time": "2018-12-04T13:07:52.181870Z"
    },
    "code_folding": []
   },
   "outputs": [],
   "source": [
    "for y in range(1,300, 10):\n",
    "    y = y-0.5\n",
    "    x = np.linspace(300, - 300, 600)\n",
    "    plt.plot(x, y/np.sqrt(x**2 + y**2))\n",
    "    plt.title(r\"$\\frac{y}{r}$ $y \\in [0.5, 299.5]$, step = 10.\" + \"\\n\" + \n",
    "              r\"$min(y)$ $\\rightarrow$ steepest curve, $max(y)$ $\\rightarrow$ flat curve\")"
   ]
  },
  {
   "cell_type": "code",
   "execution_count": 99,
   "metadata": {
    "ExecuteTime": {
     "end_time": "2018-12-04T12:52:14.607690Z",
     "start_time": "2018-12-04T12:52:14.591516Z"
    }
   },
   "outputs": [],
   "source": [
    "np.linspace?"
   ]
  },
  {
   "cell_type": "code",
   "execution_count": 52,
   "metadata": {
    "ExecuteTime": {
     "end_time": "2018-11-26T13:58:00.380641Z",
     "start_time": "2018-11-26T13:57:49.266638Z"
    }
   },
   "outputs": [
    {
     "name": "stdout",
     "output_type": "stream",
     "text": [
      "1.39 s ± 24.6 ms per loop (mean ± std. dev. of 7 runs, 1 loop each)\n"
     ]
    }
   ],
   "source": [
    "%timeit sequence.new_rotation_2d_perp(np.ones(100000, dtype=np.float64), interpolation=False)"
   ]
  },
  {
   "cell_type": "code",
   "execution_count": 46,
   "metadata": {
    "ExecuteTime": {
     "end_time": "2018-11-26T13:56:50.647425Z",
     "start_time": "2018-11-26T13:56:39.626984Z"
    }
   },
   "outputs": [
    {
     "name": "stdout",
     "output_type": "stream",
     "text": [
      "1.37 s ± 27.6 ms per loop (mean ± std. dev. of 7 runs, 1 loop each)\n"
     ]
    }
   ],
   "source": [
    "%timeit sequence.new_rotation_2d_perp(np.ones(100000, dtype=np.float64), interpolation=True)"
   ]
  },
  {
   "cell_type": "code",
   "execution_count": 57,
   "metadata": {
    "ExecuteTime": {
     "end_time": "2018-11-26T13:59:17.011046Z",
     "start_time": "2018-11-26T13:59:07.710689Z"
    }
   },
   "outputs": [
    {
     "name": "stdout",
     "output_type": "stream",
     "text": [
      "118 ms ± 17.9 ms per loop (mean ± std. dev. of 7 runs, 10 loops each)\n"
     ]
    }
   ],
   "source": [
    "%timeit sequence.rotation_2d_perp(np.ones(100000, dtype=np.float64), interpolation=False)"
   ]
  },
  {
   "cell_type": "code",
   "execution_count": 49,
   "metadata": {
    "ExecuteTime": {
     "end_time": "2018-11-26T13:57:26.391920Z",
     "start_time": "2018-11-26T13:57:25.304627Z"
    }
   },
   "outputs": [
    {
     "name": "stdout",
     "output_type": "stream",
     "text": [
      "123 ms ± 18 ms per loop (mean ± std. dev. of 7 runs, 1 loop each)\n"
     ]
    }
   ],
   "source": [
    "%timeit sequence.rotation_2d_perp(np.ones(100000, dtype=np.float64), interpolation=True)"
   ]
  },
  {
   "cell_type": "code",
   "execution_count": 9,
   "metadata": {
    "ExecuteTime": {
     "end_time": "2018-11-26T13:49:55.976372Z",
     "start_time": "2018-11-26T13:49:50.784555Z"
    }
   },
   "outputs": [
    {
     "name": "stdout",
     "output_type": "stream",
     "text": [
      "Mon Nov 26 14:49:55 2018    Profile9.prof\n",
      "\n",
      "         21069633 function calls (21069452 primitive calls) in 5.133 seconds\n",
      "\n",
      "   Ordered by: internal time\n",
      "\n",
      "   ncalls  tottime  percall  cumtime  percall filename:lineno(function)\n",
      "   330000    3.048    0.000    4.378    0.000 Kernel2D.pyx:151(x_loop)\n",
      "  9300000    0.673    0.000    0.673    0.000 c_defs.pxd:7(d_square)\n",
      "  4650000    0.347    0.000    0.347    0.000 Kernel2D.pyx:88(interpolate_up)\n",
      "  4650000    0.309    0.000    0.309    0.000 Kernel2D.pyx:101(interpolate_down)\n",
      "       10    0.281    0.028    5.014    0.501 Kernel2D.pyx:222(rotate_slice)\n",
      "   600000    0.154    0.000    0.209    0.000 Kernel2D.pyx:186(sum_line_over_pulse)\n",
      "       20    0.091    0.005    0.091    0.005 {built-in method io.open}\n",
      "   330000    0.088    0.000    4.466    0.000 Kernel2D.pyx:177(inside_y_loop)\n",
      "   600000    0.058    0.000    0.058    0.000 Kernel2D.pyx:211(write_out)\n",
      "   600000    0.055    0.000    0.055    0.000 Kernel2D.pyx:10(__pyx_fuse_1sum_arr)\n",
      "       20    0.005    0.000    0.005    0.000 {built-in method numpy.core.multiarray.fromfile}\n",
      "      440    0.002    0.000    0.006    0.000 tokenize.py:487(_tokenize)\n",
      "        1    0.002    0.002    5.133    5.133 SimSequence.py:100(new_rotation_2d_perp)\n",
      "       20    0.002    0.000    0.002    0.000 {method 'close' of '_io.BufferedReader' objects}\n",
      "       20    0.002    0.000    0.002    0.000 {built-in method builtins.compile}\n",
      "      380    0.001    0.000    0.001    0.000 {method 'match' of 're.Pattern' objects}\n",
      "       20    0.001    0.000    0.002    0.000 UniversalSingle.py:53(full_path)\n",
      "       40    0.001    0.000    0.001    0.000 {method 'reduce' of 'numpy.ufunc' objects}\n",
      "       20    0.001    0.000    0.009    0.000 format.py:439(_filter_header)\n",
      "       20    0.001    0.000    0.001    0.000 tokenize.py:238(untokenize)\n",
      "       20    0.001    0.000    0.116    0.006 SimSequence.py:53(get_data)\n",
      "       20    0.001    0.000    0.113    0.006 npyio.py:280(load)\n",
      "      380    0.001    0.000    0.001    0.000 re.py:271(_compile)\n",
      "       20    0.001    0.000    0.013    0.001 format.py:480(_read_array_header)\n",
      "   180/20    0.000    0.000    0.001    0.000 ast.py:64(_convert)\n",
      "       20    0.000    0.000    0.019    0.001 format.py:612(read_array)\n",
      "1322/1301    0.000    0.000    0.001    0.000 {built-in method builtins.isinstance}\n",
      "        1    0.000    0.000    0.000    0.000 {built-in method numpy.core.multiarray.zeros}\n",
      "      400    0.000    0.000    0.000    0.000 tokenize.py:225(add_whitespace)\n",
      "       80    0.000    0.000    0.000    0.000 {method 'read' of '_io.BufferedReader' objects}\n",
      "      380    0.000    0.000    0.002    0.000 tokenize.py:147(_compile)\n",
      "      380    0.000    0.000    0.000    0.000 types.py:164(__get__)\n",
      "      420    0.000    0.000    0.000    0.000 <string>:1(__new__)\n",
      "       20    0.000    0.000    0.115    0.006 UniversalSingle.py:82(open)\n",
      "     1140    0.000    0.000    0.000    0.000 {method 'append' of 'list' objects}\n",
      "       60    0.000    0.000    0.000    0.000 format.py:814(_read_bytes)\n",
      "      420    0.000    0.000    0.000    0.000 {built-in method __new__ of type object at 0x5621b15282c0}\n",
      "       20    0.000    0.000    0.001    0.000 fromnumeric.py:64(_wrapreduction)\n",
      "       20    0.000    0.000    0.000    0.000 posixpath.py:331(normpath)\n",
      "       20    0.000    0.000    0.000    0.000 posixpath.py:75(join)\n",
      "       20    0.000    0.000    0.113    0.006 <ipython-input-2-9cbc08e9535d>:4(open_file)\n",
      "      380    0.000    0.000    0.001    0.000 re.py:232(compile)\n",
      "       20    0.000    0.000    0.002    0.000 ast.py:38(literal_eval)\n",
      "      840    0.000    0.000    0.000    0.000 {built-in method builtins.len}\n",
      "      380    0.000    0.000    0.000    0.000 {method 'span' of 're.Match' objects}\n",
      "       20    0.000    0.000    0.000    0.000 format.py:209(read_magic)\n",
      "        1    0.000    0.000    5.133    5.133 <string>:1(<module>)\n",
      "       20    0.000    0.000    0.000    0.000 {built-in method builtins.hasattr}\n",
      "       20    0.000    0.000    0.002    0.000 utils.py:1070(safe_eval)\n",
      "        9    0.000    0.000    0.000    0.000 Kernel2D.pyx:70(__set__)\n",
      "      380    0.000    0.000    0.000    0.000 enum.py:619(value)\n",
      "       20    0.000    0.000    0.002    0.000 tokenize.py:312(untokenize)\n",
      "       21    0.000    0.000    0.000    0.000 typing.py:710(__subclasscheck__)\n",
      "       20    0.000    0.000    0.000    0.000 {built-in method builtins.sorted}\n",
      "       20    0.000    0.000    0.001    0.000 fromnumeric.py:2016(all)\n",
      "        1    0.000    0.000    5.133    5.133 {built-in method builtins.exec}\n",
      "       21    0.000    0.000    0.000    0.000 typing.py:707(__instancecheck__)\n",
      "       21    0.000    0.000    0.000    0.000 SimSequence.py:34(get_files)\n",
      "       20    0.000    0.000    0.000    0.000 tokenize.py:219(__init__)\n",
      "       60    0.000    0.000    0.000    0.000 {method 'readline' of '_io.StringIO' objects}\n",
      "       21    0.000    0.000    0.000    0.000 {built-in method builtins.issubclass}\n",
      "       20    0.000    0.000    0.000    0.000 {built-in method builtins.getattr}\n",
      "      240    0.000    0.000    0.000    0.000 {method 'isidentifier' of 'str' objects}\n",
      "       21    0.000    0.000    0.000    0.000 {built-in method _abc._abc_subclasscheck}\n",
      "       40    0.000    0.000    0.000    0.000 {method 'join' of 'str' objects}\n",
      "       20    0.000    0.000    0.000    0.000 {built-in method builtins.min}\n",
      "       13    0.000    0.000    0.000    0.000 stringsource:344(__cinit__)\n",
      "       20    0.000    0.000    0.000    0.000 SimSequence.py:28(step_to_iter)\n",
      "       20    0.000    0.000    0.000    0.000 {method 'decode' of 'bytes' objects}\n",
      "       20    0.000    0.000    0.000    0.000 {method 'split' of 'str' objects}\n",
      "       60    0.000    0.000    0.000    0.000 {method 'startswith' of 'str' objects}\n",
      "       20    0.000    0.000    0.000    0.000 format.py:520(<listcomp>)\n",
      "       20    0.000    0.000    0.000    0.000 tokenize.py:662(generate_tokens)\n",
      "       20    0.000    0.000    0.000    0.000 {method 'seek' of '_io.BufferedReader' objects}\n",
      "       20    0.000    0.000    0.000    0.000 {built-in method _struct.calcsize}\n",
      "       10    0.000    0.000    5.014    0.501 {method 'rotate_slice' of 'calc_rotation.kernel.Kernel2D.Kernel2D' objects}\n",
      "       21    0.000    0.000    0.000    0.000 abc.py:141(__subclasscheck__)\n",
      "       20    0.000    0.000    0.000    0.000 py3k.py:37(asstr)\n",
      "       20    0.000    0.000    0.000    0.000 py3k.py:42(isfileobj)\n",
      "       13    0.000    0.000    0.000    0.000 stringsource:652(memoryview_cwrapper)\n",
      "       20    0.000    0.000    0.002    0.000 ast.py:30(parse)\n",
      "       20    0.000    0.000    0.000    0.000 {built-in method _struct.unpack}\n",
      "       20    0.000    0.000    0.000    0.000 {method 'startswith' of 'bytes' objects}\n",
      "       20    0.000    0.000    0.000    0.000 <frozen importlib._bootstrap>:1009(_handle_fromlist)\n",
      "       40    0.000    0.000    0.000    0.000 {built-in method posix.fspath}\n",
      "       20    0.000    0.000    0.000    0.000 {method 'endswith' of 'str' objects}\n",
      "       20    0.000    0.000    0.000    0.000 posixpath.py:41(_get_sep)\n",
      "       20    0.000    0.000    0.000    0.000 format.py:179(_check_version)\n",
      "       20    0.000    0.000    0.000    0.000 {method 'strip' of 'str' objects}\n",
      "       10    0.000    0.000    5.014    0.501 Kernel2D.pyx:222(rotate_slice (wrapper))\n",
      "        1    0.000    0.000    0.000    0.000 {built-in method numpy.core.multiarray.copyto}\n",
      "        1    0.000    0.000    0.000    0.000 {built-in method numpy.core.multiarray.empty}\n",
      "       20    0.000    0.000    0.000    0.000 {built-in method builtins.iter}\n",
      "       13    0.000    0.000    0.000    0.000 stringsource:371(__dealloc__)\n",
      "        1    0.000    0.000    0.000    0.000 numeric.py:156(ones)\n",
      "       20    0.000    0.000    0.000    0.000 {method 'keys' of 'dict' objects}\n",
      "       20    0.000    0.000    0.000    0.000 GenericList.py:13(ids)\n",
      "       13    0.000    0.000    0.000    0.000 stringsource:658(memoryview_check)\n",
      "        1    0.000    0.000    0.000    0.000 Kernel2D.pyx:20(__cinit__)\n",
      "        1    0.000    0.000    0.000    0.000 stringsource:121(__cinit__)\n",
      "        1    0.000    0.000    0.000    0.000 {method 'reshape' of 'numpy.ndarray' objects}\n",
      "       20    0.000    0.000    0.000    0.000 {method 'items' of 'dict' objects}\n",
      "       11    0.000    0.000    0.000    0.000 Kernel2D.pyx:114(translator)\n",
      "       10    0.000    0.000    0.000    0.000 Kernel2D.pyx:138(if_split)\n",
      "        1    0.000    0.000    0.000    0.000 stringsource:184(__getbuffer__)\n",
      "        1    0.000    0.000    0.000    0.000 stringsource:210(__dealloc__)\n",
      "        1    0.000    0.000    0.000    0.000 {method 'disable' of '_lsprof.Profiler' objects}\n",
      "\n",
      "\n"
     ]
    },
    {
     "data": {
      "text/plain": [
       "<pstats.Stats at 0x7f249db13a20>"
      ]
     },
     "execution_count": 9,
     "metadata": {},
     "output_type": "execute_result"
    }
   ],
   "source": [
    "import cProfile\n",
    "cProfile.runctx(\"sequence.new_rotation_2d_perp(np.ones(1, dtype=np.float64), interpolation=False)\",\n",
    "                globals(), locals(), \"Profile9.prof\")\n",
    "import pstats\n",
    "s = pstats.Stats(\"Profile9.prof\")\n",
    "s.strip_dirs().sort_stats(\"time\").print_stats()"
   ]
  },
  {
   "cell_type": "code",
   "execution_count": 23,
   "metadata": {
    "ExecuteTime": {
     "end_time": "2018-11-26T13:22:25.713774Z",
     "start_time": "2018-11-26T13:22:25.659282Z"
    }
   },
   "outputs": [
    {
     "name": "stdout",
     "output_type": "stream",
     "text": [
      "Mon Nov 26 14:21:39 2018    Profile9.prof\n",
      "\n",
      "         106233 function calls (106052 primitive calls) in 0.164 seconds\n",
      "\n",
      "   Ordered by: call count\n",
      "\n",
      "   ncalls  tottime  percall  cumtime  percall filename:lineno(function)\n",
      "    60000    0.005    0.000    0.005    0.000 Kernel2D.pyx:10(__pyx_fuse_1sum_arr)\n",
      "     9000    0.001    0.000    0.001    0.000 c_defs.pxd:7(d_square)\n",
      "     6000    0.014    0.000    0.019    0.000 Kernel2D.pyx:186(sum_line_over_pulse)\n",
      "     6000    0.001    0.000    0.001    0.000 Kernel2D.pyx:211(write_out)\n",
      "     4500    0.000    0.000    0.000    0.000 Kernel2D.pyx:88(interpolate_up)\n",
      "     4500    0.000    0.000    0.000    0.000 Kernel2D.pyx:101(interpolate_down)\n",
      "     3300    0.001    0.000    0.006    0.000 Kernel2D.pyx:177(inside_y_loop)\n",
      "     3300    0.004    0.000    0.005    0.000 Kernel2D.pyx:151(x_loop)\n",
      "1322/1301    0.000    0.000    0.001    0.000 {built-in method builtins.isinstance}\n",
      "     1140    0.000    0.000    0.000    0.000 {method 'append' of 'list' objects}\n",
      "      840    0.000    0.000    0.000    0.000 {built-in method builtins.len}\n",
      "      440    0.003    0.000    0.008    0.000 tokenize.py:487(_tokenize)\n",
      "      420    0.000    0.000    0.000    0.000 {built-in method __new__ of type object at 0x55da0de152c0}\n",
      "      420    0.000    0.000    0.001    0.000 <string>:1(__new__)\n",
      "      400    0.000    0.000    0.000    0.000 tokenize.py:225(add_whitespace)\n",
      "      380    0.002    0.000    0.002    0.000 {method 'match' of 're.Pattern' objects}\n",
      "      380    0.000    0.000    0.000    0.000 {method 'span' of 're.Match' objects}\n",
      "      380    0.000    0.000    0.002    0.000 tokenize.py:147(_compile)\n",
      "      380    0.000    0.000    0.002    0.000 re.py:232(compile)\n",
      "      380    0.001    0.000    0.002    0.000 re.py:271(_compile)\n",
      "      380    0.000    0.000    0.000    0.000 enum.py:619(value)\n",
      "      380    0.000    0.000    0.001    0.000 types.py:164(__get__)\n",
      "      240    0.000    0.000    0.000    0.000 {method 'isidentifier' of 'str' objects}\n",
      "   180/20    0.001    0.000    0.001    0.000 ast.py:64(_convert)\n",
      "       80    0.000    0.000    0.000    0.000 {method 'read' of '_io.BufferedReader' objects}\n",
      "       60    0.000    0.000    0.000    0.000 {method 'readline' of '_io.StringIO' objects}\n",
      "       60    0.000    0.000    0.000    0.000 {method 'startswith' of 'str' objects}\n",
      "       60    0.000    0.000    0.000    0.000 format.py:814(_read_bytes)\n",
      "       40    0.000    0.000    0.000    0.000 {built-in method posix.fspath}\n",
      "       40    0.000    0.000    0.000    0.000 {method 'join' of 'str' objects}\n",
      "       40    0.001    0.000    0.001    0.000 {method 'reduce' of 'numpy.ufunc' objects}\n",
      "       21    0.000    0.000    0.000    0.000 {built-in method _abc._abc_subclasscheck}\n",
      "       21    0.000    0.000    0.000    0.000 {built-in method builtins.issubclass}\n",
      "       21    0.000    0.000    0.000    0.000 SimSequence.py:34(get_files)\n",
      "       21    0.000    0.000    0.000    0.000 typing.py:707(__instancecheck__)\n",
      "       21    0.000    0.000    0.000    0.000 typing.py:710(__subclasscheck__)\n",
      "       21    0.000    0.000    0.000    0.000 abc.py:141(__subclasscheck__)\n",
      "       20    0.001    0.000    0.001    0.000 {method 'close' of '_io.BufferedReader' objects}\n",
      "       20    0.000    0.000    0.000    0.000 {method 'seek' of '_io.BufferedReader' objects}\n",
      "       20    0.105    0.005    0.105    0.005 {built-in method io.open}\n",
      "       20    0.001    0.000    0.001    0.000 {built-in method builtins.compile}\n",
      "       20    0.000    0.000    0.000    0.000 {built-in method builtins.getattr}\n",
      "       20    0.000    0.000    0.000    0.000 {built-in method builtins.hasattr}\n",
      "       20    0.000    0.000    0.000    0.000 {built-in method builtins.iter}\n",
      "       20    0.000    0.000    0.000    0.000 {built-in method builtins.min}\n",
      "       20    0.000    0.000    0.000    0.000 {built-in method builtins.sorted}\n",
      "       20    0.000    0.000    0.000    0.000 {method 'split' of 'str' objects}\n",
      "       20    0.000    0.000    0.000    0.000 {method 'strip' of 'str' objects}\n",
      "       20    0.000    0.000    0.000    0.000 {method 'endswith' of 'str' objects}\n",
      "       20    0.000    0.000    0.000    0.000 {method 'keys' of 'dict' objects}\n",
      "       20    0.000    0.000    0.000    0.000 {method 'items' of 'dict' objects}\n",
      "       20    0.000    0.000    0.000    0.000 {method 'decode' of 'bytes' objects}\n",
      "       20    0.000    0.000    0.000    0.000 {method 'startswith' of 'bytes' objects}\n",
      "       20    0.001    0.000    0.002    0.000 UniversalSingle.py:53(full_path)\n",
      "       20    0.000    0.000    0.131    0.007 UniversalSingle.py:82(open)\n",
      "       20    0.000    0.000    0.000    0.000 SimSequence.py:28(step_to_iter)\n",
      "       20    0.001    0.000    0.132    0.007 SimSequence.py:53(get_data)\n",
      "       20    0.000    0.000    0.000    0.000 GenericList.py:13(ids)\n",
      "       20    0.001    0.000    0.128    0.006 npyio.py:280(load)\n",
      "       20    0.000    0.000    0.000    0.000 format.py:179(_check_version)\n",
      "       20    0.000    0.000    0.000    0.000 format.py:209(read_magic)\n",
      "       20    0.001    0.000    0.012    0.001 format.py:439(_filter_header)\n",
      "       20    0.000    0.000    0.000    0.000 format.py:520(<listcomp>)\n",
      "       20    0.001    0.000    0.017    0.001 format.py:480(_read_array_header)\n",
      "       20    0.001    0.000    0.021    0.001 format.py:612(read_array)\n",
      "       20    0.000    0.000    0.002    0.000 utils.py:1070(safe_eval)\n",
      "       20    0.000    0.000    0.000    0.000 py3k.py:37(asstr)\n",
      "       20    0.000    0.000    0.000    0.000 py3k.py:42(isfileobj)\n",
      "       20    0.000    0.000    0.001    0.000 fromnumeric.py:64(_wrapreduction)\n",
      "       20    0.000    0.000    0.001    0.000 fromnumeric.py:2016(all)\n",
      "       20    0.003    0.000    0.003    0.000 {built-in method numpy.core.multiarray.fromfile}\n",
      "       20    0.000    0.000    0.129    0.006 <ipython-input-2-9cbc08e9535d>:4(open_file)\n",
      "       20    0.000    0.000    0.001    0.000 ast.py:30(parse)\n",
      "       20    0.000    0.000    0.002    0.000 ast.py:38(literal_eval)\n",
      "       20    0.000    0.000    0.000    0.000 {built-in method _struct.calcsize}\n",
      "       20    0.000    0.000    0.000    0.000 {built-in method _struct.unpack}\n",
      "       20    0.000    0.000    0.000    0.000 tokenize.py:219(__init__)\n",
      "       20    0.001    0.000    0.002    0.000 tokenize.py:238(untokenize)\n",
      "       20    0.000    0.000    0.002    0.000 tokenize.py:312(untokenize)\n",
      "       20    0.000    0.000    0.000    0.000 tokenize.py:662(generate_tokens)\n",
      "       20    0.000    0.000    0.000    0.000 posixpath.py:41(_get_sep)\n",
      "       20    0.000    0.000    0.000    0.000 posixpath.py:75(join)\n",
      "       20    0.000    0.000    0.000    0.000 posixpath.py:331(normpath)\n",
      "       20    0.000    0.000    0.000    0.000 <frozen importlib._bootstrap>:1009(_handle_fromlist)\n",
      "       13    0.000    0.000    0.000    0.000 stringsource:344(__cinit__)\n",
      "       13    0.000    0.000    0.000    0.000 stringsource:652(memoryview_cwrapper)\n",
      "       13    0.000    0.000    0.000    0.000 stringsource:371(__dealloc__)\n",
      "       13    0.000    0.000    0.000    0.000 stringsource:658(memoryview_check)\n",
      "       11    0.000    0.000    0.000    0.000 Kernel2D.pyx:114(translator)\n",
      "       10    0.000    0.000    0.031    0.003 {method 'rotate_slice' of 'calc_rotation.kernel.Kernel2D.Kernel2D' objects}\n",
      "       10    0.000    0.000    0.031    0.003 Kernel2D.pyx:222(rotate_slice (wrapper))\n",
      "       10    0.004    0.000    0.031    0.003 Kernel2D.pyx:222(rotate_slice)\n",
      "       10    0.000    0.000    0.000    0.000 Kernel2D.pyx:138(if_split)\n",
      "        9    0.000    0.000    0.000    0.000 Kernel2D.pyx:70(__set__)\n",
      "        1    0.000    0.000    0.164    0.164 {built-in method builtins.exec}\n",
      "        1    0.000    0.000    0.164    0.164 <string>:1(<module>)\n",
      "        1    0.000    0.000    0.000    0.000 Kernel2D.pyx:20(__cinit__)\n",
      "        1    0.000    0.000    0.000    0.000 stringsource:121(__cinit__)\n",
      "        1    0.000    0.000    0.000    0.000 stringsource:184(__getbuffer__)\n",
      "        1    0.000    0.000    0.000    0.000 stringsource:210(__dealloc__)\n",
      "        1    0.001    0.001    0.164    0.164 SimSequence.py:100(new_rotation_2d_perp)\n",
      "        1    0.000    0.000    0.000    0.000 numeric.py:156(ones)\n",
      "        1    0.000    0.000    0.000    0.000 {method 'reshape' of 'numpy.ndarray' objects}\n",
      "        1    0.000    0.000    0.000    0.000 {built-in method numpy.core.multiarray.copyto}\n",
      "        1    0.000    0.000    0.000    0.000 {built-in method numpy.core.multiarray.zeros}\n",
      "        1    0.000    0.000    0.000    0.000 {built-in method numpy.core.multiarray.empty}\n",
      "        1    0.000    0.000    0.000    0.000 {method 'disable' of '_lsprof.Profiler' objects}\n",
      "\n",
      "\n"
     ]
    },
    {
     "data": {
      "text/plain": [
       "<pstats.Stats at 0x7fe525654b38>"
      ]
     },
     "execution_count": 23,
     "metadata": {},
     "output_type": "execute_result"
    }
   ],
   "source": [
    "s.strip_dirs().sort_stats(\"call\").print_stats()"
   ]
  },
  {
   "cell_type": "code",
   "execution_count": 45,
   "metadata": {
    "ExecuteTime": {
     "end_time": "2018-11-26T12:59:58.024763Z",
     "start_time": "2018-11-26T12:57:46.496066Z"
    }
   },
   "outputs": [
    {
     "name": "stdout",
     "output_type": "stream",
     "text": [
      "Mon Nov 26 13:59:57 2018    Profile_int.prof\n",
      "\n",
      "         542009632 function calls (542009451 primitive calls) in 131.463 seconds\n",
      "\n",
      "   Ordered by: internal time\n",
      "\n",
      "   ncalls  tottime  percall  cumtime  percall filename:lineno(function)\n",
      "  5500000   81.612    0.000  115.682    0.000 Kernel2D.pyx:151(x_loop)\n",
      "255000000   15.930    0.000   15.930    0.000 c_defs.pxd:7(d_square)\n",
      "127500000    9.131    0.000    9.131    0.000 Kernel2D.pyx:88(interpolate_up)\n",
      "127500000    9.008    0.000    9.008    0.000 Kernel2D.pyx:101(interpolate_down)\n",
      "       20    6.389    0.319    6.389    0.319 {built-in method numpy.core.multiarray.fromfile}\n",
      "       10    5.100    0.510  124.844   12.484 Kernel2D.pyx:222(rotate_slice)\n",
      "  5500000    1.547    0.000  117.229    0.000 Kernel2D.pyx:177(inside_y_loop)\n",
      " 10000000    1.337    0.000    1.337    0.000 Kernel2D.pyx:211(write_out)\n",
      " 10000000    1.107    0.000    1.178    0.000 Kernel2D.pyx:186(sum_line_over_pulse)\n",
      "       20    0.132    0.007    0.132    0.007 {built-in method io.open}\n",
      "  1000000    0.070    0.000    0.070    0.000 Kernel2D.pyx:10(__pyx_fuse_1sum_arr)\n",
      "       80    0.039    0.000    0.039    0.000 {method 'read' of '_io.BufferedReader' objects}\n",
      "        1    0.023    0.023  131.463  131.463 SimSequence.py:100(new_rotation_2d_perp)\n",
      "      440    0.004    0.000    0.011    0.000 tokenize.py:487(_tokenize)\n",
      "      380    0.003    0.000    0.003    0.000 {method 'match' of 're.Pattern' objects}\n",
      "       20    0.002    0.000    0.003    0.000 UniversalSingle.py:53(full_path)\n",
      "       20    0.002    0.000    0.002    0.000 {method 'close' of '_io.BufferedReader' objects}\n",
      "       40    0.002    0.000    0.002    0.000 {method 'reduce' of 'numpy.ufunc' objects}\n",
      "       20    0.002    0.000    0.002    0.000 {built-in method builtins.compile}\n",
      "       20    0.002    0.000    0.016    0.001 format.py:439(_filter_header)\n",
      "       20    0.002    0.000    0.003    0.000 tokenize.py:238(untokenize)\n",
      "       20    0.002    0.000    6.595    0.330 SimSequence.py:53(get_data)\n",
      "      380    0.001    0.000    0.002    0.000 re.py:271(_compile)\n",
      "       20    0.001    0.000    6.589    0.329 npyio.py:280(load)\n",
      "       20    0.001    0.000    0.023    0.001 format.py:480(_read_array_header)\n",
      "       20    0.001    0.000    6.414    0.321 format.py:612(read_array)\n",
      "1322/1301    0.001    0.000    0.001    0.000 {built-in method builtins.isinstance}\n",
      "   180/20    0.001    0.000    0.001    0.000 ast.py:64(_convert)\n",
      "        1    0.001    0.001    0.001    0.001 {built-in method numpy.core.multiarray.zeros}\n",
      "      400    0.001    0.000    0.001    0.000 tokenize.py:225(add_whitespace)\n",
      "      380    0.001    0.000    0.003    0.000 tokenize.py:147(_compile)\n",
      "      380    0.001    0.000    0.001    0.000 types.py:164(__get__)\n",
      "      420    0.000    0.000    0.001    0.000 <string>:1(__new__)\n",
      "      420    0.000    0.000    0.000    0.000 {built-in method __new__ of type object at 0x556a599e62c0}\n",
      "       60    0.000    0.000    0.001    0.000 format.py:814(_read_bytes)\n",
      "       20    0.000    0.000    6.593    0.330 UniversalSingle.py:82(open)\n",
      "     1140    0.000    0.000    0.000    0.000 {method 'append' of 'list' objects}\n",
      "       20    0.000    0.000    0.001    0.000 posixpath.py:331(normpath)\n",
      "      380    0.000    0.000    0.003    0.000 re.py:232(compile)\n",
      "       20    0.000    0.000    0.002    0.000 fromnumeric.py:64(_wrapreduction)\n",
      "      840    0.000    0.000    0.000    0.000 {built-in method builtins.len}\n",
      "       20    0.000    0.000    0.001    0.000 posixpath.py:75(join)\n",
      "       20    0.000    0.000    6.589    0.329 <ipython-input-33-9cbc08e9535d>:4(open_file)\n",
      "       20    0.000    0.000    0.001    0.000 format.py:209(read_magic)\n",
      "       20    0.000    0.000    0.000    0.000 {built-in method builtins.hasattr}\n",
      "       20    0.000    0.000    0.003    0.000 ast.py:38(literal_eval)\n",
      "       20    0.000    0.000    0.003    0.000 utils.py:1070(safe_eval)\n",
      "      380    0.000    0.000    0.000    0.000 enum.py:619(value)\n",
      "      380    0.000    0.000    0.000    0.000 {method 'span' of 're.Match' objects}\n",
      "       20    0.000    0.000    0.002    0.000 fromnumeric.py:2016(all)\n",
      "       20    0.000    0.000    0.000    0.000 {built-in method builtins.sorted}\n",
      "        9    0.000    0.000    0.000    0.000 Kernel2D.pyx:70(__set__)\n",
      "       20    0.000    0.000    0.003    0.000 tokenize.py:312(untokenize)\n",
      "       20    0.000    0.000    0.000    0.000 {method 'seek' of '_io.BufferedReader' objects}\n",
      "       20    0.000    0.000    0.000    0.000 {built-in method builtins.min}\n",
      "       21    0.000    0.000    0.000    0.000 typing.py:707(__instancecheck__)\n",
      "       20    0.000    0.000    0.000    0.000 {method 'split' of 'str' objects}\n",
      "       60    0.000    0.000    0.000    0.000 {method 'readline' of '_io.StringIO' objects}\n",
      "      240    0.000    0.000    0.000    0.000 {method 'isidentifier' of 'str' objects}\n",
      "       20    0.000    0.000    0.000    0.000 {built-in method builtins.getattr}\n",
      "       13    0.000    0.000    0.000    0.000 stringsource:344(__cinit__)\n",
      "       21    0.000    0.000    0.000    0.000 {built-in method builtins.issubclass}\n",
      "       20    0.000    0.000    0.000    0.000 posixpath.py:41(_get_sep)\n",
      "       21    0.000    0.000    0.001    0.000 SimSequence.py:34(get_files)\n",
      "       20    0.000    0.000    0.000    0.000 {method 'decode' of 'bytes' objects}\n",
      "       21    0.000    0.000    0.000    0.000 typing.py:710(__subclasscheck__)\n",
      "       40    0.000    0.000    0.000    0.000 {method 'join' of 'str' objects}\n",
      "        1    0.000    0.000  131.463  131.463 {built-in method builtins.exec}\n",
      "       60    0.000    0.000    0.000    0.000 {method 'startswith' of 'str' objects}\n",
      "       20    0.000    0.000    0.000    0.000 tokenize.py:219(__init__)\n",
      "       21    0.000    0.000    0.000    0.000 {built-in method _abc._abc_subclasscheck}\n",
      "       20    0.000    0.000    0.000    0.000 {built-in method _struct.calcsize}\n",
      "       20    0.000    0.000    0.000    0.000 SimSequence.py:28(step_to_iter)\n",
      "       20    0.000    0.000    0.000    0.000 py3k.py:37(asstr)\n",
      "       20    0.000    0.000    0.000    0.000 {method 'startswith' of 'bytes' objects}\n",
      "       20    0.000    0.000    0.000    0.000 format.py:520(<listcomp>)\n",
      "       20    0.000    0.000    0.000    0.000 tokenize.py:662(generate_tokens)\n",
      "       13    0.000    0.000    0.000    0.000 stringsource:652(memoryview_cwrapper)\n",
      "       10    0.000    0.000  124.844   12.484 {method 'rotate_slice' of 'calc_rotation.kernel.Kernel2D.Kernel2D' objects}\n",
      "       20    0.000    0.000    0.000    0.000 py3k.py:42(isfileobj)\n",
      "       20    0.000    0.000    0.000    0.000 {built-in method _struct.unpack}\n",
      "       21    0.000    0.000    0.000    0.000 abc.py:141(__subclasscheck__)\n",
      "       20    0.000    0.000    0.000    0.000 <frozen importlib._bootstrap>:1009(_handle_fromlist)\n",
      "       20    0.000    0.000    0.000    0.000 format.py:179(_check_version)\n",
      "       20    0.000    0.000    0.002    0.000 ast.py:30(parse)\n",
      "       40    0.000    0.000    0.000    0.000 {built-in method posix.fspath}\n",
      "       20    0.000    0.000    0.000    0.000 {method 'strip' of 'str' objects}\n",
      "        1    0.000    0.000  131.463  131.463 <string>:1(<module>)\n",
      "       20    0.000    0.000    0.000    0.000 {method 'endswith' of 'str' objects}\n",
      "       20    0.000    0.000    0.000    0.000 {built-in method builtins.iter}\n",
      "        1    0.000    0.000    0.000    0.000 {built-in method numpy.core.multiarray.array}\n",
      "       10    0.000    0.000  124.844   12.484 Kernel2D.pyx:222(rotate_slice (wrapper))\n",
      "       20    0.000    0.000    0.000    0.000 GenericList.py:13(ids)\n",
      "       13    0.000    0.000    0.000    0.000 stringsource:658(memoryview_check)\n",
      "       20    0.000    0.000    0.000    0.000 {method 'keys' of 'dict' objects}\n",
      "       20    0.000    0.000    0.000    0.000 {method 'items' of 'dict' objects}\n",
      "        1    0.000    0.000    0.000    0.000 {method 'reshape' of 'numpy.ndarray' objects}\n",
      "       13    0.000    0.000    0.000    0.000 stringsource:371(__dealloc__)\n",
      "        1    0.000    0.000    0.000    0.000 stringsource:121(__cinit__)\n",
      "        1    0.000    0.000    0.000    0.000 Kernel2D.pyx:20(__cinit__)\n",
      "        1    0.000    0.000    0.000    0.000 numeric.py:433(asarray)\n",
      "       11    0.000    0.000    0.000    0.000 Kernel2D.pyx:114(translator)\n",
      "       10    0.000    0.000    0.000    0.000 Kernel2D.pyx:138(if_split)\n",
      "        1    0.000    0.000    0.000    0.000 stringsource:210(__dealloc__)\n",
      "        1    0.000    0.000    0.000    0.000 {method 'disable' of '_lsprof.Profiler' objects}\n",
      "        1    0.000    0.000    0.000    0.000 stringsource:184(__getbuffer__)\n",
      "\n",
      "\n"
     ]
    },
    {
     "data": {
      "text/plain": [
       "<pstats.Stats at 0x7f556a6db780>"
      ]
     },
     "execution_count": 45,
     "metadata": {},
     "output_type": "execute_result"
    }
   ],
   "source": [
    "import cProfile\n",
    "cProfile.runctx(\"sequence.new_rotation_2d_perp(np.asarray([1], dtype=np.float64), interpolation=True)\",\n",
    "                globals(), locals(), \"Profile_int.prof\")\n",
    "import pstats\n",
    "s = pstats.Stats(\"Profile_int.prof\")\n",
    "s.strip_dirs().sort_stats(\"time\").print_stats()"
   ]
  },
  {
   "cell_type": "code",
   "execution_count": null,
   "metadata": {},
   "outputs": [],
   "source": []
  }
 ],
 "metadata": {
  "kernelspec": {
   "display_name": "Python [conda env:fdrot]",
   "language": "python",
   "name": "conda-env-fdrot-py"
  },
  "language_info": {
   "codemirror_mode": {
    "name": "ipython",
    "version": 3
   },
   "file_extension": ".py",
   "mimetype": "text/x-python",
   "name": "python",
   "nbconvert_exporter": "python",
   "pygments_lexer": "ipython3",
   "version": "3.7.0"
  }
 },
 "nbformat": 4,
 "nbformat_minor": 2
}
