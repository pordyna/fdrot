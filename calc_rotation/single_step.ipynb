{
 "cells": [
  {
   "cell_type": "code",
   "execution_count": 2,
   "metadata": {
    "ExecuteTime": {
     "end_time": "2018-09-27T15:05:28.598785Z",
     "start_time": "2018-09-27T15:05:27.682202Z"
    }
   },
   "outputs": [],
   "source": [
    "%load_ext Cython"
   ]
  },
  {
   "cell_type": "code",
   "execution_count": 3,
   "metadata": {
    "ExecuteTime": {
     "end_time": "2018-09-27T15:05:28.678893Z",
     "start_time": "2018-09-27T15:05:28.601947Z"
    }
   },
   "outputs": [],
   "source": [
    "import numpy as np"
   ]
  },
  {
   "cell_type": "code",
   "execution_count": 4,
   "metadata": {
    "ExecuteTime": {
     "end_time": "2018-09-27T15:05:28.712612Z",
     "start_time": "2018-09-27T15:05:28.681383Z"
    }
   },
   "outputs": [],
   "source": [
    "# create some random data:\n",
    "# we want radial data to be of length \n",
    "r_len = 1000\n",
    "# and we want \n",
    "z_len = 300\n",
    "# different independend slices in z direction.\n",
    "\n",
    "dtype = np.float\n",
    "T = np.random.rand(r_len * z_len).astype(dtype).reshape(z_len, r_len)"
   ]
  },
  {
   "cell_type": "code",
   "execution_count": 5,
   "metadata": {
    "ExecuteTime": {
     "end_time": "2018-09-27T15:05:36.268143Z",
     "start_time": "2018-09-27T15:05:36.263534Z"
    }
   },
   "outputs": [],
   "source": [
    "triangle = np.zeros.rand(r_len * z_len).astype(dtype).reshape(z_len, r_len)\n"
   ]
  },
  {
   "cell_type": "code",
   "execution_count": null,
   "metadata": {
    "ExecuteTime": {
     "end_time": "2018-09-27T13:07:35.763984Z",
     "start_time": "2018-09-27T13:07:35.758857Z"
    }
   },
   "outputs": [],
   "source": [
    "# definie output\n",
    "\n",
    "#      z\n",
    "#  |------| \n",
    "#  |------| y\n",
    "#  |------|\n",
    "#\n",
    "\n",
    "output = np.zeros(r_len * z_len, dtype=dtype).reshape(r_len, z_len)"
   ]
  },
  {
   "cell_type": "code",
   "execution_count": null,
   "metadata": {
    "ExecuteTime": {
     "end_time": "2018-09-27T13:07:35.957328Z",
     "start_time": "2018-09-27T13:07:35.951748Z"
    }
   },
   "outputs": [],
   "source": [
    "# start with numpy and python\n",
    "for yy in range(r_len):\n",
    "    r_vec = np.arange( yy, r_len , 1) + 0.5\n",
    "    # + 0.5 intervall middle (dr)\n",
    "    # construct K_y\n",
    "    r_vec = r_vec**2\n",
    "    r_vec = r_vec - (yy)**2\n",
    "    r_vec = np.sqrt(r_vec)\n",
    "    # matrix * vector \n",
    "    out = np.dot(T[:, yy:],r_vec)\n",
    "    output[yy,:] = out "
   ]
  },
  {
   "cell_type": "code",
   "execution_count": null,
   "metadata": {
    "ExecuteTime": {
     "end_time": "2018-09-27T13:07:36.109633Z",
     "start_time": "2018-09-27T13:07:36.103212Z"
    }
   },
   "outputs": [],
   "source": [
    "output"
   ]
  },
  {
   "cell_type": "code",
   "execution_count": null,
   "metadata": {
    "ExecuteTime": {
     "end_time": "2018-09-27T13:07:36.284573Z",
     "start_time": "2018-09-27T13:07:36.277378Z"
    }
   },
   "outputs": [],
   "source": [
    "def rotation_np(input_data):\n",
    "    z_len, r_len = input_data.shape\n",
    "    # deifine output:\n",
    "    #\n",
    "    #      z\n",
    "    #  |------| \n",
    "    #  |------| y\n",
    "    #  |------|\n",
    "    #\n",
    "    output = np.zeros(r_len * z_len, dtype=dtype).reshape(r_len, z_len)\n",
    "    for yy in range(r_len):\n",
    "        r_vec = np.arange( yy, r_len , 1) + 0.5\n",
    "        # + 0.5 intervall middle (dr)\n",
    "        # construct K_y\n",
    "        r_vec = r_vec**2\n",
    "        r_vec = r_vec - (yy)**2\n",
    "        r_vec = np.sqrt(r_vec)**(-1)\n",
    "        print(r_vec)\n",
    "        # matrix * vector \n",
    "        out = np.dot(input_data[:, yy:],r_vec)\n",
    "        output[yy,:] = out \n",
    "    return output"
   ]
  },
  {
   "cell_type": "code",
   "execution_count": null,
   "metadata": {
    "ExecuteTime": {
     "end_time": "2018-09-27T13:07:36.417866Z",
     "start_time": "2018-09-27T13:07:36.402609Z"
    }
   },
   "outputs": [],
   "source": [
    "rotation_np(T)"
   ]
  },
  {
   "cell_type": "code",
   "execution_count": null,
   "metadata": {
    "ExecuteTime": {
     "end_time": "2018-09-27T13:10:21.151518Z",
     "start_time": "2018-09-27T13:10:13.282964Z"
    },
    "code_folding": [],
    "scrolled": true
   },
   "outputs": [],
   "source": [
    "%%cython\n",
    "cimport cython\n",
    "cimport numpy as np\n",
    "import  numpy as np\n",
    "from libc.math cimport sqrt\n",
    "from scipy.linalg.cython_blas cimport dgemv\n",
    "#@cython.boundscheck(False)\n",
    "#@cython.wraparound(False)\n",
    "\n",
    "cdef int _rotation(double [:,::1] input_data, double [:,::1] output_data,\n",
    "                  double [:] coeff):\n",
    "    cdef Py_ssize_t r_len, s_len\n",
    "    r_len = input_data.shape[1]\n",
    "    s_len = input_data.shape[0]\n",
    "    cdef Py_ssize_t r_len_down, r_len_up, r_start_up, r_start_down, loop_start\n",
    "    cdef bint input_is_odd \n",
    "    if r_len%2 ==0:\n",
    "        input_is_odd = False\n",
    "        r_len_down = r_len//2\n",
    "        r_len_up = r_len_down\n",
    "        r_start_up = r_len_down \n",
    "        r_start_down = 0\n",
    "        loop_start = 0\n",
    "    else:\n",
    "        input_is_odd = True\n",
    "        #include 0th line (middle) in the down part.\n",
    "        r_len_down = r_len // 2 + 1 # floor division\n",
    "        r_len_up = r_len // 2\n",
    "        r_start_up = r_len_down \n",
    "        r_start_down = 0 \n",
    "        loop_start = 1\n",
    "    cdef Py_ssize_t yy, ii\n",
    "\n",
    "    cdef char* trans = 't'\n",
    "    cdef int n = s_len\n",
    "    cdef Py_ssize_t  mm\n",
    "    cdef int m\n",
    "    cdef int lda = r_len\n",
    "    cdef double alpha = 1\n",
    "    cdef double beta = 0\n",
    "    cdef int incy = 1\n",
    "    cdef int incx_up = 1\n",
    "    cdef int incx_down = 1\n",
    "    cdef double* A_start_up\n",
    "    cdef double* A_start_down\n",
    "    cdef double* output_start_up\n",
    "    cdef double* output_start_down\n",
    "    cdef double* coeff_start_up = &coeff[0]\n",
    "    cdef double* coeff_start_down\n",
    "    cdef double val\n",
    "    for yy in range(loop_start, r_len_up):\n",
    "        print(yy)\n",
    "        mm = r_len_up - yy\n",
    "        print(mm)\n",
    "        coeff_start_down = &coeff[mm]\n",
    "        for ii in range (mm):\n",
    "            val = (sqrt((yy + ii + 0.5)**2 - yy**2))**(-1)\n",
    "            coeff[2*mm-1-ii] = val \n",
    "            coeff[ii] = val\n",
    "            print('val:{}'.format(val))\n",
    "        #\n",
    "        m = mm\n",
    "        print(r_start_up, r_len_down)\n",
    "        A_start_up = &input_data[0,r_start_up + yy]\n",
    "        A_start_down = &input_data[0,r_start_down]\n",
    "        output_start_down = &output_data[r_len - r_len_up+ yy,0]\n",
    "        print(r_len - r_len_up+ yy)\n",
    "        output_start_up = &output_data[yy,0]\n",
    "        dgemv(trans, &m, &n, &alpha, A_start_up, &lda, coeff_start_up,\n",
    "                         &incx_up, &beta, output_start_up, &incy)\n",
    "        dgemv(trans, &m, &n, &alpha, A_start_down, &lda, coeff_start_down,\n",
    "                        &incx_down , &beta, output_start_down, &incy)\n",
    "    if input_is_odd:\n",
    "        #calculate the middle line\n",
    "        m = r_len_down\n",
    "        for ii in range (m):\n",
    "            coeff[ii] = (sqrt(ii + 0.5)**2)**(-1)\n",
    "        A_start_down = &input_data[r_len_down,0]\n",
    "        output_start_down = &input_data[r_len_down,0]\n",
    "\n",
    "        dgemv(trans, &m, &n, &alpha, A_start_down, &lda, coeff_start_down,\n",
    "                         &incx_down, &beta, output_start_down, &incy)   \n",
    "    return 0\n",
    "\n",
    "def rotation(input_data):\n",
    "    try:\n",
    "        input_data.flags\n",
    "    except AttributeError:\n",
    "        print('input_data should be a numpy array!')\n",
    "        raise\n",
    "    if input_data.flags['F_CONTIGUOUS']:\n",
    "        print('input_data should be stored in a raw major, C contigous.')\n",
    "    elif not input_data.flags['C_CONTIGUOUS']:\n",
    "        print('input_data as to be a contigous array.')\n",
    "    \n",
    "    output = np.zeros(input_data.size, dtype=np.float64, order='C').reshape(\n",
    "                    input_data.shape[1], input_data.shape[0])\n",
    "    # coeff hast the length of the half of the distribution;\n",
    "    # +1 for the odd case (odd number of columns).\n",
    "    coeff = np.empty(input_data.shape[1], dtype=np.float64, order='C')\n",
    "    \n",
    "    cdef double [:,::1] input_data_view = input_data\n",
    "    cdef double [:,::1] output_view = output\n",
    "    cdef double [:] coeff_view = coeff\n",
    "    _rotation(input_data_view, output_view, coeff_view)\n",
    "    return output"
   ]
  },
  {
   "cell_type": "code",
   "execution_count": null,
   "metadata": {
    "ExecuteTime": {
     "end_time": "2018-09-27T13:07:37.013071Z",
     "start_time": "2018-09-27T13:07:37.008020Z"
    }
   },
   "outputs": [],
   "source": [
    "np.set_printoptions(threshold=200)"
   ]
  },
  {
   "cell_type": "code",
   "execution_count": null,
   "metadata": {
    "ExecuteTime": {
     "end_time": "2018-09-27T13:10:29.418661Z",
     "start_time": "2018-09-27T13:10:29.398839Z"
    }
   },
   "outputs": [],
   "source": [
    "rotation(T) "
   ]
  },
  {
   "cell_type": "code",
   "execution_count": null,
   "metadata": {
    "ExecuteTime": {
     "end_time": "2018-09-27T13:11:17.241617Z",
     "start_time": "2018-09-27T13:11:17.221132Z"
    }
   },
   "outputs": [],
   "source": [
    "rotation_np(T[:,4::-1])[::1,:]"
   ]
  },
  {
   "cell_type": "code",
   "execution_count": null,
   "metadata": {
    "ExecuteTime": {
     "end_time": "2018-09-27T13:08:09.427685Z",
     "start_time": "2018-09-27T13:08:09.412984Z"
    }
   },
   "outputs": [],
   "source": [
    "rotation_np(T[:,5:])"
   ]
  },
  {
   "cell_type": "code",
   "execution_count": null,
   "metadata": {
    "ExecuteTime": {
     "end_time": "2018-09-27T13:07:39.757296Z",
     "start_time": "2018-09-27T13:07:39.748903Z"
    }
   },
   "outputs": [],
   "source": [
    "T"
   ]
  },
  {
   "cell_type": "code",
   "execution_count": null,
   "metadata": {
    "ExecuteTime": {
     "end_time": "2018-09-27T13:06:58.029947Z",
     "start_time": "2018-09-27T13:06:58.021217Z"
    }
   },
   "outputs": [],
   "source": [
    "T[:,1::-1]"
   ]
  },
  {
   "cell_type": "code",
   "execution_count": null,
   "metadata": {},
   "outputs": [],
   "source": []
  },
  {
   "cell_type": "code",
   "execution_count": null,
   "metadata": {},
   "outputs": [],
   "source": []
  },
  {
   "cell_type": "code",
   "execution_count": null,
   "metadata": {},
   "outputs": [],
   "source": []
  }
 ],
 "metadata": {
  "kernelspec": {
   "display_name": "Python 3",
   "language": "python",
   "name": "python3"
  },
  "language_info": {
   "codemirror_mode": {
    "name": "ipython",
    "version": 3
   },
   "file_extension": ".py",
   "mimetype": "text/x-python",
   "name": "python",
   "nbconvert_exporter": "python",
   "pygments_lexer": "ipython3",
   "version": "3.6.6"
  }
 },
 "nbformat": 4,
 "nbformat_minor": 2
}
