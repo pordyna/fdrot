{
 "cells": [
  {
   "cell_type": "code",
   "execution_count": 1,
   "metadata": {
    "ExecuteTime": {
     "end_time": "2018-09-13T14:16:21.490099Z",
     "start_time": "2018-09-13T14:16:20.547164Z"
    }
   },
   "outputs": [],
   "source": [
    "%load_ext Cython"
   ]
  },
  {
   "cell_type": "code",
   "execution_count": 2,
   "metadata": {
    "ExecuteTime": {
     "end_time": "2018-09-13T14:16:35.298842Z",
     "start_time": "2018-09-13T14:16:35.153624Z"
    }
   },
   "outputs": [],
   "source": [
    "import numpy as np"
   ]
  },
  {
   "cell_type": "code",
   "execution_count": 11,
   "metadata": {
    "ExecuteTime": {
     "end_time": "2018-09-13T14:51:38.220248Z",
     "start_time": "2018-09-13T14:51:38.213394Z"
    }
   },
   "outputs": [],
   "source": [
    "# create some random data:\n",
    "# we want radial data to be of length \n",
    "r_len = 3\n",
    "# and we want \n",
    "z_len = 2\n",
    "# different independend slices in z direction.\n",
    "\n",
    "dtype = np.float\n",
    "T = np.random.rand(r_len * z_len).astype(dtype).reshape(z_len, r_len)"
   ]
  },
  {
   "cell_type": "code",
   "execution_count": 12,
   "metadata": {
    "ExecuteTime": {
     "end_time": "2018-09-13T14:51:44.630482Z",
     "start_time": "2018-09-13T14:51:44.617907Z"
    }
   },
   "outputs": [
    {
     "data": {
      "text/plain": [
       "array([[0.9955459 , 0.41379666, 0.02904549],\n",
       "       [0.38372506, 0.21348211, 0.37170236]])"
      ]
     },
     "execution_count": 12,
     "metadata": {},
     "output_type": "execute_result"
    }
   ],
   "source": [
    "T"
   ]
  },
  {
   "cell_type": "code",
   "execution_count": 13,
   "metadata": {
    "ExecuteTime": {
     "end_time": "2018-09-13T14:55:19.996453Z",
     "start_time": "2018-09-13T14:55:19.990840Z"
    }
   },
   "outputs": [],
   "source": [
    "# definie output\n",
    "\n",
    "#      z\n",
    "#  |------| \n",
    "#  |------| y\n",
    "#  |------|\n",
    "#\n",
    "\n",
    "output = np.zeros(r_len * z_len, dtype=dtype).reshape(r_len, z_len)"
   ]
  },
  {
   "cell_type": "code",
   "execution_count": 42,
   "metadata": {
    "ExecuteTime": {
     "end_time": "2018-09-13T15:22:12.285555Z",
     "start_time": "2018-09-13T15:22:12.273661Z"
    }
   },
   "outputs": [
    {
     "name": "stdout",
     "output_type": "stream",
     "text": [
      "3\n",
      "[]\n",
      "[]\n",
      "[]\n",
      "2\n",
      "[]\n",
      "[]\n",
      "[]\n",
      "1\n",
      "[2.5]\n",
      "[6.25]\n",
      "[4.]\n",
      "0\n",
      "[1.5 2.5]\n",
      "[2.25 6.25]\n",
      "[2. 6.]\n"
     ]
    }
   ],
   "source": [
    "# start with numpy and python\n",
    "for yy in range(r_len,-1,-1):\n",
    "    k_vec = np.arange(yy+1, r_len) + 0.5\n",
    "    print(yy)\n",
    "    print(k_vec)\n",
    "    k_vec = k_vec**2\n",
    "    print(k_vec)\n",
    "    k_vec = k_vec - (yy+0.5)**2\n",
    "    print(k_vec)\n",
    "    #k_vec = np.sqrt(k_vec)\n",
    "    #out = np.dot(T[:,],k_vec)\n",
    "    #output[yy,:] = out "
   ]
  },
  {
   "cell_type": "code",
   "execution_count": 26,
   "metadata": {
    "ExecuteTime": {
     "end_time": "2018-09-13T15:11:57.507448Z",
     "start_time": "2018-09-13T15:11:57.502012Z"
    }
   },
   "outputs": [],
   "source": [
    "np.arange?"
   ]
  },
  {
   "cell_type": "code",
   "execution_count": null,
   "metadata": {},
   "outputs": [],
   "source": []
  }
 ],
 "metadata": {
  "kernelspec": {
   "display_name": "Python 3",
   "language": "python",
   "name": "python3"
  },
  "language_info": {
   "codemirror_mode": {
    "name": "ipython",
    "version": 3
   },
   "file_extension": ".py",
   "mimetype": "text/x-python",
   "name": "python",
   "nbconvert_exporter": "python",
   "pygments_lexer": "ipython3",
   "version": "3.6.6"
  }
 },
 "nbformat": 4,
 "nbformat_minor": 2
}
