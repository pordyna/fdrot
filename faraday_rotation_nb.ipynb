{
 "cells": [
  {
   "cell_type": "code",
   "execution_count": 33,
   "metadata": {
    "ExecuteTime": {
     "end_time": "2018-08-24T14:29:11.646530Z",
     "start_time": "2018-08-24T14:29:11.642222Z"
    }
   },
   "outputs": [],
   "source": [
    "import numpy as np\n",
    "import matplotlib as mpl\n",
    "import matplotlib.pyplot as plt\n",
    "from  matplotlib import ticker\n",
    "import seaborn as sns\n",
    "import pickle"
   ]
  },
  {
   "cell_type": "code",
   "execution_count": 34,
   "metadata": {
    "ExecuteTime": {
     "end_time": "2018-08-24T14:29:11.831546Z",
     "start_time": "2018-08-24T14:29:11.828260Z"
    }
   },
   "outputs": [],
   "source": [
    "# ! pip install --user seaborn"
   ]
  },
  {
   "cell_type": "code",
   "execution_count": 35,
   "metadata": {
    "ExecuteTime": {
     "end_time": "2018-08-24T14:29:12.003960Z",
     "start_time": "2018-08-24T14:29:11.999794Z"
    }
   },
   "outputs": [],
   "source": [
    "from faraday_rotation import Target\n",
    "from faraday_rotation import Simulation\n",
    "from faraday_rotation import Configuration\n",
    "from faraday_rotation import Detection"
   ]
  },
  {
   "cell_type": "markdown",
   "metadata": {},
   "source": [
    "# Introduction\n",
    "This notebook can be used for testing various experimental setups in an x-ray polarimetry experiment using Faraday rotation.\n",
    "\n",
    "In such an experiment a previously linearly polarized beam travels through an optically active sample.\n",
    "Due to the circular birefringence of the material the original polarization changes after passing through the sample. \n",
    "The change in the polarization direction can than be obtained, by placing an analyzer in front of the detector and comparing with a reference measurement (no analyzer). This can be used to obtain information about the structure of the magnetic fields in a plasma (as soon as the electron density is already known), since the Faraday rotation effect in plasma depends on the magnetic field: \n",
    "\n",
    "$$ \\phi = \\frac{e_o}{2 c m_e}\\int_S  \\frac{n_e}{n_c} \\mathbf{B} \\cdot \\mathbf{\\hat{k}} \\ \\mathrm{d}s % Factor is missing$$ \n",
    "\n",
    "$n_e$ - electron density, $\\mathbf{B}$ - B-field, $S$ - x-ray propagation path , $\\phi$ - rotation angle\n",
    "\n",
    "$n_c(\\lambda) = m_e\\varepsilon_0(\\frac{2\\pi c}{e \\lambda})^2$ -electron critical density"
   ]
  },
  {
   "cell_type": "markdown",
   "metadata": {},
   "source": [
    "The rotation can be calculated, by integrating over the simulation output data, but this script uses an already calculated rotation. It can be provided as a text file or a numpy binary file (*.npy). "
   ]
  },
  {
   "cell_type": "markdown",
   "metadata": {},
   "source": [
    "# Setup\n",
    "## Target:\n",
    "At first some parameters regarding the simulation and the target (grid size, target position, target transmission) have to be set:"
   ]
  },
  {
   "cell_type": "code",
   "execution_count": 36,
   "metadata": {
    "ExecuteTime": {
     "end_time": "2018-08-24T14:29:12.640495Z",
     "start_time": "2018-08-24T14:29:12.636219Z"
    }
   },
   "outputs": [],
   "source": [
    "# target settings:\n",
    "target_settings = {\n",
    "    'trans': 0.72 # target transmission\n",
    "}"
   ]
  },
  {
   "cell_type": "code",
   "execution_count": 37,
   "metadata": {
    "ExecuteTime": {
     "end_time": "2018-08-24T14:29:12.802039Z",
     "start_time": "2018-08-24T14:29:12.796251Z"
    }
   },
   "outputs": [],
   "source": [
    "# simulation settings:\n",
    "simulation_settings = {\n",
    "    'ta_x_s': 0,  # start position in x direction, in micron\n",
    "    'ta_x_e': 7.2,  # end position in x direction, in micron\n",
    "    'ta_y_s': -13.5,  # start in y direction, in micron\n",
    "    'ta_y_e': 13.5,  # end in y direction, in micron\n",
    "    'm': 1801,  # Nx: grid number in x direction\n",
    "    'n': 6040,  # Ny: grid number if y direction, MUST be an even number\n",
    "    'energy': 6.457  # Photon energy in keV used while calculating rotation.\n",
    "}\n",
    "\n",
    "simulation = Simulation(Target(**target_settings), **simulation_settings)"
   ]
  },
  {
   "cell_type": "markdown",
   "metadata": {},
   "source": [
    "## Experimental setup:\n",
    "Now some parameters for the synthetic experiment have to be chosen.\n",
    "\n",
    "Further explanation for some of the variables:\n",
    "\n",
    "- The analyzer position (`an_position`) is defined as its variation from the position providing the maximal extinction. That means, when `an_position` is set to zero, the transmission axis is at an $\\frac{\\pi}{2}$ angle to the primary beam polarization direction. (See the graphic above.)\n",
    "\n",
    "- Polarization impurity (`an_extinction`) is the percentage of the photons remaining polarized perpendicularly to the main polarization of the incoming beam.  \n",
    "- `det_beam_width` is the beam width at the detector. \n",
    "- Magnification (`m`) is the ratio of the target projection at the detector to the actual target size. Some exemplary values for different CLRs setups and targets:\n",
    "<table>\n",
    "\t<tr>\n",
    "    \t<th>target type</th>\n",
    "        <th>setup</th>\n",
    "        <th>magnification</th>\n",
    "    </tr>\n",
    "</table> \n"
   ]
  },
  {
   "cell_type": "code",
   "execution_count": 38,
   "metadata": {
    "ExecuteTime": {
     "end_time": "2018-08-24T14:29:13.130995Z",
     "start_time": "2018-08-24T14:29:13.123129Z"
    }
   },
   "outputs": [],
   "source": [
    "# optical setup:\n",
    "\n",
    "#Transmission of all channelcuts including spectral bandwidth.\n",
    "trans_channel = 0.43*0.6/0.8 # What's the formula? Where does it come from?\n",
    "\n",
    "config_settings = {\n",
    "    'an_position': -10, # analyzer position (mrad)\n",
    "    'impurity': 1e-5,  # polarization impurity (1 = 100%)\n",
    "    'an_extinction': 2e-7,  # analyzer extinction (1 = 100%)\n",
    "    'det_obs_energy': 6.457, # observation energy in keV\n",
    "    'det_trans_channel': trans_channel, # as above\n",
    "    'det_pixel_size': 13,  # pixel size in micrometer (detector)\n",
    "    'det_beam_width': 320,  # beam_width in micrometer 320\n",
    "    'n_0': 1e12,  # initial number of photons\n",
    "    'm': 30,  # magnification\n",
    "    'trans_telescope': 1  # Transmission of CRLs due to beam size\n",
    "        # mismatch (asymmetry).\n",
    "}\n",
    "\n",
    "config = Configuration(**config_settings)"
   ]
  },
  {
   "cell_type": "markdown",
   "metadata": {},
   "source": [
    "## Loading the rotation data.\n",
    "From a text file (with `genfromtext` from `numpy`):"
   ]
  },
  {
   "cell_type": "code",
   "execution_count": 39,
   "metadata": {
    "ExecuteTime": {
     "end_time": "2018-08-24T14:29:13.478085Z",
     "start_time": "2018-08-24T14:29:13.470023Z"
    }
   },
   "outputs": [],
   "source": [
    "#load simulation data:\n",
    "#path_to_file = '/home/pawel/Work/TEAM/fwt/members/hs5955/Faraday Rotation/MEC_Ti/Rotation_16.dat'\n",
    "#simulation.load_data(path=path_to_file)"
   ]
  },
  {
   "cell_type": "markdown",
   "metadata": {},
   "source": [
    "It can be saved as a binary file,"
   ]
  },
  {
   "cell_type": "code",
   "execution_count": 40,
   "metadata": {
    "ExecuteTime": {
     "end_time": "2018-08-24T14:29:13.798777Z",
     "start_time": "2018-08-24T14:29:13.792779Z"
    }
   },
   "outputs": [],
   "source": [
    "# uncomment & execute for saving.\n",
    "#np.save('sim', simulation.data)"
   ]
  },
  {
   "cell_type": "code",
   "execution_count": 41,
   "metadata": {
    "ExecuteTime": {
     "end_time": "2018-08-24T14:29:13.959977Z",
     "start_time": "2018-08-24T14:29:13.956400Z"
    }
   },
   "outputs": [],
   "source": [
    "# Maybe write as an hpy5 file in the openPMD format.\n",
    "# A way of a nice integration with the notebook for calculating rotation."
   ]
  },
  {
   "cell_type": "markdown",
   "metadata": {
    "ExecuteTime": {
     "end_time": "2018-08-02T11:30:41.900313Z",
     "start_time": "2018-08-02T11:30:41.893278Z"
    }
   },
   "source": [
    "or loaded from it."
   ]
  },
  {
   "cell_type": "code",
   "execution_count": 42,
   "metadata": {
    "ExecuteTime": {
     "end_time": "2018-08-24T14:29:14.373043Z",
     "start_time": "2018-08-24T14:29:14.318996Z"
    }
   },
   "outputs": [],
   "source": [
    "simulation.data = np.load('sim.npy')"
   ]
  },
  {
   "cell_type": "markdown",
   "metadata": {},
   "source": [
    "# Experiment\n",
    "With all the parameters set up, the experiment can now be simulated. "
   ]
  },
  {
   "cell_type": "code",
   "execution_count": 43,
   "metadata": {
    "ExecuteTime": {
     "end_time": "2018-08-24T14:29:14.685516Z",
     "start_time": "2018-08-24T14:29:14.672971Z"
    },
    "scrolled": true
   },
   "outputs": [],
   "source": [
    "experiment = Detection(config, simulation)"
   ]
  },
  {
   "cell_type": "markdown",
   "metadata": {},
   "source": [
    "Above, a separate observation energy `det_obs_energy`, could be set. \n",
    "The predicted values of the Faraday rotation where calculated for a given photon-energy of the probing beam.\n",
    "The rotation is proportional to the the wave length squared, so the effect can be easily scaled. In the next line the data is fitted to the new observation energy. "
   ]
  },
  {
   "cell_type": "code",
   "execution_count": 44,
   "metadata": {
    "ExecuteTime": {
     "end_time": "2018-08-24T14:29:15.145718Z",
     "start_time": "2018-08-24T14:29:15.034158Z"
    }
   },
   "outputs": [],
   "source": [
    "experiment.calc_rotation()"
   ]
  },
  {
   "cell_type": "markdown",
   "metadata": {
    "ExecuteTime": {
     "end_time": "2018-08-02T11:54:28.398432Z",
     "start_time": "2018-08-02T11:54:28.356831Z"
    }
   },
   "source": [
    "The next line creates a detector of the size of the target projection with a spatial resolution determined by the given magnification and pixel size. "
   ]
  },
  {
   "cell_type": "code",
   "execution_count": 45,
   "metadata": {
    "ExecuteTime": {
     "end_time": "2018-08-24T14:29:15.377984Z",
     "start_time": "2018-08-24T14:29:15.374329Z"
    }
   },
   "outputs": [],
   "source": [
    "experiment.calc_det_shape()"
   ]
  },
  {
   "cell_type": "markdown",
   "metadata": {
    "ExecuteTime": {
     "end_time": "2018-08-02T12:37:55.010669Z",
     "start_time": "2018-08-02T12:37:55.005502Z"
    }
   },
   "source": [
    "Calculating the transmission through the analyzer for every cell. The analyzer extinction and the polarization impurity are taken into consideration. The obtained intensity profile is then scaled to the detector size and resolution. "
   ]
  },
  {
   "cell_type": "code",
   "execution_count": 46,
   "metadata": {
    "ExecuteTime": {
     "end_time": "2018-08-24T14:29:16.167716Z",
     "start_time": "2018-08-24T14:29:15.714567Z"
    },
    "scrolled": true
   },
   "outputs": [],
   "source": [
    "experiment.emulate_intensity()"
   ]
  },
  {
   "cell_type": "markdown",
   "metadata": {},
   "source": [
    "The amount of photons on the axis hast to be estimated. It has been previously calculated for a specific CRL (which?) configuration. Now it's rescaled for the chosen initial number of photons `n_o` and the pixel size `det_pixel_size`.\n",
    "\n",
    "If desired, a different value, from a new calculation, can be specified here. Use `?` for more details (uncomment & execute the following line of code):"
   ]
  },
  {
   "cell_type": "code",
   "execution_count": 47,
   "metadata": {
    "ExecuteTime": {
     "end_time": "2018-08-24T14:29:16.173015Z",
     "start_time": "2018-08-24T14:29:16.170062Z"
    }
   },
   "outputs": [],
   "source": [
    "# Detection.calc_ph_per_px_on_axis?"
   ]
  },
  {
   "cell_type": "code",
   "execution_count": 48,
   "metadata": {
    "ExecuteTime": {
     "end_time": "2018-08-24T14:29:16.258501Z",
     "start_time": "2018-08-24T14:29:16.247047Z"
    }
   },
   "outputs": [
    {
     "data": {
      "text/plain": [
       "160000000.0"
      ]
     },
     "execution_count": 48,
     "metadata": {},
     "output_type": "execute_result"
    }
   ],
   "source": [
    "experiment.cfg.calc_ph_per_px_on_axis()"
   ]
  },
  {
   "cell_type": "markdown",
   "metadata": {
    "ExecuteTime": {
     "end_time": "2018-08-02T12:51:25.931341Z",
     "start_time": "2018-08-02T12:51:25.902235Z"
    }
   },
   "source": [
    "Generating beam profile. It's Gaussian with the standard deviation squared equal to the beam width over the pixel size. "
   ]
  },
  {
   "cell_type": "code",
   "execution_count": 49,
   "metadata": {
    "ExecuteTime": {
     "end_time": "2018-08-24T14:29:16.611844Z",
     "start_time": "2018-08-24T14:29:16.604572Z"
    }
   },
   "outputs": [],
   "source": [
    "experiment.calc_beam_profile(x_y_ratio=1)"
   ]
  },
  {
   "cell_type": "markdown",
   "metadata": {},
   "source": [
    "Finally the intensity changes due to passing through the polarizer are applied to the beam profile."
   ]
  },
  {
   "cell_type": "code",
   "execution_count": 50,
   "metadata": {
    "ExecuteTime": {
     "end_time": "2018-08-24T14:29:16.979382Z",
     "start_time": "2018-08-24T14:29:16.975320Z"
    }
   },
   "outputs": [],
   "source": [
    "experiment.ideal_detector = experiment.beam_profile*experiment.intensity_px"
   ]
  },
  {
   "cell_type": "markdown",
   "metadata": {
    "ExecuteTime": {
     "end_time": "2018-08-02T13:00:43.264837Z",
     "start_time": "2018-08-02T13:00:43.260176Z"
    }
   },
   "source": [
    "### Noise and noise accumulation."
   ]
  },
  {
   "cell_type": "markdown",
   "metadata": {},
   "source": [
    "For more realistic output some noise is added. To make the data usable again, it is possible to generate images with a different random noise and accumulate them. This can help with estimating, how many single measurements will be needed. "
   ]
  },
  {
   "cell_type": "code",
   "execution_count": 51,
   "metadata": {
    "ExecuteTime": {
     "end_time": "2018-08-24T14:29:17.528100Z",
     "start_time": "2018-08-24T14:29:17.523840Z"
    }
   },
   "outputs": [],
   "source": [
    "# A noisy image without accumulation. For comparison. \n",
    "exp_with_noise = experiment.add_noise(accumulation=1)"
   ]
  },
  {
   "cell_type": "code",
   "execution_count": 52,
   "metadata": {
    "ExecuteTime": {
     "end_time": "2018-08-24T14:29:17.705354Z",
     "start_time": "2018-08-24T14:29:17.698537Z"
    }
   },
   "outputs": [],
   "source": [
    "# This generates an image integrated over 30 noisy images.\n",
    "exp_noise_acc = experiment.add_noise(accumulation = 30) "
   ]
  },
  {
   "cell_type": "markdown",
   "metadata": {},
   "source": [
    "The same thing can be done for the reference image. "
   ]
  },
  {
   "cell_type": "code",
   "execution_count": 53,
   "metadata": {
    "ExecuteTime": {
     "end_time": "2018-08-24T14:29:18.076469Z",
     "start_time": "2018-08-24T14:29:18.069537Z"
    }
   },
   "outputs": [],
   "source": [
    "base_noise_acc = experiment.add_noise(accumulation=30, image=experiment.beam_profile)"
   ]
  },
  {
   "cell_type": "code",
   "execution_count": 54,
   "metadata": {
    "ExecuteTime": {
     "end_time": "2018-08-24T14:29:18.233571Z",
     "start_time": "2018-08-24T14:29:18.227147Z"
    }
   },
   "outputs": [
    {
     "data": {
      "text/plain": [
       "array([], dtype=int32)"
      ]
     },
     "execution_count": 54,
     "metadata": {},
     "output_type": "execute_result"
    }
   ],
   "source": [
    "base_noise_acc[base_noise_acc==0]"
   ]
  },
  {
   "cell_type": "markdown",
   "metadata": {
    "ExecuteTime": {
     "end_time": "2018-08-02T13:13:41.315201Z",
     "start_time": "2018-08-02T13:13:41.312086Z"
    }
   },
   "source": [
    "### Reobtaining the Faraday rotation.\n",
    "\n",
    "A the end, the rotation can be obtained, pixel wise, from the generated image, by reversing the previous calculation. "
   ]
  },
  {
   "cell_type": "code",
   "execution_count": 55,
   "metadata": {
    "ExecuteTime": {
     "end_time": "2018-08-24T14:29:18.587349Z",
     "start_time": "2018-08-24T14:29:18.581662Z"
    }
   },
   "outputs": [],
   "source": [
    "rot = experiment.reobtain_rotation(exp_noise_acc, base_noise_acc)"
   ]
  },
  {
   "cell_type": "code",
   "execution_count": 56,
   "metadata": {
    "ExecuteTime": {
     "end_time": "2018-08-24T14:29:18.794131Z",
     "start_time": "2018-08-24T14:29:18.785576Z"
    }
   },
   "outputs": [
    {
     "data": {
      "text/plain": [
       "array([[ 0.10170202,  0.01365601,  0.02859809, ..., -0.06890866,\n",
       "        -0.00796658, -0.0346238 ],\n",
       "       [ 0.02684549, -0.18390768,  0.02075628, ...,  0.01921134,\n",
       "         0.00810643, -0.03468181],\n",
       "       [ 0.00253903,  0.08585774,  0.10100871, ..., -0.11368509,\n",
       "         0.00261076, -0.11013356],\n",
       "       ...,\n",
       "       [-0.00686211, -0.01624675, -0.06429902, ..., -0.05598272,\n",
       "         0.0386538 , -0.07666589],\n",
       "       [-0.07241652,  0.00555867, -0.0805784 , ...,  0.04120424,\n",
       "        -0.07165859, -0.09939933],\n",
       "       [-0.2771457 , -0.07171109, -0.03545685, ...,  0.0021963 ,\n",
       "        -0.04688308,  0.00040865]])"
      ]
     },
     "execution_count": 56,
     "metadata": {},
     "output_type": "execute_result"
    }
   ],
   "source": [
    "rot"
   ]
  },
  {
   "cell_type": "markdown",
   "metadata": {},
   "source": [
    "## Outcome\n",
    "### Plots"
   ]
  },
  {
   "cell_type": "code",
   "execution_count": 57,
   "metadata": {
    "ExecuteTime": {
     "end_time": "2018-08-24T14:29:19.745945Z",
     "start_time": "2018-08-24T14:29:19.649875Z"
    }
   },
   "outputs": [],
   "source": [
    "%matplotlib inline"
   ]
  },
  {
   "cell_type": "code",
   "execution_count": 58,
   "metadata": {
    "ExecuteTime": {
     "end_time": "2018-08-24T14:29:20.094562Z",
     "start_time": "2018-08-24T14:29:20.065129Z"
    }
   },
   "outputs": [],
   "source": [
    "# generate matplotlib cmaps with seaborn:\n",
    "cmap_rotation_all = sns.diverging_palette(240, 10, s=85, l=30, n=256 , center = 'light', as_cmap=True)\n",
    "cmap_rotation_extrema = sns.diverging_palette(240, 10, s=85, l=30, n=256 , sep=60, center = 'light', as_cmap=True)\n",
    "cmap_beam_profile = sns.cubehelix_palette(256, start=0.5, rot=-0.6, dark=0.15, light=0.9, reverse=True, as_cmap=True)"
   ]
  },
  {
   "cell_type": "code",
   "execution_count": 59,
   "metadata": {
    "ExecuteTime": {
     "end_time": "2018-08-24T14:29:21.037286Z",
     "start_time": "2018-08-24T14:29:21.019791Z"
    },
    "code_folding": []
   },
   "outputs": [],
   "source": [
    "def plot_rot(cmap, figsize, rotation, intensity_px, re_rot):\n",
    "    rot_fig, axis = plt.subplots(1, 3, figsize=figsize)\n",
    "    ax_rot_sim, ax_rot_sim_px, ax_rot_exp = axis\n",
    "\n",
    "    ax_rot_sim.set_title('Simulated rotation')\n",
    "    ax_rot_sim_px.set_title('Analyzer intensity profile')\n",
    "    ax_rot_exp.set_title('Reobtained rotation')\n",
    "\n",
    "    # Image boundaries, used for correct ticks labeling:\n",
    "    edges = (experiment.sim.ta_x_s, experiment.sim.ta_x_e,\n",
    "             experiment.sim.ta_y_s, experiment.sim.ta_y_e)\n",
    "    \n",
    "    v_max = max([abs(np.min(rotation)), abs(np.min(re_rot)),\n",
    "                 abs(np.max(rotation)), abs(np.max(re_rot))])\n",
    "    norm = mpl.colors.Normalize(vmin=-v_max, vmax=v_max)\n",
    "    \n",
    "    ax_rot_sim.imshow(rotation, extent=edges, cmap=cmap, norm=norm)\n",
    "    ax_rot_sim_px.imshow(intensity_px, extent=edges, cmap=cmap)\n",
    "    ax_rot_exp.imshow(re_rot, extent=edges, cmap=cmap, norm=norm)\n",
    "    \n",
    "    c_bars = [None] * 3\n",
    "    c_bars[0] = rot_fig.colorbar(axis[0].images[0], ax = axis[0])\n",
    "    c_bars[1] = rot_fig.colorbar(axis[1].images[0], ax = axis[1], format=ticker.StrMethodFormatter('{x:.2e}'))\n",
    "    c_bars[2] = rot_fig.colorbar(axis[2].images[0], ax = axis[2])\n",
    "\n",
    "    c_bars[0].ax.set_title('[mrad]')\n",
    "    #c_bars[1].ax.set_title('[mrad]')\n",
    "    c_bars[2].ax.set_title('[mrad]')\n",
    "    #c_bars[1].ax.yaxis.set_major_formatter(ticker.PercentFormatter(xmax=1))\n",
    "    \n",
    "    for ax in axis:\n",
    "        ax.xaxis.set_major_locator(ticker.MaxNLocator(nbins = 'auto', prune=None))\n",
    "        ax.yaxis.set_major_locator(ticker.MaxNLocator(nbins = 'auto', prune=None))\n",
    "    #for c_bar in c_bars:\n",
    "     #   c_bar.ax.yaxis.set_major_locator(ticker.MaxNLocator(nbins = 'auto', prune=None))\n",
    "    plt.tight_layout()  \n",
    "\n"
   ]
  },
  {
   "cell_type": "code",
   "execution_count": 60,
   "metadata": {
    "ExecuteTime": {
     "end_time": "2018-08-24T14:29:21.443798Z",
     "start_time": "2018-08-24T14:29:21.436708Z"
    },
    "code_folding": []
   },
   "outputs": [],
   "source": [
    "def plot_det(cmap, figsize, base_noise_acc, exp_with_noise, exp_noise_acc):\n",
    "    exp_fig, axis = plt.subplots(1, 3, figsize=figsize)\n",
    "    ax_ref_acc, ax_ex_noise, ax_ex_acc = axis\n",
    "\n",
    "    ax_ref_acc.set_title('Reference image, \\n accumulated ... times.')\n",
    "    ax_ex_noise.set_title('Signal with added noise.')\n",
    "    ax_ex_acc.set_title('Accumulated noisy signal')\n",
    "    # Image boundaries, used for correct ticks labeling:\n",
    "    edges = (experiment.sim.ta_x_s, experiment.sim.ta_x_e,\n",
    "             experiment.sim.ta_y_s, experiment.sim.ta_y_e)\n",
    "    ax_ref_acc.imshow(base_noise_acc, extent=edges, cmap=cmap)\n",
    "    ax_ex_noise.imshow(exp_with_noise, extent=edges, cmap=cmap)\n",
    "    ax_ex_acc.imshow(exp_noise_acc, extent=edges, cmap=cmap)\n",
    "    \n",
    "    c_bars = [None] * 3\n",
    "    for ax in axis:\n",
    "        # Add colorbars:\n",
    "        exp_fig.colorbar(ax.images[0], ax = ax, format = ticker.StrMethodFormatter('{x:.1e}'))\n",
    "    plt.tight_layout()    "
   ]
  },
  {
   "cell_type": "code",
   "execution_count": 95,
   "metadata": {
    "ExecuteTime": {
     "end_time": "2018-08-24T14:55:59.870002Z",
     "start_time": "2018-08-24T14:55:59.838406Z"
    }
   },
   "outputs": [
    {
     "data": {
      "text/plain": [
       "array([ 6.62272371e-03,  6.39058767e-02,  4.41671995e-02,  2.53622638e-02,\n",
       "        3.38006768e-02, -5.28335428e-02, -6.94227980e-02, -1.72805480e-02,\n",
       "        7.96599438e-02,  4.65372953e-02,  1.13893152e-02,  8.74299974e-02,\n",
       "        2.88145623e-03,  3.31476129e-02,  2.12795369e-02, -5.06459831e-02,\n",
       "       -2.16831530e-02,  2.63552267e-02,  4.01507683e-02, -1.01706492e-02,\n",
       "       -2.18197277e-02, -5.22983307e-03,  1.34604059e-02,  8.21968599e-02,\n",
       "        5.68443573e-02,  2.40240585e-02,  3.85187180e-02, -2.00868517e-02,\n",
       "        2.77705088e-03, -4.62555594e-02, -1.70398212e-02,  1.67202769e-02,\n",
       "        8.21556297e-03, -2.87648081e-02, -1.70737918e-02,  3.10148145e-02,\n",
       "       -3.30652216e-02,  4.83709935e-02,  4.99567438e-02,  8.64938802e-03,\n",
       "        8.40855557e-02,  1.77424184e-02,  6.27417769e-02,  8.80070072e-02,\n",
       "        9.74775902e-03,  4.23726332e-03,  4.40246626e-03,  1.00258168e-03,\n",
       "       -7.92357891e-03,  1.41148969e-02, -4.88146309e-02, -1.63389882e-02,\n",
       "       -7.08268543e-03,  5.73266496e-02,  1.30000250e-02,  3.13834966e-02,\n",
       "        1.46270641e-02,  3.48537049e-02,  1.02078602e-01,  2.19173557e-02,\n",
       "        4.28047376e-02,  7.92955006e-02, -4.16696874e-02,  3.95311796e-03,\n",
       "       -1.50416075e-03,  3.48954400e-02, -2.91548418e-03,  2.39711681e-02,\n",
       "        4.84803417e-03, -5.15238364e-04,  2.99736263e-02, -1.97084801e-02,\n",
       "       -2.64485478e-03, -2.21993663e-03,  7.89434640e-03,  3.13589471e-04,\n",
       "        1.17267497e-01,  4.08616092e-02,  6.32757833e-03,  7.70565752e-02,\n",
       "       -6.60731346e-02,  1.19037388e-02, -9.29372550e-03,  5.65901754e-03,\n",
       "        1.08495584e-02, -7.98649504e-03, -1.10927624e-02, -3.79357030e-02,\n",
       "       -1.35908723e-02, -1.20992191e-02, -3.09166954e-02, -2.76067014e-02,\n",
       "        1.22241018e-02,  1.14463558e-02,  9.59133917e-02, -3.40961747e-02,\n",
       "        8.22760242e-03,  8.29553656e-02,  4.33288112e-02,  3.80528966e-02,\n",
       "        2.17717042e-02,  2.35147684e-02, -4.40989384e-03,  7.85050589e-03,\n",
       "        1.63803605e-02,  2.39358093e-02, -1.69006645e-02, -7.14902472e-03,\n",
       "       -2.16722663e-02, -1.65916424e-02,  1.67892358e-03, -3.21181421e-03,\n",
       "        1.22111074e-01,  2.18105607e-02,  7.48972289e-03,  7.23011236e-02,\n",
       "       -4.20545499e-02, -1.08194879e-02, -1.71836357e-02,  4.01726359e-02,\n",
       "        7.85636803e-03, -1.55444989e-02,  3.17387238e-02,  6.62751590e-03,\n",
       "       -1.36817847e-02,  1.21704846e-02,  2.30282649e-02,  2.08393550e-02,\n",
       "        1.38633059e-02,  2.02063486e-02,  1.27124592e-01,  2.46716116e-02,\n",
       "        5.07646229e-02,  8.03240283e-02, -1.06977576e-02,  9.37902669e-04,\n",
       "       -1.27476695e-02,  5.93684700e-03,  1.18056349e-02,  3.02025339e-03,\n",
       "       -1.30825036e-02, -7.35717092e-03, -6.73544245e-03,  4.01619661e-02,\n",
       "       -8.98479243e-04,  2.78288461e-03, -1.72775642e-02, -3.71600466e-02,\n",
       "        1.13866175e-01,  6.92281286e-02, -7.57886277e-04,  5.74827931e-02,\n",
       "       -2.25591808e-03,  4.27133928e-02,  2.94775723e-02, -2.20883862e-02,\n",
       "        6.94562381e-03,  8.27151243e-03,  2.71215328e-02,  2.23734303e-02,\n",
       "        1.35734687e-02, -3.96534491e-02,  1.17477724e-02, -1.65496196e-02,\n",
       "       -1.75236104e-02,  2.77951862e-02,  1.22077881e-01,  3.95045735e-02,\n",
       "        4.50044584e-02,  5.41910787e-02,  1.30922511e-02, -2.01099276e-02,\n",
       "        1.36317288e-02, -1.13181693e-02,  4.48414605e-02,  1.53034865e-02,\n",
       "       -1.40355344e-03, -1.32931462e-02,  2.15325935e-02,  3.16722661e-02,\n",
       "       -3.90287732e-02,  7.74160746e-03, -1.75820326e-02,  1.83373214e-02,\n",
       "        1.51125480e-01,  5.02931878e-02,  6.18037788e-02,  7.96183366e-02,\n",
       "       -1.34369701e-02,  2.54953717e-02,  2.01106665e-03,  2.36683505e-02,\n",
       "        1.48838832e-02,  2.18315608e-02,  2.48611487e-02,  5.00070364e-03,\n",
       "       -1.99476309e-02, -1.68048537e-02, -1.39793584e-03, -1.31052915e-02,\n",
       "        1.91965952e-02, -2.03913508e-02,  1.44274156e-01,  4.60007613e-02,\n",
       "        5.73597681e-02,  8.34191162e-02,  1.07533939e-02,  3.90146673e-02,\n",
       "       -5.06958796e-03,  2.30483069e-03, -3.93428639e-02, -1.92854978e-02,\n",
       "       -2.44371699e-02,  4.54894909e-03, -3.24322333e-02, -3.26136420e-03,\n",
       "       -2.55960388e-02, -3.04513320e-02,  2.43464002e-02,  1.84472808e-03,\n",
       "        1.42956302e-01,  5.25082496e-02,  3.49005335e-02,  1.00515421e-01,\n",
       "       -2.65551475e-02, -1.42607743e-02, -1.37477207e-02, -1.36829916e-02,\n",
       "        9.56262044e-03, -9.81042884e-03, -1.46248064e-02, -8.30227089e-03,\n",
       "        5.63242449e-04,  2.89348997e-03, -2.01617606e-02, -7.54715082e-03,\n",
       "       -1.56978734e-03, -3.06474149e-03,  1.00220107e-01,  7.26246077e-02,\n",
       "        7.49761481e-02,  8.39393456e-02, -1.02157025e-02, -1.86463336e-02,\n",
       "        4.42842458e-03, -2.02663589e-02, -1.26607076e-02,  1.94456387e-02,\n",
       "        1.89219493e-02,  1.16266768e-02,  3.53351244e-04,  6.89256113e-03,\n",
       "       -1.16078307e-02,  2.47913087e-02, -2.53556870e-02, -4.49898792e-06,\n",
       "        8.75534685e-02,  7.85462434e-02,  8.37029382e-02,  8.94288861e-02,\n",
       "        2.36901384e-02, -2.02463675e-02,  9.91596622e-03,  9.80861452e-03,\n",
       "        8.55795156e-03,  1.21706949e-03, -3.34143177e-03, -1.82520360e-02,\n",
       "        4.82244104e-03, -3.27007720e-02, -5.35402157e-02, -2.02509636e-02,\n",
       "       -8.44291048e-03,  1.41173311e-02,  7.88909386e-02,  3.93792516e-02,\n",
       "        5.22512237e-02,  1.00212736e-01, -8.64941284e-03,  1.77882489e-02,\n",
       "        1.24847610e-02,  3.92580810e-03, -3.43235452e-02,  5.22958263e-03,\n",
       "        2.78428557e-02,  1.84664485e-02,  1.42631727e-03,  7.71062676e-03,\n",
       "       -5.75900885e-03, -7.04140809e-03, -1.54196385e-02, -1.70989919e-02,\n",
       "        4.65339617e-02,  4.51599983e-02, -2.16585494e-02,  1.89677274e-02,\n",
       "        1.01464919e-02, -4.44360087e-03,  2.23165768e-02, -1.42533286e-03,\n",
       "       -6.05074441e-03, -2.80306498e-03,  1.00377823e-02,  2.06496015e-02,\n",
       "        1.05297026e-02, -1.27491021e-02, -4.67109274e-03, -1.80552755e-02,\n",
       "       -2.52698178e-02, -1.41602211e-02,  3.75945874e-02,  2.13732306e-03,\n",
       "       -7.42953049e-03,  2.43589774e-03,  1.54885919e-04, -7.75311783e-03,\n",
       "       -1.17047614e-02,  1.94549067e-02,  1.99736039e-03,  1.78739547e-03,\n",
       "        1.27911762e-02, -1.01563686e-02, -1.86914394e-02,  9.88270500e-04,\n",
       "       -1.98958905e-02,  1.53076548e-02,  9.68763169e-03, -1.22661820e-02,\n",
       "       -3.58240917e-03, -2.04146543e-02, -3.20339721e-02,  1.29628753e-02,\n",
       "       -1.45911242e-02, -6.04099532e-03, -1.50490362e-02,  1.86631177e-02,\n",
       "       -1.05361193e-02, -5.59047672e-03, -1.81191912e-02, -1.69247181e-02,\n",
       "        6.28871411e-03,  3.06723544e-02,  2.94962977e-03, -2.01737578e-03,\n",
       "        3.05331204e-02,  3.53155108e-02,  8.07995592e-03,  2.46011166e-02,\n",
       "       -6.73105218e-03, -2.05034671e-02,  1.13127179e-02, -1.05677209e-02,\n",
       "       -1.38594573e-02,  5.01498930e-03,  3.33172060e-02,  7.25737372e-03,\n",
       "       -2.52728641e-02, -1.27943721e-02, -1.32518303e-02,  5.11184918e-02,\n",
       "       -3.12658849e-02,  1.25086542e-02, -3.26499333e-03,  2.09796325e-03,\n",
       "       -1.68841237e-02, -1.21537124e-03,  5.83123632e-03,  3.32829288e-03,\n",
       "        2.02837859e-02,  1.55229113e-02,  1.07477201e-02,  2.29270517e-02,\n",
       "       -2.45165313e-02,  3.27891742e-04, -8.52601677e-03, -9.76528338e-03,\n",
       "       -1.52981184e-02,  3.24112863e-02, -1.10357381e-02,  1.18258030e-03,\n",
       "       -2.03284415e-02,  2.00157482e-03, -8.48699593e-03, -1.60993393e-02,\n",
       "       -1.96073186e-02, -2.48644656e-02, -7.53033568e-03,  2.53022513e-02,\n",
       "        5.88742699e-03,  9.41489259e-03,  1.32986721e-02, -2.71232980e-02,\n",
       "        1.84504050e-02, -2.17321600e-02, -1.65043978e-02,  1.07396855e-02,\n",
       "       -1.54874332e-02, -1.38860195e-02, -8.70322156e-03,  1.83713492e-02,\n",
       "       -4.40188032e-02, -1.86522558e-02,  1.60965806e-02, -4.46490910e-02,\n",
       "        8.17502150e-03,  3.75978366e-02,  9.02084713e-03,  3.46773123e-05,\n",
       "       -2.18749927e-02,  8.97137058e-03, -7.00332627e-03, -2.72523279e-02,\n",
       "       -8.55558455e-03,  1.97467684e-02,  2.53399592e-03, -1.85383351e-02,\n",
       "       -4.74890638e-03,  1.62114638e-02, -4.03872653e-02, -2.66776264e-02,\n",
       "        2.57500580e-02, -2.09031279e-02,  2.06820367e-02, -2.01807314e-03,\n",
       "       -1.67034310e-02, -1.44605959e-02,  1.18470306e-02,  3.62396377e-03,\n",
       "        5.75302804e-03, -2.17267661e-02,  2.61115406e-02,  2.92223076e-02,\n",
       "       -2.15604161e-02, -1.58947639e-03, -7.03526617e-03, -3.57498086e-02,\n",
       "       -9.45768858e-02, -3.97681056e-02, -7.11940863e-02, -7.14405567e-02,\n",
       "       -2.29527352e-02, -1.27941282e-03, -1.26190181e-02, -3.38999084e-04,\n",
       "        4.29934619e-03,  1.05368887e-02, -3.17408310e-02,  4.26498569e-02,\n",
       "       -3.72820990e-03,  2.78474402e-03, -2.36436267e-02, -9.75562338e-03,\n",
       "        7.90851824e-03,  8.23124519e-05, -9.40012500e-02, -5.16586338e-02,\n",
       "       -6.44596953e-02, -7.62484302e-02,  1.88284612e-02, -6.64246502e-03,\n",
       "       -9.07628358e-03, -2.35083093e-02, -1.37612280e-02,  1.12576968e-02,\n",
       "       -6.20438336e-03,  2.49317769e-02, -1.61128520e-02, -2.62674248e-04,\n",
       "       -9.25071265e-03, -6.60051104e-03,  5.15352409e-03, -7.75244678e-03,\n",
       "       -7.04570255e-02, -6.63771506e-02, -1.87328111e-02, -5.00071908e-02,\n",
       "       -1.65834310e-02,  2.95452752e-03,  3.28601791e-02, -1.44505395e-02,\n",
       "        8.03934444e-04,  7.38007724e-03,  1.04599193e-02,  1.34695057e-02,\n",
       "        1.52667777e-03, -8.73941720e-03, -2.76436040e-02,  1.80374037e-02,\n",
       "       -3.02099743e-02, -1.47831638e-02, -1.23584915e-01, -9.45019375e-03,\n",
       "       -2.40247625e-02, -6.09197160e-02,  5.91188152e-03, -9.73954619e-03,\n",
       "        1.83342569e-02,  1.54283522e-02,  1.15698287e-02, -1.45963102e-02,\n",
       "        7.31865659e-03, -5.65672435e-03, -3.30297211e-02, -3.59305343e-03,\n",
       "       -1.57991194e-02,  1.22116242e-02, -9.72627508e-03,  4.97388068e-03,\n",
       "       -1.51903225e-01, -6.33097764e-02, -4.05560441e-02, -8.90532421e-02,\n",
       "       -3.01699552e-02, -1.55728122e-02,  2.79261628e-02,  2.32300226e-04,\n",
       "       -1.60662907e-02, -1.61468661e-02, -3.12210803e-03, -1.52006956e-02,\n",
       "        3.29479115e-02,  2.21160704e-03, -1.62326441e-02, -1.81335553e-02,\n",
       "        1.08559127e-03,  4.33719013e-03, -1.71789549e-01, -4.51150568e-02,\n",
       "       -7.59187892e-02, -5.64197715e-02,  1.65373042e-03, -4.74342708e-04,\n",
       "       -1.85662761e-02, -1.26887800e-02,  3.30657062e-03,  1.17346849e-02,\n",
       "        4.21803888e-02,  4.19284781e-03, -3.53005978e-02,  2.26866178e-02,\n",
       "        3.73598948e-02,  1.69617307e-02,  2.12959822e-02, -2.76027073e-03,\n",
       "       -1.13460925e-01, -7.80651119e-02, -3.76937897e-02, -5.45447664e-02,\n",
       "        5.87118418e-05,  2.24680964e-04,  9.14883488e-03,  1.75432913e-02,\n",
       "        1.93098930e-03, -7.29680681e-03, -8.71428255e-03,  4.99441994e-03,\n",
       "       -3.01317514e-02, -1.28941384e-02,  1.79602138e-02, -2.81022273e-02,\n",
       "       -2.99274161e-02,  4.27194554e-03, -1.19596556e-01, -2.17708896e-02,\n",
       "       -6.32268609e-02, -7.77950244e-02,  1.42272626e-02, -2.63582082e-03,\n",
       "        1.85520517e-02, -1.32780778e-02,  8.81648008e-03,  2.87928166e-02,\n",
       "       -3.33467561e-03, -2.38272203e-02, -2.84335890e-02,  3.27474885e-03,\n",
       "        2.87654077e-02,  7.76628707e-03, -1.66327860e-02,  7.05420429e-03,\n",
       "       -9.23896704e-02, -6.17275759e-02, -2.97115129e-02, -7.70786045e-02,\n",
       "       -2.13180361e-02, -4.70215039e-03,  3.19662014e-02, -2.78934469e-03,\n",
       "        8.05028926e-03,  6.28495033e-03,  8.45431541e-03, -1.34684101e-03,\n",
       "        8.46423390e-03, -1.03391156e-02,  1.34298495e-02, -1.41054920e-02,\n",
       "        2.21522054e-02, -5.46613844e-03, -9.73055021e-02, -7.15723365e-02,\n",
       "       -4.71128438e-02, -1.05624216e-01, -1.89427111e-02, -8.79816609e-03,\n",
       "        4.85057767e-03, -1.65848644e-03,  4.45846427e-02, -1.90501002e-02,\n",
       "       -4.15596983e-02, -2.50670769e-02, -2.08223222e-02,  8.93127494e-03,\n",
       "       -9.38190618e-03, -1.39808884e-02,  3.12022233e-02, -2.11418457e-02,\n",
       "       -6.73585775e-02, -5.19773709e-02, -6.42308619e-02, -7.80437284e-02,\n",
       "       -3.90612117e-02,  1.36667916e-02, -4.78278058e-02,  3.41079734e-02,\n",
       "        7.81369096e-03,  1.25656337e-02,  7.22630069e-03, -1.22323629e-02,\n",
       "       -2.69210260e-02, -3.23645122e-02,  2.10005776e-02, -2.59440493e-02,\n",
       "        2.50712179e-02, -1.90154860e-02, -8.80137859e-02, -1.01824149e-02,\n",
       "       -2.97772606e-02, -1.01425429e-01, -2.44930020e-02,  5.94488194e-03,\n",
       "        2.39730318e-02, -4.70900557e-03, -5.61242237e-03, -3.35600826e-02,\n",
       "        2.53225010e-02,  5.18445303e-03, -3.16896218e-02,  2.58372739e-03,\n",
       "       -3.60590901e-02, -2.99869981e-02,  5.73896981e-03, -4.15909827e-02,\n",
       "       -8.90764484e-02,  2.09220138e-02,  2.79386206e-03, -1.06531950e-01,\n",
       "       -1.30264563e-02, -3.36824028e-02,  1.23646715e-02,  2.38771104e-02,\n",
       "       -1.50768669e-02, -1.12453610e-02,  1.01150371e-02, -3.72178758e-02,\n",
       "        1.98198075e-02,  3.37495159e-02, -8.73740667e-03, -1.35770381e-04,\n",
       "       -5.31241698e-02, -1.52876645e-02, -7.19114555e-02,  1.54121746e-02,\n",
       "       -3.90047887e-02, -4.75012809e-02,  3.96072502e-03,  2.88445326e-02,\n",
       "        2.88402352e-02, -7.47324242e-03, -1.41451402e-02,  1.46756814e-02,\n",
       "       -8.46392183e-04,  1.22270424e-02,  1.64219053e-02, -8.78092979e-03,\n",
       "        2.60587011e-02,  3.00952905e-02, -2.12551565e-02, -1.63083165e-02,\n",
       "       -8.32144692e-02,  3.26964504e-02, -4.83240430e-02, -4.11396195e-02,\n",
       "       -1.51760343e-03,  8.37229007e-03,  1.98340340e-02,  7.76183624e-03,\n",
       "        2.53171082e-02,  7.10883986e-02, -4.48384232e-02,  4.52444110e-02,\n",
       "       -4.41593629e-02,  4.74612039e-02,  1.62908969e-02, -1.23011620e-02,\n",
       "       -2.93281908e-02,  4.52954032e-03, -3.92005778e-02, -7.35072663e-02,\n",
       "        2.22200748e-02, -4.64714309e-02, -1.17348003e-02,  3.29554832e-04,\n",
       "        8.71545487e-03, -5.48147936e-02, -7.69614911e-02, -1.90394331e-02,\n",
       "       -7.89827260e-03, -6.23634572e-03])"
      ]
     },
     "execution_count": 95,
     "metadata": {},
     "output_type": "execute_result"
    }
   ],
   "source": [
    "mask1 =  base_noise_acc > 1000000\n",
    "mask2 = exp_with_noise > 1000\n",
    "mask = mask1* mask2\n",
    "mask\n",
    "rot[mask]"
   ]
  },
  {
   "cell_type": "code",
   "execution_count": 62,
   "metadata": {
    "ExecuteTime": {
     "end_time": "2018-08-24T14:29:25.199551Z",
     "start_time": "2018-08-24T14:29:23.936777Z"
    },
    "scrolled": false
   },
   "outputs": [
    {
     "data": {
      "image/png": "[encoded data removed]",
      "text/plain": [
       "<Figure size 1080x576 with 6 Axes>"
      ]
     },
     "metadata": {},
     "output_type": "display_data"
    }
   ],
   "source": [
    "plot_rot(cmap_rotation_all, (15,8), experiment.rotation, experiment.intensity_px, rot)"
   ]
  },
  {
   "cell_type": "code",
   "execution_count": 63,
   "metadata": {
    "ExecuteTime": {
     "end_time": "2018-08-24T14:29:37.860109Z",
     "start_time": "2018-08-24T14:29:36.586630Z"
    }
   },
   "outputs": [
    {
     "data": {
      "image/png": "[encoded data removed]",
      "text/plain": [
       "<Figure size 1080x576 with 6 Axes>"
      ]
     },
     "metadata": {},
     "output_type": "display_data"
    }
   ],
   "source": [
    "plot_rot(cmap_rotation_extrema, (15,8), experiment.rotation, experiment.intensity_px, rot)"
   ]
  },
  {
   "cell_type": "code",
   "execution_count": 64,
   "metadata": {
    "ExecuteTime": {
     "end_time": "2018-08-24T14:29:41.857395Z",
     "start_time": "2018-08-24T14:29:41.174261Z"
    },
    "scrolled": false
   },
   "outputs": [
    {
     "data": {
      "image/png": "[encoded data removed]",
      "text/plain": [
       "<Figure size 1080x576 with 6 Axes>"
      ]
     },
     "metadata": {},
     "output_type": "display_data"
    }
   ],
   "source": [
    "plot_det(cmap_beam_profile, (15,8), base_noise_acc, exp_with_noise, exp_noise_acc)"
   ]
  },
  {
   "cell_type": "code",
   "execution_count": null,
   "metadata": {},
   "outputs": [],
   "source": []
  },
  {
   "cell_type": "code",
   "execution_count": null,
   "metadata": {},
   "outputs": [],
   "source": []
  },
  {
   "cell_type": "code",
   "execution_count": null,
   "metadata": {},
   "outputs": [],
   "source": []
  },
  {
   "cell_type": "code",
   "execution_count": null,
   "metadata": {},
   "outputs": [],
   "source": []
  }
 ],
 "metadata": {
  "celltoolbar": "Raw Cell Format",
  "kernelspec": {
   "display_name": "Python 3",
   "language": "python",
   "name": "python3"
  },
  "language_info": {
   "codemirror_mode": {
    "name": "ipython",
    "version": 3
   },
   "file_extension": ".py",
   "mimetype": "text/x-python",
   "name": "python",
   "nbconvert_exporter": "python",
   "pygments_lexer": "ipython3",
   "version": "3.6.6"
  }
 },
 "nbformat": 4,
 "nbformat_minor": 2
}
