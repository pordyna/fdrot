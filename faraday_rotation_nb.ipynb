{
 "cells": [
  {
   "cell_type": "code",
   "execution_count": null,
   "metadata": {},
   "outputs": [],
   "source": [
    "import faraday_rotation as fr\n",
    "import matplotlib.pyplot as plt\n",
    "from  matplotlib import ticker\n",
    "import numpy as np"
   ]
  },
  {
   "cell_type": "code",
   "execution_count": null,
   "metadata": {},
   "outputs": [],
   "source": [
    "#%qtconsole"
   ]
  },
  {
   "cell_type": "code",
   "execution_count": null,
   "metadata": {},
   "outputs": [],
   "source": [
    "# target settings:\n",
    "target_settings = {\n",
    "    'x_s': 0,  # start position in x direction, in micron\n",
    "    'x_e': 7.2,  # end position in x direction, in micron\n",
    "    'y_s': -13.5,  # start in y direction, in micron\n",
    "    'y_e': 13.5,  # end in y direction, in micron\n",
    "    'trans': 0.72 #target transmission\n",
    "}"
   ]
  },
  {
   "cell_type": "code",
   "execution_count": null,
   "metadata": {},
   "outputs": [],
   "source": [
    "# target = fr.Target(**target_settings)"
   ]
  },
  {
   "cell_type": "code",
   "execution_count": null,
   "metadata": {},
   "outputs": [],
   "source": [
    "# simulation settings:\n",
    "simulation_settings = {\n",
    "    'm': 1801,  # Nx: grid number in x direction\n",
    "    'n': 6040,  # Ny: grid number if y direction, MUST be an even number\n",
    "    'timestep': 16, # Number of time steps in the simulation.\n",
    "    'energy': 6.457  # Photon energy in keV of processed simulation file.\n",
    "}\n",
    "\n",
    "simulation = fr.Simulation(fr.Target(**target_settings), **simulation_settings)"
   ]
  },
  {
   "cell_type": "code",
   "execution_count": null,
   "metadata": {},
   "outputs": [],
   "source": [
    "# optical setup:\n",
    "\n",
    "#Transmission of all channelcuts including spectral bandwidth.\n",
    "trans_channel = 0.43*0.6/0.8 \n",
    "\n",
    "config_settings = {\n",
    "    'an_position': 10, # analyzer position (mrad)\n",
    "    'impurity': 1e-5,  # polarization impurity\n",
    "    'an_extinction': 2e-7,  # analyzer extinction\n",
    "    'det_obs_energy': 6.457, # observation energy\n",
    "    'det_trans_channel': trans_channel, # as above\n",
    "    'det_pixel_size': 13,  # pixel size in micrometer\n",
    "    'det_beam_width': 320,  # beam_width in micrometer\n",
    "    'n_0': 1e12,  # initial number of photons\n",
    "    'm': 30,  # magnification\n",
    "    'trans_telescope': 1  # Transmission of CRLs due to beam size\n",
    "        # mismatch (asymmetry).\n",
    "}\n",
    "\n",
    "config = fr.Configuration(**config_settings)"
   ]
  },
  {
   "cell_type": "code",
   "execution_count": null,
   "metadata": {},
   "outputs": [],
   "source": [
    "# load simulation data:\n",
    "path_to_file = \"rotation_data/Rotation_16.dat\"\n",
    "#simulation.load_data(path=path_to_file)"
   ]
  },
  {
   "cell_type": "code",
   "execution_count": null,
   "metadata": {},
   "outputs": [],
   "source": [
    "#np.save('sim', simulation.data)"
   ]
  },
  {
   "cell_type": "code",
   "execution_count": null,
   "metadata": {},
   "outputs": [],
   "source": [
    "\n",
    "simulation.data = np.load('sim.npy')"
   ]
  },
  {
   "cell_type": "code",
   "execution_count": null,
   "metadata": {
    "scrolled": true
   },
   "outputs": [],
   "source": [
    "experiment = fr.Detection(config, simulation)"
   ]
  },
  {
   "cell_type": "code",
   "execution_count": null,
   "metadata": {},
   "outputs": [],
   "source": [
    "experiment.calc_rotation()"
   ]
  },
  {
   "cell_type": "code",
   "execution_count": null,
   "metadata": {},
   "outputs": [],
   "source": [
    "experiment.calc_det_shape()"
   ]
  },
  {
   "cell_type": "code",
   "execution_count": null,
   "metadata": {},
   "outputs": [],
   "source": [
    "experiment.emulate_intensity()"
   ]
  },
  {
   "cell_type": "code",
   "execution_count": null,
   "metadata": {},
   "outputs": [],
   "source": [
    "experiment.cfg.calc_ph_per_px_on_axis()"
   ]
  },
  {
   "cell_type": "code",
   "execution_count": null,
   "metadata": {},
   "outputs": [],
   "source": [
    "experiment.calc_beam_profile()"
   ]
  },
  {
   "cell_type": "markdown",
   "metadata": {},
   "source": [
    "Displaying meany images with a common norm. (One colorbar, comparable; multiply some if the range is to wide)\n",
    "Look here: https://matplotlib.org/gallery/images_contours_and_fields/multi_image.html "
   ]
  },
  {
   "cell_type": "code",
   "execution_count": null,
   "metadata": {},
   "outputs": [],
   "source": [
    "experiment.ideal_detector = experiment.beam_profile*experiment.intensity_px"
   ]
  },
  {
   "cell_type": "code",
   "execution_count": null,
   "metadata": {},
   "outputs": [],
   "source": [
    "exp_with_noise = experiment.add_noise(accumulation=1)"
   ]
  },
  {
   "cell_type": "code",
   "execution_count": null,
   "metadata": {},
   "outputs": [],
   "source": []
  },
  {
   "cell_type": "code",
   "execution_count": null,
   "metadata": {},
   "outputs": [],
   "source": [
    "exp_noise_acc = experiment.add_noise(accumulation = 30)"
   ]
  },
  {
   "cell_type": "code",
   "execution_count": null,
   "metadata": {},
   "outputs": [],
   "source": [
    "base_noise_acc = experiment.add_noise(accumulation=30, image=experiment.beam_profile)"
   ]
  },
  {
   "cell_type": "code",
   "execution_count": null,
   "metadata": {},
   "outputs": [],
   "source": [
    "rot = experiment.reobtain_rotation(exp_noise_acc, base_noise_acc)"
   ]
  },
  {
   "cell_type": "markdown",
   "metadata": {},
   "source": [
    "Plots:"
   ]
  },
  {
   "cell_type": "code",
   "execution_count": null,
   "metadata": {},
   "outputs": [],
   "source": [
    "%matplotlib inline"
   ]
  },
  {
   "cell_type": "code",
   "execution_count": null,
   "metadata": {},
   "outputs": [],
   "source": [
    "rot_fig, axis = plt.subplots(1, 3, figsize=(15,8))\n",
    "ax_rot_sim, ax_rot_sim_px, ax_rot_exp = axis\n",
    "\n",
    "ax_rot_sim.set_title('Simulated rotation')\n",
    "ax_rot_sim_px.set_title('Analyzer intensity profile')\n",
    "ax_rot_exp.set_title('Reobtained rotation')\n",
    "\n",
    "# Image boundaries, used for correct ticks labeling:\n",
    "edges = (experiment.sim.target.x_s, experiment.sim.target.x_e,\n",
    "         experiment.sim.target.y_s, experiment.sim.target.y_e)\n",
    "\n",
    "ax_rot_sim.imshow(experiment.rotation, extent=edges)\n",
    "ax_rot_sim_px.imshow(experiment.intensity_px, extent=edges)\n",
    "ax_rot_exp.imshow(rot, extent=edges)\n",
    "\n",
    "for ax in axis:\n",
    "    rot_fig.colorbar(ax.images[0], ax = ax)\n",
    "    \n",
    "plt.tight_layout()    "
   ]
  },
  {
   "cell_type": "code",
   "execution_count": null,
   "metadata": {},
   "outputs": [],
   "source": [
    "exp_fig, axis = plt.subplots(1, 3, figsize=(18,10))\n",
    "ax_ref_acc, ax_ex_noise, ax_ex_acc = axis\n",
    "\n",
    "ax_ref_acc.set_title('Reference image, accumulated ... times.')\n",
    "ax_ex_noise.set_title('Signal with added noise.')\n",
    "ax_ex_acc.set_title('Accumulated noisy signal')\n",
    "# Image boundaries, used for correct ticks labeling:\n",
    "edges = (experiment.sim.target.x_s, experiment.sim.target.x_e,\n",
    "         experiment.sim.target.y_s, experiment.sim.target.y_e)\n",
    "ax_ref_acc.imshow(base_noise_acc, extent=edges)\n",
    "ax_ex_noise.imshow(exp_with_noise, extent=edges)\n",
    "ax_ex_acc.imshow(exp_noise_acc, extent=edges)\n",
    "\n",
    "for ax in axis:\n",
    "    # Add colorbars:\n",
    "    exp_fig.colorbar(ax.images[0], ax = ax)\n",
    "plt.tight_layout()    "
   ]
  },
  {
   "cell_type": "code",
   "execution_count": null,
   "metadata": {},
   "outputs": [],
   "source": [
    "ticks_formater_cells_x(val, pos):\n",
    "    "
   ]
  },
  {
   "cell_type": "code",
   "execution_count": null,
   "metadata": {},
   "outputs": [],
   "source": [
    "fr.Simulation?"
   ]
  },
  {
   "cell_type": "code",
   "execution_count": null,
   "metadata": {},
   "outputs": [],
   "source": [
    "a= ax_ref_acc.images[0]"
   ]
  },
  {
   "cell_type": "code",
   "execution_count": null,
   "metadata": {},
   "outputs": [],
   "source": [
    "a.convert_xunits?"
   ]
  },
  {
   "cell_type": "code",
   "execution_count": null,
   "metadata": {},
   "outputs": [],
   "source": []
  }
 ],
 "metadata": {
  "celltoolbar": "Raw Cell Format",
  "kernelspec": {
   "display_name": "Python 3",
   "language": "python",
   "name": "python3"
  },
  "language_info": {
   "codemirror_mode": {
    "name": "ipython",
    "version": 3
   },
   "file_extension": ".py",
   "mimetype": "text/x-python",
   "name": "python",
   "nbconvert_exporter": "python",
   "pygments_lexer": "ipython3",
   "version": "3.6.6"
  }
 },
 "nbformat": 4,
 "nbformat_minor": 2
}
